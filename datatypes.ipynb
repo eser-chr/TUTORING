{
 "cells": [
  {
   "cell_type": "code",
   "execution_count": 13,
   "metadata": {},
   "outputs": [
    {
     "name": "stdout",
     "output_type": "stream",
     "text": [
      "<class 'int'>\n",
      "<class 'float'>\n",
      "<class 'bool'>\n",
      "<class 'str'>\n",
      "\n",
      "<class 'list'>\n",
      "<class 'int'>\n",
      "\n",
      "<class 'dict'>\n",
      "<class 'dict_keys'>\n",
      "<class 'str'>\n",
      "\n",
      "<class 'set'>\n"
     ]
    }
   ],
   "source": [
    "# There are the following important datatypes\n",
    "\n",
    "# int\n",
    "x = 1\n",
    "print(type(x))\n",
    "\n",
    "# float\n",
    "y = 1.0\n",
    "print(type(y))\n",
    "\n",
    "# bool\n",
    "condition = True\n",
    "print(type(condition))\n",
    "\n",
    "\n",
    "# str\n",
    "name = \"Chris\"\n",
    "print(type(name))\n",
    "\n",
    "\n",
    "print()\n",
    "\n",
    "# list\n",
    "numbers = [1,2,3]\n",
    "print(type(numbers))\n",
    "print(type(numbers[0]))\n",
    "print()\n",
    "\n",
    "# dict\n",
    "paths = {\"pdf_file\":\"./example.pdf\", \"lists\":\"./lists.ipynb\"}\n",
    "print(type(paths))\n",
    "print(type(paths.keys()))\n",
    "print(type(paths[\"lists\"]))\n",
    "print()\n",
    "\n",
    "# set\n",
    "s = {1,2,3,4}\n",
    "print(type(s))\n",
    "\n",
    "# tuple\n",
    "s=(1,2,3)\n",
    "print(type(s))\n"
   ]
  },
  {
   "cell_type": "code",
   "execution_count": 3,
   "metadata": {},
   "outputs": [
    {
     "name": "stdout",
     "output_type": "stream",
     "text": [
      "<class 'set'>\n",
      "{1, 2, 3, 4}\n"
     ]
    }
   ],
   "source": [
    "# You cannot subscribe a set\n",
    "# set\n",
    "s = {1,2,3,3, 4}\n",
    "print(type(s))\n",
    "# s[0] # is forbitten\n",
    "print(s)"
   ]
  },
  {
   "cell_type": "code",
   "execution_count": 4,
   "metadata": {},
   "outputs": [
    {
     "data": {
      "text/plain": [
       "{1, 2, 3, 4}"
      ]
     },
     "execution_count": 4,
     "metadata": {},
     "output_type": "execute_result"
    }
   ],
   "source": [
    "A = [1,2,3,3,3,4]\n",
    "set(A)"
   ]
  },
  {
   "cell_type": "code",
   "execution_count": 6,
   "metadata": {},
   "outputs": [
    {
     "name": "stdout",
     "output_type": "stream",
     "text": [
      "<class 'tuple'>\n"
     ]
    },
    {
     "data": {
      "text/plain": [
       "1"
      ]
     },
     "execution_count": 6,
     "metadata": {},
     "output_type": "execute_result"
    }
   ],
   "source": [
    "# tuple\n",
    "s=(1,2,3)\n",
    "print(type(s))\n",
    "s[0]"
   ]
  },
  {
   "cell_type": "code",
   "execution_count": null,
   "metadata": {},
   "outputs": [],
   "source": []
  },
  {
   "cell_type": "code",
   "execution_count": 1,
   "metadata": {},
   "outputs": [
    {
     "name": "stdout",
     "output_type": "stream",
     "text": [
      "<class 'float'>\n"
     ]
    }
   ],
   "source": [
    "# float\n",
    "y = 1.0\n",
    "print(type(y))\n",
    "\n",
    "# a) int, b) float, c) double, d) str"
   ]
  },
  {
   "cell_type": "code",
   "execution_count": null,
   "metadata": {},
   "outputs": [],
   "source": []
  }
 ],
 "metadata": {
  "kernelspec": {
   "display_name": "Python 3",
   "language": "python",
   "name": "python3"
  },
  "language_info": {
   "codemirror_mode": {
    "name": "ipython",
    "version": 3
   },
   "file_extension": ".py",
   "mimetype": "text/x-python",
   "name": "python",
   "nbconvert_exporter": "python",
   "pygments_lexer": "ipython3",
   "version": "3.11.6"
  }
 },
 "nbformat": 4,
 "nbformat_minor": 2
}
