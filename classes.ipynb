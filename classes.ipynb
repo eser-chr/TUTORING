{
 "cells": [
  {
   "cell_type": "code",
   "execution_count": 7,
   "metadata": {},
   "outputs": [],
   "source": [
    "# Define a base class with only one attribute and one method\n",
    "class Base:\n",
    "    def __init__(self, x):\n",
    "        self.x = x \n",
    "    \n",
    "    def print_x(self):\n",
    "        print(f\"The val is {self.x}\")\n",
    "\n",
    "\n",
    "# Define a derived class with an extra attribute (two in total) and one method\n",
    "# !!! The methods have the same name\n",
    "class Derived(Base):\n",
    "\n",
    "    def __init__(self, x,y):\n",
    "        super().__init__(x)\n",
    "        self.y = y\n",
    "\n",
    "    def print_x(self):\n",
    "        print(f\"The val is {self.x}, {self.y}\")\n"
   ]
  },
  {
   "cell_type": "code",
   "execution_count": null,
   "metadata": {},
   "outputs": [],
   "source": [
    "# Q1: Whats the difference between class and object?"
   ]
  },
  {
   "cell_type": "code",
   "execution_count": 8,
   "metadata": {},
   "outputs": [],
   "source": [
    "# Define two objects\n",
    "base = Base(5)\n",
    "derived = Derived(4,5)"
   ]
  },
  {
   "cell_type": "code",
   "execution_count": 35,
   "metadata": {},
   "outputs": [
    {
     "name": "stdout",
     "output_type": "stream",
     "text": [
      "The val is 5\n"
     ]
    }
   ],
   "source": [
    "base.print_x()"
   ]
  },
  {
   "cell_type": "code",
   "execution_count": 36,
   "metadata": {},
   "outputs": [
    {
     "name": "stdout",
     "output_type": "stream",
     "text": [
      "The val is 4, 5\n"
     ]
    }
   ],
   "source": [
    "derived.print_x()"
   ]
  },
  {
   "cell_type": "code",
   "execution_count": 41,
   "metadata": {},
   "outputs": [
    {
     "name": "stdout",
     "output_type": "stream",
     "text": [
      "The val is 4\n"
     ]
    }
   ],
   "source": [
    "super(Derived, derived).print_x()"
   ]
  },
  {
   "cell_type": "code",
   "execution_count": 42,
   "metadata": {},
   "outputs": [
    {
     "name": "stdout",
     "output_type": "stream",
     "text": [
      "The val is 4\n"
     ]
    }
   ],
   "source": [
    "Base.print_x(derived)"
   ]
  },
  {
   "cell_type": "code",
   "execution_count": 25,
   "metadata": {},
   "outputs": [
    {
     "name": "stdout",
     "output_type": "stream",
     "text": [
      "<class 'type'>\n",
      "<class 'type'>\n"
     ]
    }
   ],
   "source": [
    "print(type(Base))\n",
    "print(type(Derived))\n",
    "\n",
    "# No intresting output"
   ]
  },
  {
   "cell_type": "code",
   "execution_count": 26,
   "metadata": {},
   "outputs": [
    {
     "name": "stdout",
     "output_type": "stream",
     "text": [
      "<class '__main__.Base'>\n",
      "<class '__main__.Derived'>\n"
     ]
    }
   ],
   "source": [
    "print(type(base))\n",
    "print(type(derived))\n",
    "\n",
    "# The main indicates that we are on the main script. Not neccessary for the exams."
   ]
  },
  {
   "cell_type": "code",
   "execution_count": 29,
   "metadata": {},
   "outputs": [
    {
     "name": "stdout",
     "output_type": "stream",
     "text": [
      "True\n",
      "True\n"
     ]
    }
   ],
   "source": [
    "# That is important!!!\n",
    "\n",
    "# isinstance compares an object with a class.\n",
    "# If the object is a realization of a class it will return True if \n",
    "# I compare them. e.g\n",
    "print(isinstance(derived, Derived))\n",
    "print(isinstance(base, Base))\n",
    "\n"
   ]
  },
  {
   "cell_type": "code",
   "execution_count": 30,
   "metadata": {},
   "outputs": [
    {
     "name": "stdout",
     "output_type": "stream",
     "text": [
      "True\n"
     ]
    }
   ],
   "source": [
    "# However it will also return True if the object is a realization of a derived class and I compare it with the parent class. e.g\n",
    "\n",
    "\n",
    "print(isinstance(derived, Base))"
   ]
  },
  {
   "cell_type": "code",
   "execution_count": 32,
   "metadata": {},
   "outputs": [
    {
     "name": "stdout",
     "output_type": "stream",
     "text": [
      "False\n"
     ]
    }
   ],
   "source": [
    "# The opposite is not true\n",
    "\n",
    "print(isinstance(base, Derived))"
   ]
  },
  {
   "cell_type": "code",
   "execution_count": 34,
   "metadata": {},
   "outputs": [
    {
     "ename": "TypeError",
     "evalue": "isinstance() arg 2 must be a type, a tuple of types, or a union",
     "output_type": "error",
     "traceback": [
      "\u001b[0;31m---------------------------------------------------------------------------\u001b[0m",
      "\u001b[0;31mTypeError\u001b[0m                                 Traceback (most recent call last)",
      "Cell \u001b[0;32mIn[34], line 3\u001b[0m\n\u001b[1;32m      1\u001b[0m \u001b[38;5;66;03m# Be carefull about the syntax.\u001b[39;00m\n\u001b[0;32m----> 3\u001b[0m \u001b[38;5;28mprint\u001b[39m(\u001b[38;5;28;43misinstance\u001b[39;49m\u001b[43m(\u001b[49m\u001b[43mDerived\u001b[49m\u001b[43m,\u001b[49m\u001b[43m \u001b[49m\u001b[43mbase\u001b[49m\u001b[43m)\u001b[49m) \n\u001b[1;32m      5\u001b[0m \u001b[38;5;66;03m#will return an error\u001b[39;00m\n",
      "\u001b[0;31mTypeError\u001b[0m: isinstance() arg 2 must be a type, a tuple of types, or a union"
     ]
    }
   ],
   "source": [
    "# Be carefull about the syntax.\n",
    "\n",
    "print(isinstance(Derived, base)) \n",
    "\n",
    "# will return an error"
   ]
  },
  {
   "cell_type": "code",
   "execution_count": null,
   "metadata": {},
   "outputs": [],
   "source": []
  }
 ],
 "metadata": {
  "kernelspec": {
   "display_name": "Python 3",
   "language": "python",
   "name": "python3"
  },
  "language_info": {
   "codemirror_mode": {
    "name": "ipython",
    "version": 3
   },
   "file_extension": ".py",
   "mimetype": "text/x-python",
   "name": "python",
   "nbconvert_exporter": "python",
   "pygments_lexer": "ipython3",
   "version": "3.11.6"
  }
 },
 "nbformat": 4,
 "nbformat_minor": 2
}
