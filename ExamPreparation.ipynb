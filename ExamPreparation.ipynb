{
 "cells": [
  {
   "cell_type": "markdown",
   "metadata": {},
   "source": [
    "# Exam preparation\n",
    "\n",
    "## Basic Python operations\n",
    "\n",
    "### Arithmetic Operations"
   ]
  },
  {
   "cell_type": "code",
   "execution_count": 5,
   "metadata": {},
   "outputs": [
    {
     "name": "stdout",
     "output_type": "stream",
     "text": [
      "4\n",
      "12\n",
      "3.0\n",
      "0\n"
     ]
    }
   ],
   "source": [
    "a = 6\n",
    "b = 2\n",
    "print(a - b,\n",
    "      a * b,\n",
    "      a / b,\n",
    "      a % b, \n",
    "      sep=\"\\n\")"
   ]
  },
  {
   "cell_type": "markdown",
   "metadata": {},
   "source": [
    "### Exponentiation and Floor Division"
   ]
  },
  {
   "cell_type": "code",
   "execution_count": 6,
   "metadata": {},
   "outputs": [],
   "source": [
    "a = 2\n",
    "b = 3\n",
    "result_exp = a ** b  # 8 2^3\n",
    "\n",
    "a = 7\n",
    "b = 2\n",
    "result_floor_div = a // b  # 3"
   ]
  },
  {
   "cell_type": "code",
   "execution_count": 12,
   "metadata": {},
   "outputs": [
    {
     "data": {
      "text/plain": [
       "2.0"
      ]
     },
     "execution_count": 12,
     "metadata": {},
     "output_type": "execute_result"
    }
   ],
   "source": [
    "8.9//3 = "
   ]
  },
  {
   "cell_type": "code",
   "execution_count": 21,
   "metadata": {},
   "outputs": [
    {
     "data": {
      "text/plain": [
       "2.5"
      ]
     },
     "execution_count": 21,
     "metadata": {},
     "output_type": "execute_result"
    }
   ],
   "source": [
    "7.5000/3"
   ]
  },
  {
   "cell_type": "code",
   "execution_count": 19,
   "metadata": {},
   "outputs": [
    {
     "data": {
      "text/plain": [
       "2"
      ]
     },
     "execution_count": 19,
     "metadata": {},
     "output_type": "execute_result"
    }
   ],
   "source": [
    "round(7.5000/3)"
   ]
  },
  {
   "cell_type": "code",
   "execution_count": 15,
   "metadata": {},
   "outputs": [
    {
     "data": {
      "text/plain": [
       "2"
      ]
     },
     "execution_count": 15,
     "metadata": {},
     "output_type": "execute_result"
    }
   ],
   "source": [
    "int(8.9/3)"
   ]
  },
  {
   "cell_type": "code",
   "execution_count": 23,
   "metadata": {},
   "outputs": [
    {
     "data": {
      "text/plain": [
       "2.0"
      ]
     },
     "execution_count": 23,
     "metadata": {},
     "output_type": "execute_result"
    }
   ],
   "source": [
    "8 - 0.2"
   ]
  },
  {
   "cell_type": "code",
   "execution_count": null,
   "metadata": {},
   "outputs": [],
   "source": [
    "a=[1,2,3]\n",
    "\n",
    "for item in a:\n",
    "    item= 2.0 * item\n",
    "\n",
    "print(a)"
   ]
  },
  {
   "cell_type": "code",
   "execution_count": null,
   "metadata": {},
   "outputs": [],
   "source": [
    "[2.0, 4.0, 6.0]"
   ]
  },
  {
   "cell_type": "code",
   "execution_count": 29,
   "metadata": {},
   "outputs": [
    {
     "name": "stdout",
     "output_type": "stream",
     "text": [
      "[5, 2, 1]\n"
     ]
    }
   ],
   "source": [
    "a = [1,2,3,5]\n",
    "# a.pop(2)\n",
    "a.remove(3)\n",
    "\n",
    "a.reverse()\n",
    "print(a)"
   ]
  },
  {
   "cell_type": "code",
   "execution_count": null,
   "metadata": {},
   "outputs": [],
   "source": []
  },
  {
   "cell_type": "code",
   "execution_count": null,
   "metadata": {},
   "outputs": [],
   "source": []
  },
  {
   "cell_type": "markdown",
   "metadata": {},
   "source": [
    "### Bitwise operations"
   ]
  },
  {
   "cell_type": "code",
   "execution_count": 33,
   "metadata": {},
   "outputs": [
    {
     "name": "stdout",
     "output_type": "stream",
     "text": [
      "8\n",
      "14\n",
      "6\n",
      "15\n",
      "-0b10\n",
      "-2\n"
     ]
    }
   ],
   "source": [
    "x = 0b1100  # 12 in binary\n",
    "y = 0b1010  # 10 in binary\n",
    "\n",
    "result_and = x & y  # 8 (0b1000)\n",
    "result_or = x | y   # 14 (0b1110)\n",
    "result_xor = x ^ y  # 6 (0b0110)\n",
    "result_not = ~~~1\n",
    "print(result_and)\n",
    "print(result_or)\n",
    "print(result_xor)\n",
    "print(0b1111)\n",
    "print(bin(result_not))\n",
    "print((result_not))"
   ]
  },
  {
   "cell_type": "markdown",
   "metadata": {},
   "source": [
    "### Shift Operations"
   ]
  },
  {
   "cell_type": "code",
   "execution_count": 34,
   "metadata": {},
   "outputs": [
    {
     "name": "stdout",
     "output_type": "stream",
     "text": [
      "0b1000\n",
      "0b100000\n",
      "32\n",
      "2\n"
     ]
    }
   ],
   "source": [
    "num = 8  # 0b1000\n",
    "\n",
    "result_left_shift = num << 2  # 32 (0b100000)\n",
    "result_right_shift = num >> 2  # 2 (0b10)\n",
    "\n",
    "print(bin(num))\n",
    "print(bin(result_left_shift))\n",
    "print(result_left_shift)\n",
    "print(result_right_shift)"
   ]
  },
  {
   "cell_type": "markdown",
   "metadata": {},
   "source": [
    "## Functions\n",
    "\n",
    "### Variable Length Argument Lists"
   ]
  },
  {
   "cell_type": "code",
   "execution_count": 35,
   "metadata": {},
   "outputs": [
    {
     "name": "stdout",
     "output_type": "stream",
     "text": [
      "Positional arguments: (1, 2, True, 3)\n",
      "Keyword arguments: {'name': 'Alice', 'age': 30, 'test': 'vier', 'hund': 'katze', 'z': 'b'}\n"
     ]
    }
   ],
   "source": [
    "def print_args(*args, **kwargs):\n",
    "    print(\"Positional arguments:\", args)\n",
    "    print(\"Keyword arguments:\", kwargs)\n",
    "\n",
    "print_args(1, 2, True,  3, name=\"Alice\", age=30, test='vier', hund = \"katze\", z=\"b\")\n"
   ]
  },
  {
   "cell_type": "code",
   "execution_count": 36,
   "metadata": {},
   "outputs": [],
   "source": [
    "square = lambda x: x ** 2"
   ]
  },
  {
   "cell_type": "code",
   "execution_count": 36,
   "metadata": {},
   "outputs": [
    {
     "name": "stdout",
     "output_type": "stream",
     "text": [
      "10.0\n",
      "4\n"
     ]
    }
   ],
   "source": [
    "def add(x, y):\n",
    "    x = 4\n",
    "    if(y>3):\n",
    "        x+=1\n",
    "    else:\n",
    "        x-=1\n",
    "\n",
    "# x is int\n",
    "    return x + y \n",
    "\n",
    "result = add(3, 5.0)\n",
    "result2 = add(3, 1)\n",
    "print(result)\n",
    "print(result2)"
   ]
  },
  {
   "cell_type": "code",
   "execution_count": null,
   "metadata": {},
   "outputs": [],
   "source": [
    "# a) 10,4 b)10.0,4.0 c) "
   ]
  },
  {
   "cell_type": "code",
   "execution_count": 41,
   "metadata": {},
   "outputs": [],
   "source": [
    "class Foo:\n",
    "    def __init__(self, dog):\n",
    "        self.dog = dog\n",
    "\n",
    "foo = Foo(6)"
   ]
  },
  {
   "cell_type": "code",
   "execution_count": 43,
   "metadata": {},
   "outputs": [
    {
     "name": "stdout",
     "output_type": "stream",
     "text": [
      "-3\n"
     ]
    }
   ],
   "source": [
    "def add(x,y):\n",
    "    return x+y\n",
    "\n",
    "def subtract (x,y):\n",
    "    return x-y\n",
    "\n",
    "def apply_operation(operation, x, y):\n",
    "    return operation(x, y)\n",
    "\n",
    "def apply_operation_b(operation, x, y):\n",
    "    return operation(x, y.dog)\n",
    "\n",
    "result = apply_operation_b(subtract, 3, foo)\n",
    "\n",
    "print(result)"
   ]
  },
  {
   "cell_type": "code",
   "execution_count": 46,
   "metadata": {},
   "outputs": [],
   "source": [
    "def do_stuff():\n",
    "    print(\"Hello!\")\n",
    "\n",
    "def do_stuff_b():\n",
    "    print(\"Hello a!\")\n",
    "\n",
    "from time import time"
   ]
  },
  {
   "cell_type": "code",
   "execution_count": 45,
   "metadata": {},
   "outputs": [
    {
     "name": "stdout",
     "output_type": "stream",
     "text": [
      "Hello!\n",
      "4.506111145019531e-05\n"
     ]
    }
   ],
   "source": [
    "start = time()\n",
    "do_stuff()\n",
    "end = time()\n",
    "\n",
    "print(end-start)"
   ]
  },
  {
   "cell_type": "code",
   "execution_count": 47,
   "metadata": {},
   "outputs": [
    {
     "name": "stdout",
     "output_type": "stream",
     "text": [
      "Hello a!\n",
      "4.792213439941406e-05\n"
     ]
    }
   ],
   "source": [
    "start = time()\n",
    "do_stuff_b()\n",
    "end = time()\n",
    "\n",
    "print(end-start)"
   ]
  },
  {
   "cell_type": "code",
   "execution_count": 48,
   "metadata": {},
   "outputs": [],
   "source": [
    "def timeit(func):\n",
    "    def wrapper():\n",
    "        start = time()\n",
    "        func()\n",
    "        end = time()\n",
    "        print(f\"{end-start}\")\n",
    "    \n",
    "    return wrapper"
   ]
  },
  {
   "cell_type": "code",
   "execution_count": 49,
   "metadata": {},
   "outputs": [],
   "source": [
    "@timeit\n",
    "def do_stuff():\n",
    "    print(\"Hello!\")\n",
    "    \n",
    "@timeit\n",
    "def do_stuff_b():\n",
    "    print(\"Hello a!\")"
   ]
  },
  {
   "cell_type": "code",
   "execution_count": 50,
   "metadata": {},
   "outputs": [
    {
     "name": "stdout",
     "output_type": "stream",
     "text": [
      "Hello!\n",
      "1.5735626220703125e-05\n"
     ]
    }
   ],
   "source": [
    "do_stuff()"
   ]
  },
  {
   "cell_type": "code",
   "execution_count": null,
   "metadata": {},
   "outputs": [],
   "source": []
  },
  {
   "cell_type": "code",
   "execution_count": null,
   "metadata": {},
   "outputs": [],
   "source": []
  },
  {
   "cell_type": "code",
   "execution_count": 38,
   "metadata": {},
   "outputs": [
    {
     "name": "stdout",
     "output_type": "stream",
     "text": [
      "Something is happening before the function is called.\n",
      "Hello!\n",
      "Something is happening after the function is called.\n"
     ]
    }
   ],
   "source": [
    "def my_decorator(func):\n",
    "    def wrapper():\n",
    "        print(\"Something is happening before the function is called.\")\n",
    "        func()\n",
    "        print(\"Something is happening after the function is called.\")\n",
    "\n",
    "    return wrapper\n",
    "\n",
    "@my_decorator\n",
    "def say_hello():\n",
    "    print(\"Hello!\")\n",
    "\n",
    "say_hello()"
   ]
  },
  {
   "cell_type": "markdown",
   "metadata": {},
   "source": [
    "## Object oriented programming"
   ]
  },
  {
   "cell_type": "code",
   "execution_count": 52,
   "metadata": {},
   "outputs": [],
   "source": [
    "class Dog:\n",
    "    def __init__(self, name, age):\n",
    "        self.name = name\n",
    "        self.age = age\n",
    "\n",
    "    def bark(self):\n",
    "        print(\"Woof!\")\n",
    "\n",
    "    def print_f(self):\n",
    "        print(f\"my name is {self.name}\")\n"
   ]
  },
  {
   "cell_type": "code",
   "execution_count": 75,
   "metadata": {},
   "outputs": [],
   "source": [
    "class Person:\n",
    "    def __init__(self, name, age):\n",
    "        self.name =name\n",
    "        self.age = age\n",
    "        \n",
    "\n",
    "    def print_name(self):\n",
    "        print(f\"Hi my name is {self.name}\")\n"
   ]
  },
  {
   "cell_type": "code",
   "execution_count": 153,
   "metadata": {},
   "outputs": [],
   "source": [
    "class Professor(Person):\n",
    "    def __init__(self, name, age, subject):\n",
    "        super().__init__(name, age)\n",
    "        self.subject = subject\n",
    "    \n",
    "    def __bool__(self):\n",
    "        return False\n",
    "\n",
    "\n",
    "# class Student(Person):"
   ]
  },
  {
   "cell_type": "code",
   "execution_count": 154,
   "metadata": {},
   "outputs": [],
   "source": [
    "prof = Professor(\"john\", 42, \"aassad\")\n",
    "person1 = Person(\"John\", 42)"
   ]
  },
  {
   "cell_type": "code",
   "execution_count": null,
   "metadata": {},
   "outputs": [],
   "source": []
  },
  {
   "cell_type": "code",
   "execution_count": 89,
   "metadata": {},
   "outputs": [
    {
     "name": "stdout",
     "output_type": "stream",
     "text": [
      "True\n",
      "True\n",
      "True\n",
      "False\n"
     ]
    }
   ],
   "source": [
    "print(isinstance(prof, Professor),\n",
    "isinstance(person1, Person),\n",
    "isinstance(prof, Person),\n",
    "isinstance(person1, Professor),\n",
    "sep = \"\\n\")"
   ]
  },
  {
   "cell_type": "code",
   "execution_count": null,
   "metadata": {},
   "outputs": [],
   "source": []
  },
  {
   "cell_type": "code",
   "execution_count": null,
   "metadata": {},
   "outputs": [],
   "source": []
  },
  {
   "cell_type": "code",
   "execution_count": null,
   "metadata": {},
   "outputs": [],
   "source": []
  },
  {
   "cell_type": "code",
   "execution_count": null,
   "metadata": {},
   "outputs": [],
   "source": []
  },
  {
   "cell_type": "code",
   "execution_count": null,
   "metadata": {},
   "outputs": [],
   "source": []
  },
  {
   "cell_type": "code",
   "execution_count": 53,
   "metadata": {},
   "outputs": [
    {
     "name": "stdout",
     "output_type": "stream",
     "text": [
      "Woof!\n",
      "my name is Paul\n"
     ]
    }
   ],
   "source": [
    "dog1 = Dog(\"Paul\", 4)\n",
    "dog2 = Dog(\"Paul\", 4)\n",
    "\n",
    "dog1.bark()\n",
    "dog1.print_f()"
   ]
  },
  {
   "cell_type": "code",
   "execution_count": 41,
   "metadata": {},
   "outputs": [],
   "source": [
    "class Labrador(Dog):\n",
    "    def swim(self):\n",
    "        print(f\"{self.name} is swimming!\")\n"
   ]
  },
  {
   "cell_type": "code",
   "execution_count": 42,
   "metadata": {},
   "outputs": [
    {
     "name": "stdout",
     "output_type": "stream",
     "text": [
      "Paul is swimming!\n"
     ]
    }
   ],
   "source": [
    "dog1 = Labrador(dog1.name, dog1.age)\n",
    "\n",
    "dog1.swim()"
   ]
  },
  {
   "cell_type": "markdown",
   "metadata": {},
   "source": [
    "## Lambda Functions"
   ]
  },
  {
   "cell_type": "code",
   "execution_count": 90,
   "metadata": {},
   "outputs": [
    {
     "name": "stdout",
     "output_type": "stream",
     "text": [
      "-3\n"
     ]
    }
   ],
   "source": [
    "def add(x,y):\n",
    "    return x+y\n",
    "\n",
    "def subtract (x,y):\n",
    "    return x-y\n",
    "\n",
    "def apply_operation(operation, x, y):\n",
    "    return operation(x, y)\n",
    "\n",
    "def apply_operation_b(operation, x, y):\n",
    "    return operation(x, y.dog)\n",
    "\n",
    "result = apply_operation_b(subtract, 3, foo)\n",
    "\n",
    "print(result)"
   ]
  },
  {
   "cell_type": "code",
   "execution_count": 91,
   "metadata": {},
   "outputs": [
    {
     "data": {
      "text/plain": [
       "6"
      ]
     },
     "execution_count": 91,
     "metadata": {},
     "output_type": "execute_result"
    }
   ],
   "source": [
    "apply_operation(lambda x, y:x*y, 2, 3)"
   ]
  },
  {
   "cell_type": "code",
   "execution_count": 92,
   "metadata": {},
   "outputs": [],
   "source": [
    "L = [1,2,3,4,5,6,7]"
   ]
  },
  {
   "cell_type": "code",
   "execution_count": 94,
   "metadata": {},
   "outputs": [],
   "source": [
    "from functools import reduce"
   ]
  },
  {
   "cell_type": "code",
   "execution_count": 98,
   "metadata": {},
   "outputs": [
    {
     "data": {
      "text/plain": [
       "<map at 0x118915f00>"
      ]
     },
     "execution_count": 98,
     "metadata": {},
     "output_type": "execute_result"
    }
   ],
   "source": [
    "map(lambda x: x**2, L)"
   ]
  },
  {
   "cell_type": "code",
   "execution_count": 118,
   "metadata": {},
   "outputs": [],
   "source": [
    "b = list(filter(lambda x:x%2==0, L))"
   ]
  },
  {
   "cell_type": "code",
   "execution_count": 119,
   "metadata": {},
   "outputs": [
    {
     "data": {
      "text/plain": [
       "[2, 4, 6]"
      ]
     },
     "execution_count": 119,
     "metadata": {},
     "output_type": "execute_result"
    }
   ],
   "source": [
    "b"
   ]
  },
  {
   "cell_type": "code",
   "execution_count": 113,
   "metadata": {},
   "outputs": [
    {
     "data": {
      "text/plain": [
       "<filter at 0x1189169b0>"
      ]
     },
     "execution_count": 113,
     "metadata": {},
     "output_type": "execute_result"
    }
   ],
   "source": [
    "filter(lambda x:0, L)"
   ]
  },
  {
   "cell_type": "code",
   "execution_count": 122,
   "metadata": {},
   "outputs": [
    {
     "data": {
      "text/plain": [
       "28"
      ]
     },
     "execution_count": 122,
     "metadata": {},
     "output_type": "execute_result"
    }
   ],
   "source": [
    "reduce(FUNCTION, ITERABLE)"
   ]
  },
  {
   "cell_type": "code",
   "execution_count": null,
   "metadata": {},
   "outputs": [],
   "source": []
  },
  {
   "cell_type": "code",
   "execution_count": null,
   "metadata": {},
   "outputs": [],
   "source": []
  },
  {
   "cell_type": "code",
   "execution_count": 43,
   "metadata": {},
   "outputs": [
    {
     "name": "stdout",
     "output_type": "stream",
     "text": [
      "5\n",
      "21.0\n"
     ]
    }
   ],
   "source": [
    "add = lambda x, y: x + y\n",
    "print(add(2, 3))  # Output: 5\n",
    "\n",
    "result = (3 + 4) * 2 + (3 ** 2) - (4 / 2)\n",
    "print(result)"
   ]
  },
  {
   "cell_type": "code",
   "execution_count": 44,
   "metadata": {},
   "outputs": [
    {
     "name": "stdout",
     "output_type": "stream",
     "text": [
      "[2, 4, 6, 8, 10]\n"
     ]
    }
   ],
   "source": [
    "numbers = [1, 2, 3, 4, 5]\n",
    "result = list(map(lambda x: x * 2, numbers))\n",
    "print(result)"
   ]
  },
  {
   "cell_type": "code",
   "execution_count": 45,
   "metadata": {},
   "outputs": [
    {
     "name": "stdout",
     "output_type": "stream",
     "text": [
      "[1, 4, 9, 16, 25]\n"
     ]
    }
   ],
   "source": [
    "numbers = [1, 2, 3, 4, 5]\n",
    "result = list(map(lambda x: x ** 2, numbers))\n",
    "print(result)"
   ]
  },
  {
   "cell_type": "code",
   "execution_count": 123,
   "metadata": {},
   "outputs": [
    {
     "data": {
      "text/plain": [
       "5"
      ]
     },
     "execution_count": 123,
     "metadata": {},
     "output_type": "execute_result"
    }
   ],
   "source": [
    "len('Alice')"
   ]
  },
  {
   "cell_type": "code",
   "execution_count": null,
   "metadata": {},
   "outputs": [],
   "source": [
    "['A','l','i']"
   ]
  },
  {
   "cell_type": "code",
   "execution_count": null,
   "metadata": {},
   "outputs": [],
   "source": []
  },
  {
   "cell_type": "code",
   "execution_count": 46,
   "metadata": {},
   "outputs": [
    {
     "name": "stdout",
     "output_type": "stream",
     "text": [
      "[5, 3, 7]\n"
     ]
    }
   ],
   "source": [
    "names = ['Alice', 'Bob', 'Charlie']\n",
    "result = list(map(lambda name: len(name), names))\n",
    "print(result)\n"
   ]
  },
  {
   "cell_type": "code",
   "execution_count": 125,
   "metadata": {},
   "outputs": [],
   "source": [
    "def check(grade):\n",
    "    if grade >=80:\n",
    "        return 'Pass'\n",
    "    else:\n",
    "        return 'Fail'"
   ]
  },
  {
   "cell_type": "code",
   "execution_count": 126,
   "metadata": {},
   "outputs": [
    {
     "name": "stdout",
     "output_type": "stream",
     "text": [
      "['Pass', 'Pass', 'Fail', 'Pass', 'Pass']\n"
     ]
    }
   ],
   "source": [
    "grades = [90, 85, 78, 92, 88]\n",
    "result = list(map(lambda grade: 'Pass' if grade >= 80 else 'Fail', grades))\n",
    "print(result)\n"
   ]
  },
  {
   "cell_type": "code",
   "execution_count": 48,
   "metadata": {},
   "outputs": [
    {
     "name": "stdout",
     "output_type": "stream",
     "text": [
      "['HELLO', 'WORLD', 'PYTHON']\n"
     ]
    }
   ],
   "source": [
    "words = ['hello', 'world', 'python']\n",
    "result = list(map(lambda word: word.upper(), words))\n",
    "print(result)"
   ]
  },
  {
   "cell_type": "code",
   "execution_count": 49,
   "metadata": {},
   "outputs": [
    {
     "name": "stdout",
     "output_type": "stream",
     "text": [
      "[71.6, 64.4, 77.0, 86.0]\n"
     ]
    }
   ],
   "source": [
    "temperatures = [22, 18, 25, 30]\n",
    "result = list(map(lambda temp: (temp * 9/5) + 32, temperatures))\n",
    "print(result)"
   ]
  },
  {
   "cell_type": "code",
   "execution_count": 52,
   "metadata": {},
   "outputs": [
    {
     "name": "stdout",
     "output_type": "stream",
     "text": [
      "[<function <genexpr>.<lambda> at 0x0000021E29C0B740>, <function <genexpr>.<lambda> at 0x0000021E29C0B380>, <function <genexpr>.<lambda> at 0x0000021E29C09E40>, <function <genexpr>.<lambda> at 0x0000021E29C0AE80>]\n"
     ]
    }
   ],
   "source": [
    "numbers1 = [1, 2, 3, 4]\n",
    "numbers2 = [5, 6, 7, 8]\n",
    "result = list(map(lambda x, y: x + y, numbers1, numbers2))\n",
    "result = list(lambda x, y: x + y for x, y in zip(numbers1, numbers2))\n",
    "print(result)"
   ]
  },
  {
   "cell_type": "code",
   "execution_count": 53,
   "metadata": {},
   "outputs": [
    {
     "name": "stdout",
     "output_type": "stream",
     "text": [
      "['Even', 'Even', 'Even', 'Even', 'Even']\n"
     ]
    }
   ],
   "source": [
    "numbers = [2, 4, 6, 8, 10]\n",
    "result = list(map(lambda x: 'Even' if x % 2 == 0 else 'Odd', numbers))\n",
    "print(result)\n"
   ]
  },
  {
   "cell_type": "markdown",
   "metadata": {},
   "source": [
    "## Test Exam"
   ]
  },
  {
   "cell_type": "code",
   "execution_count": 128,
   "metadata": {},
   "outputs": [],
   "source": [
    "def foo(a, b):\n",
    "    b = a/2\n",
    "    c = {}\n",
    "    c[b] = a\n",
    "    return list (c. keys ())[0] + a%2"
   ]
  },
  {
   "cell_type": "code",
   "execution_count": 129,
   "metadata": {},
   "outputs": [
    {
     "name": "stdout",
     "output_type": "stream",
     "text": [
      "2.0\n"
     ]
    }
   ],
   "source": [
    "print (foo (4, 2))"
   ]
  },
  {
   "cell_type": "code",
   "execution_count": 57,
   "metadata": {},
   "outputs": [
    {
     "name": "stdout",
     "output_type": "stream",
     "text": [
      "1.0\n"
     ]
    }
   ],
   "source": [
    "print (foo (b=1, a =2))"
   ]
  },
  {
   "cell_type": "code",
   "execution_count": 58,
   "metadata": {},
   "outputs": [
    {
     "name": "stdout",
     "output_type": "stream",
     "text": [
      "2.5\n"
     ]
    }
   ],
   "source": [
    "print (foo (a=3, b =1))"
   ]
  },
  {
   "cell_type": "code",
   "execution_count": 59,
   "metadata": {},
   "outputs": [
    {
     "name": "stdout",
     "output_type": "stream",
     "text": [
      "0.0\n"
     ]
    }
   ],
   "source": [
    "print (foo (0, -1))"
   ]
  },
  {
   "cell_type": "code",
   "execution_count": 131,
   "metadata": {},
   "outputs": [],
   "source": [
    "def foo(l, bar ):\n",
    "    return list ( map (bar , l))"
   ]
  },
  {
   "cell_type": "code",
   "execution_count": 136,
   "metadata": {},
   "outputs": [
    {
     "name": "stdout",
     "output_type": "stream",
     "text": [
      "[2.0, 3.0, 4.0]\n"
     ]
    }
   ],
   "source": [
    "print (foo ([0 ,1 ,2] , lambda x: x +2.))"
   ]
  },
  {
   "cell_type": "code",
   "execution_count": 62,
   "metadata": {},
   "outputs": [
    {
     "name": "stdout",
     "output_type": "stream",
     "text": [
      "[4.0, 3, 4]\n"
     ]
    }
   ],
   "source": [
    "print (foo ([2.0 ,1 ,2] , lambda x: x +2))"
   ]
  },
  {
   "cell_type": "code",
   "execution_count": 63,
   "metadata": {},
   "outputs": [
    {
     "name": "stdout",
     "output_type": "stream",
     "text": [
      "[0, 0]\n"
     ]
    }
   ],
   "source": [
    "print(foo ([1 ,2] , lambda x: x >>2))"
   ]
  },
  {
   "cell_type": "code",
   "execution_count": 64,
   "metadata": {},
   "outputs": [
    {
     "name": "stdout",
     "output_type": "stream",
     "text": [
      "[2, 6]\n"
     ]
    }
   ],
   "source": [
    "print (foo ([1 ,3] , lambda x: x+x))"
   ]
  },
  {
   "cell_type": "markdown",
   "metadata": {},
   "source": [
    "## Conditionals"
   ]
  },
  {
   "cell_type": "code",
   "execution_count": 150,
   "metadata": {},
   "outputs": [
    {
     "data": {
      "text/plain": [
       "<__main__.Professor at 0x118e7de90>"
      ]
     },
     "execution_count": 150,
     "metadata": {},
     "output_type": "execute_result"
    }
   ],
   "source": [
    "prof"
   ]
  },
  {
   "cell_type": "code",
   "execution_count": 167,
   "metadata": {},
   "outputs": [
    {
     "name": "stdout",
     "output_type": "stream",
     "text": [
      "yes\n"
     ]
    }
   ],
   "source": [
    "# x = \"\"\n",
    "# condition = \n",
    "\n",
    "if (1):\n",
    "    print(\"yes\")\n",
    "else:\n",
    "    print(\"no\")"
   ]
  },
  {
   "cell_type": "code",
   "execution_count": 65,
   "metadata": {},
   "outputs": [
    {
     "name": "stdout",
     "output_type": "stream",
     "text": [
      "List is not empty\n",
      "1\n"
     ]
    }
   ],
   "source": [
    "my_list = [(1, 2)]\n",
    "if my_list:\n",
    "    print(\"List is not empty\")\n",
    "else:\n",
    "    print(\"List is empty\")\n",
    "\n",
    "print(my_list[0].count(2))"
   ]
  },
  {
   "cell_type": "code",
   "execution_count": 66,
   "metadata": {},
   "outputs": [
    {
     "name": "stdout",
     "output_type": "stream",
     "text": [
      "True\n"
     ]
    }
   ],
   "source": [
    "x = 5\n",
    "y = 3\n",
    "result = x > y\n",
    "print(result)"
   ]
  },
  {
   "cell_type": "code",
   "execution_count": 67,
   "metadata": {},
   "outputs": [
    {
     "name": "stdout",
     "output_type": "stream",
     "text": [
      "True\n"
     ]
    }
   ],
   "source": [
    "a = 10\n",
    "b = -5\n",
    "result = a != b\n",
    "print(result)"
   ]
  },
  {
   "cell_type": "code",
   "execution_count": 68,
   "metadata": {},
   "outputs": [
    {
     "name": "stdout",
     "output_type": "stream",
     "text": [
      "True\n"
     ]
    }
   ],
   "source": [
    "name1 = \"Alice\"\n",
    "name2 = \"Bob\"\n",
    "result = name1 < name2\n",
    "print(result)\n",
    "# The correct answer is True, as \"Alice\" comes before \"Bob\" lexicographically."
   ]
  },
  {
   "cell_type": "code",
   "execution_count": 168,
   "metadata": {},
   "outputs": [
    {
     "name": "stdout",
     "output_type": "stream",
     "text": [
      "False\n"
     ]
    }
   ],
   "source": [
    "list1 = [1, 2, 3]\n",
    "list2 = [1, 2, 3, 4]\n",
    "result = len(list1) == len(list2)  \n",
    "print(result)"
   ]
  },
  {
   "cell_type": "code",
   "execution_count": 70,
   "metadata": {},
   "outputs": [
    {
     "name": "stdout",
     "output_type": "stream",
     "text": [
      "True\n"
     ]
    }
   ],
   "source": [
    "temperature = 25\n",
    "result = temperature >= 20 and temperature <= 30\n",
    "print(result)"
   ]
  },
  {
   "cell_type": "code",
   "execution_count": 71,
   "metadata": {},
   "outputs": [
    {
     "name": "stdout",
     "output_type": "stream",
     "text": [
      "True\n"
     ]
    }
   ],
   "source": [
    "word = \"Python\"\n",
    "result = \"thon\" in word\n",
    "print(result)"
   ]
  },
  {
   "cell_type": "code",
   "execution_count": 169,
   "metadata": {},
   "outputs": [
    {
     "name": "stdout",
     "output_type": "stream",
     "text": [
      "9.999999999976694e-05\n",
      "True\n"
     ]
    }
   ],
   "source": [
    "value1 = 3.1415\n",
    "value2 = 3.1416\n",
    "print(abs(value1-value2))\n",
    "result = abs(value1 - value2) < 0.001\n",
    "print(result)"
   ]
  },
  {
   "cell_type": "code",
   "execution_count": 170,
   "metadata": {},
   "outputs": [
    {
     "data": {
      "text/plain": [
       "4385301440"
      ]
     },
     "execution_count": 170,
     "metadata": {},
     "output_type": "execute_result"
    }
   ],
   "source": [
    "x = 5\n",
    "id(x)"
   ]
  },
  {
   "cell_type": "code",
   "execution_count": null,
   "metadata": {},
   "outputs": [],
   "source": []
  },
  {
   "cell_type": "code",
   "execution_count": null,
   "metadata": {},
   "outputs": [],
   "source": []
  },
  {
   "cell_type": "code",
   "execution_count": 180,
   "metadata": {},
   "outputs": [
    {
     "name": "stdout",
     "output_type": "stream",
     "text": [
      "[10, 2, 3] [10, 2, 3]\n"
     ]
    }
   ],
   "source": [
    "a = [1,2,3]\n",
    "b = a\n",
    "\n",
    "b[0] = 10\n",
    "\n",
    "print(a,b)"
   ]
  },
  {
   "cell_type": "code",
   "execution_count": null,
   "metadata": {},
   "outputs": [],
   "source": []
  },
  {
   "cell_type": "code",
   "execution_count": null,
   "metadata": {},
   "outputs": [],
   "source": []
  },
  {
   "cell_type": "code",
   "execution_count": 181,
   "metadata": {},
   "outputs": [
    {
     "data": {
      "text/plain": [
       "True"
      ]
     },
     "execution_count": 181,
     "metadata": {},
     "output_type": "execute_result"
    }
   ],
   "source": [
    "id(b)==id(a)"
   ]
  },
  {
   "cell_type": "code",
   "execution_count": 178,
   "metadata": {},
   "outputs": [
    {
     "data": {
      "text/plain": [
       "True"
      ]
     },
     "execution_count": 178,
     "metadata": {},
     "output_type": "execute_result"
    }
   ],
   "source": [
    "a == b"
   ]
  },
  {
   "cell_type": "code",
   "execution_count": 183,
   "metadata": {},
   "outputs": [
    {
     "data": {
      "text/plain": [
       "'a!p!p'"
      ]
     },
     "execution_count": 183,
     "metadata": {},
     "output_type": "execute_result"
    }
   ],
   "source": [
    "s = \"app\"\n",
    "\"!\".join(s)"
   ]
  },
  {
   "cell_type": "code",
   "execution_count": 189,
   "metadata": {},
   "outputs": [
    {
     "name": "stdout",
     "output_type": "stream",
     "text": [
      "False\n",
      "True\n"
     ]
    }
   ],
   "source": [
    "string1 = \"hello\"\n",
    "string2 = \"world\"\n",
    "result = string1 == string2\n",
    "print(result)\n",
    "\n",
    "string1 = \"hello\"\n",
    "string2 = \"hello\"\n",
    "result = id(string1) == id(string2)\n",
    "print(result)"
   ]
  },
  {
   "cell_type": "code",
   "execution_count": null,
   "metadata": {},
   "outputs": [],
   "source": []
  },
  {
   "cell_type": "code",
   "execution_count": 78,
   "metadata": {},
   "outputs": [
    {
     "name": "stdout",
     "output_type": "stream",
     "text": [
      "False\n"
     ]
    }
   ],
   "source": [
    "number = 42\n",
    "text = \"42\"\n",
    "result = number == text\n",
    "print(result)"
   ]
  },
  {
   "cell_type": "code",
   "execution_count": 194,
   "metadata": {},
   "outputs": [
    {
     "name": "stdout",
     "output_type": "stream",
     "text": [
      "True\n"
     ]
    }
   ],
   "source": [
    "list1 = [1, 2, 3]\n",
    "list2 = [int(i) for i in \"123\"]\n",
    "result = list1 == list2\n",
    "print(result)"
   ]
  },
  {
   "cell_type": "code",
   "execution_count": 196,
   "metadata": {},
   "outputs": [
    {
     "name": "stdout",
     "output_type": "stream",
     "text": [
      "False\n"
     ]
    }
   ],
   "source": [
    "tuple1 = (1, 2, 3)\n",
    "tuple2 = [1, 2, 3]\n",
    "result = tuple1 == tuple2\n",
    "print(result)"
   ]
  },
  {
   "cell_type": "code",
   "execution_count": 81,
   "metadata": {},
   "outputs": [
    {
     "name": "stdout",
     "output_type": "stream",
     "text": [
      "False\n"
     ]
    }
   ],
   "source": [
    "word = \"Python\"\n",
    "number = 123\n",
    "result = word == number\n",
    "print(result)"
   ]
  },
  {
   "cell_type": "code",
   "execution_count": 82,
   "metadata": {},
   "outputs": [
    {
     "name": "stdout",
     "output_type": "stream",
     "text": [
      "True\n"
     ]
    }
   ],
   "source": [
    "set1 = {1, 2, 3}\n",
    "set2 = {3, 2, 1}\n",
    "result = set1 == set2\n",
    "print(result)\n",
    "# The correct answer is True. \n",
    "# Sets are unordered, and their elements are the same, so the sets are considered equal."
   ]
  },
  {
   "cell_type": "code",
   "execution_count": 83,
   "metadata": {},
   "outputs": [
    {
     "name": "stdout",
     "output_type": "stream",
     "text": [
      "False\n"
     ]
    }
   ],
   "source": [
    "dictionary = {'a': 1, 'b': 2}\n",
    "result = dictionary == 42\n",
    "print(result)"
   ]
  },
  {
   "cell_type": "code",
   "execution_count": 84,
   "metadata": {},
   "outputs": [
    {
     "name": "stdout",
     "output_type": "stream",
     "text": [
      "False\n"
     ]
    }
   ],
   "source": [
    "complex_number = 3 + 4j\n",
    "integer = 5\n",
    "result = complex_number == integer\n",
    "print(result)"
   ]
  },
  {
   "cell_type": "code",
   "execution_count": 85,
   "metadata": {},
   "outputs": [
    {
     "name": "stdout",
     "output_type": "stream",
     "text": [
      "False\n"
     ]
    }
   ],
   "source": [
    "boolean = True\n",
    "none_value = None\n",
    "result = boolean == none_value\n",
    "print(result)"
   ]
  },
  {
   "cell_type": "code",
   "execution_count": 201,
   "metadata": {},
   "outputs": [
    {
     "name": "stdout",
     "output_type": "stream",
     "text": [
      "True\n"
     ]
    }
   ],
   "source": [
    "string1 = \"dcz\"\n",
    "string2 = \"def\"\n",
    "result = string1 <= string2\n",
    "print(result)\n",
    "# The correct answer is False.\n",
    "# String comparison is based on lexicographic order, and 'abc' is not greater than or equal to 'def'"
   ]
  },
  {
   "cell_type": "code",
   "execution_count": 87,
   "metadata": {},
   "outputs": [
    {
     "name": "stdout",
     "output_type": "stream",
     "text": [
      "True\n"
     ]
    }
   ],
   "source": [
    "float_number = 3.14\n",
    "boolean = True\n",
    "result = float_number > boolean\n",
    "print(result)\n",
    "# The correct answer is True.\n",
    "#In Python, True is considered equal to 1, so 3.14 is greater than 1."
   ]
  },
  {
   "cell_type": "markdown",
   "metadata": {},
   "source": [
    "## Lambda functions with map"
   ]
  },
  {
   "cell_type": "code",
   "execution_count": 88,
   "metadata": {},
   "outputs": [
    {
     "name": "stdout",
     "output_type": "stream",
     "text": [
      "[0, 1, 4]\n"
     ]
    }
   ],
   "source": [
    "def example1(lst, func):\n",
    "    return list(map(func, lst))\n",
    "\n",
    "\n",
    "print(example1([0, 1, 2], lambda x: x**2))\n"
   ]
  },
  {
   "cell_type": "code",
   "execution_count": 89,
   "metadata": {},
   "outputs": [
    {
     "name": "stdout",
     "output_type": "stream",
     "text": [
      "[1, 3, 5]\n"
     ]
    }
   ],
   "source": [
    "def example2(lst, func):\n",
    "    return list(map(func, lst))\n",
    "\n",
    "\n",
    "print(example2([0, 2, 4], lambda x: x + 1))\n"
   ]
  },
  {
   "cell_type": "code",
   "execution_count": 208,
   "metadata": {},
   "outputs": [
    {
     "name": "stdout",
     "output_type": "stream",
     "text": [
      "[0, 0, 1, 2]\n"
     ]
    }
   ],
   "source": [
    "def example3(lst, func):\n",
    "    return list(map(func, lst))\n",
    "\n",
    "\n",
    "print(example3([-1, 0, 1, 2], lambda x: x*(x > 0) ))\n"
   ]
  },
  {
   "cell_type": "code",
   "execution_count": 91,
   "metadata": {},
   "outputs": [
    {
     "name": "stdout",
     "output_type": "stream",
     "text": [
      "['A', 'B', 'C']\n"
     ]
    }
   ],
   "source": [
    "def example4(lst, func):\n",
    "    return list(map(func, lst))\n",
    "\n",
    "print(example4([65, 66, 67], lambda x: chr(x)))\n"
   ]
  },
  {
   "cell_type": "code",
   "execution_count": 92,
   "metadata": {},
   "outputs": [
    {
     "name": "stdout",
     "output_type": "stream",
     "text": [
      "['apple', 'bpple', 'cpple']\n"
     ]
    }
   ],
   "source": [
    "def example5(lst, func):\n",
    "    return list(map(func, lst))\n",
    "\n",
    "# Proposal: ['apple', 'banana', 'cherry']\n",
    "print(example5(['a', 'b', 'c'], lambda x: x + 'pple'))\n"
   ]
  },
  {
   "cell_type": "code",
   "execution_count": 93,
   "metadata": {},
   "outputs": [
    {
     "name": "stdout",
     "output_type": "stream",
     "text": [
      "[2, 4, 6]\n"
     ]
    }
   ],
   "source": [
    "def example6(lst, func):\n",
    "    return list(map(func, lst))\n",
    "\n",
    "\n",
    "print(example6([1, 2, 3], lambda x: x * 2))"
   ]
  },
  {
   "cell_type": "code",
   "execution_count": 94,
   "metadata": {},
   "outputs": [
    {
     "name": "stdout",
     "output_type": "stream",
     "text": [
      "[0, 1, 0]\n"
     ]
    }
   ],
   "source": [
    "def example7(lst, func):\n",
    "    return list(map(func, lst))\n",
    "\n",
    "\n",
    "print(example7([0, 1, 2], lambda x: x % 2))"
   ]
  },
  {
   "cell_type": "code",
   "execution_count": 95,
   "metadata": {},
   "outputs": [
    {
     "name": "stdout",
     "output_type": "stream",
     "text": [
      "['apple', 'bpple', 'orange']\n"
     ]
    }
   ],
   "source": [
    "def example8(lst, func):\n",
    "    return list(map(func, lst))\n",
    "\n",
    "# Proposal: ['apple', 'banana', 'orange']\n",
    "print(example8(['a', 'b', 'o'], lambda x: x + 'range' if x == 'o' else x + 'pple'))"
   ]
  },
  {
   "cell_type": "code",
   "execution_count": 96,
   "metadata": {},
   "outputs": [
    {
     "name": "stdout",
     "output_type": "stream",
     "text": [
      "[False, True, True]\n"
     ]
    }
   ],
   "source": [
    "def example9(lst, func):\n",
    "    return list(map(func, lst))\n",
    "\n",
    "print(example9([0, 1, 2], lambda x: x > 0))\n"
   ]
  },
  {
   "cell_type": "markdown",
   "metadata": {},
   "source": [
    "## Nested data structures"
   ]
  },
  {
   "cell_type": "code",
   "execution_count": 97,
   "metadata": {},
   "outputs": [
    {
     "name": "stdout",
     "output_type": "stream",
     "text": [
      "asdasasdas\n"
     ]
    }
   ],
   "source": [
    "message = input(\"Write something:\")\n",
    "\n",
    "print(message*2)"
   ]
  },
  {
   "cell_type": "code",
   "execution_count": 98,
   "metadata": {},
   "outputs": [
    {
     "name": "stdout",
     "output_type": "stream",
     "text": [
      "2\n"
     ]
    }
   ],
   "source": [
    "print(len(str(45)))"
   ]
  },
  {
   "cell_type": "code",
   "execution_count": 99,
   "metadata": {},
   "outputs": [
    {
     "name": "stdout",
     "output_type": "stream",
     "text": [
      "2\n"
     ]
    }
   ],
   "source": [
    "print(int(2.7))"
   ]
  },
  {
   "cell_type": "code",
   "execution_count": 100,
   "metadata": {},
   "outputs": [
    {
     "name": "stdout",
     "output_type": "stream",
     "text": [
      "3\n",
      "6\n",
      "9\n",
      "12\n",
      "15\n",
      "True\n"
     ]
    }
   ],
   "source": [
    "for i in range(3, 16, 3):\n",
    "    print(i)\n",
    "\n",
    "if 1:\n",
    "    print(\"True\")"
   ]
  },
  {
   "cell_type": "code",
   "execution_count": 218,
   "metadata": {},
   "outputs": [],
   "source": [
    "a = []\n",
    "for x in range(21):\n",
    "    a.append(x)"
   ]
  },
  {
   "cell_type": "code",
   "execution_count": 225,
   "metadata": {},
   "outputs": [
    {
     "data": {
      "text/plain": [
       "[10, 13, 16, 19]"
      ]
     },
     "execution_count": 225,
     "metadata": {},
     "output_type": "execute_result"
    }
   ],
   "source": [
    "a[ 10:20:3]"
   ]
  },
  {
   "cell_type": "code",
   "execution_count": 101,
   "metadata": {},
   "outputs": [
    {
     "name": "stdout",
     "output_type": "stream",
     "text": [
      "[3, 5, 7, 9, 11, 13, 15]\n"
     ]
    }
   ],
   "source": [
    "a = [x for x in range (21)]\n",
    "\n",
    "print(a[3:17:2])"
   ]
  },
  {
   "cell_type": "markdown",
   "metadata": {},
   "source": [
    "## Copies and deep copies"
   ]
  },
  {
   "cell_type": "code",
   "execution_count": 249,
   "metadata": {},
   "outputs": [],
   "source": [
    "a=[[1,2,3],\n",
    "   [4,5,6],\n",
    "   [7,8,9]]"
   ]
  },
  {
   "cell_type": "code",
   "execution_count": 250,
   "metadata": {},
   "outputs": [],
   "source": [
    "b = deepcopy(a)\n",
    "b[0][0]=10"
   ]
  },
  {
   "cell_type": "code",
   "execution_count": 251,
   "metadata": {},
   "outputs": [
    {
     "data": {
      "text/plain": [
       "[[1, 2, 3], [4, 5, 6], [7, 8, 9]]"
      ]
     },
     "execution_count": 251,
     "metadata": {},
     "output_type": "execute_result"
    }
   ],
   "source": [
    "a"
   ]
  },
  {
   "cell_type": "code",
   "execution_count": null,
   "metadata": {},
   "outputs": [],
   "source": []
  },
  {
   "cell_type": "code",
   "execution_count": null,
   "metadata": {},
   "outputs": [],
   "source": []
  },
  {
   "cell_type": "code",
   "execution_count": 246,
   "metadata": {},
   "outputs": [],
   "source": [
    "from copy import deepcopy\n",
    "# b = a.deepcopy()\n"
   ]
  },
  {
   "cell_type": "code",
   "execution_count": 230,
   "metadata": {},
   "outputs": [],
   "source": [
    "def operate(b):\n",
    "    b[0]=10"
   ]
  },
  {
   "cell_type": "code",
   "execution_count": 235,
   "metadata": {},
   "outputs": [],
   "source": [
    "operate(b)"
   ]
  },
  {
   "cell_type": "code",
   "execution_count": 236,
   "metadata": {},
   "outputs": [
    {
     "data": {
      "text/plain": [
       "[10, 1, 2, 3, 4, 5, 6, 7, 8, 9, 10, 11, 12, 13, 14, 15, 16, 17, 18, 19, 20]"
      ]
     },
     "execution_count": 236,
     "metadata": {},
     "output_type": "execute_result"
    }
   ],
   "source": [
    "a"
   ]
  },
  {
   "cell_type": "code",
   "execution_count": 228,
   "metadata": {},
   "outputs": [
    {
     "name": "stdout",
     "output_type": "stream",
     "text": [
      "[10, 1, 2, 3, 4, 5, 6, 7, 8, 9, 10, 11, 12, 13, 14, 15, 16, 17, 18, 19, 20]\n"
     ]
    }
   ],
   "source": [
    "b[0]=10\n",
    "print(b)"
   ]
  },
  {
   "cell_type": "code",
   "execution_count": 229,
   "metadata": {},
   "outputs": [
    {
     "name": "stdout",
     "output_type": "stream",
     "text": [
      "[10, 1, 2, 3, 4, 5, 6, 7, 8, 9, 10, 11, 12, 13, 14, 15, 16, 17, 18, 19, 20]\n"
     ]
    }
   ],
   "source": [
    "print(a)"
   ]
  },
  {
   "cell_type": "code",
   "execution_count": null,
   "metadata": {},
   "outputs": [],
   "source": []
  },
  {
   "cell_type": "code",
   "execution_count": 103,
   "metadata": {},
   "outputs": [
    {
     "name": "stdout",
     "output_type": "stream",
     "text": [
      "IDs of the lists:\n",
      "2328578384000\n",
      "2328564098880\n",
      "\n",
      "IDs of the elements of the list:\n",
      "Original:\t 2328579964032\n",
      "Copy:\t\t 2328579964032\n",
      "modified v[0]=  [9, 1]\n",
      "Original List: [[9, 1], [2, 3], [5, 1]]\n",
      "Copied List: [[9, 1], [2, 3], [5, 1]]\n",
      "Original List: [[8, 8], [2, 3], [5, 1]]\n",
      "Copied List: [[9, 1], [2, 3], [5, 1]]\n",
      "\n",
      "IDs of the elements of the list:\n",
      "Original:\t 2328578162368\n",
      "Copy:\t\t 2328579964032\n"
     ]
    }
   ],
   "source": [
    "vec_list = [[0,1],\n",
    "            [2,3],\n",
    "            [5,1]]\n",
    "\n",
    "copy_vec_list = vec_list [0:3]\n",
    "\n",
    "print(\"IDs of the lists:\")\n",
    "print(id(vec_list))\n",
    "print(id(copy_vec_list))\n",
    "\n",
    "print(\"\\nIDs of the elements of the list:\")\n",
    "print(\"Original:\\t\", id(vec_list[0]))\n",
    "print(\"Copy:\\t\\t\", id(copy_vec_list[0]))\n",
    "\n",
    "v0 = copy_vec_list[0]\n",
    "v0[0] = 9\n",
    "print(\"modified v[0]= \", v0)\n",
    "\n",
    "print(\"Original List:\", vec_list)\n",
    "print(\"Copied List:\", copy_vec_list)\n",
    "\n",
    "vec_list[0] = [8, 8]\n",
    "print(\"Original List:\", vec_list)\n",
    "print(\"Copied List:\", copy_vec_list)\n",
    "\n",
    "print(\"\\nIDs of the elements of the list:\")\n",
    "print(\"Original:\\t\", id(vec_list[0]))\n",
    "print(\"Copy:\\t\\t\", id(copy_vec_list[0]))\n",
    "\n"
   ]
  },
  {
   "cell_type": "code",
   "execution_count": 104,
   "metadata": {},
   "outputs": [
    {
     "name": "stdout",
     "output_type": "stream",
     "text": [
      "140715800841240\n",
      "140715800841240\n",
      "[[20, 1], [2, 3], [4, 5]]\n",
      "[[20, 1], [2, 3], [4, 5]]\n"
     ]
    }
   ],
   "source": [
    "import copy\n",
    "\n",
    "a = [[0, 1],\n",
    "     [2, 3],\n",
    "     [4, 5]]\n",
    "\n",
    "copy_a = copy.copy(a)\n",
    "\n",
    "v = copy_a[0]\n",
    "v[0] = 20\n",
    "\n",
    "print(id(a[0][0]))\n",
    "print(id(copy_a[0][0]))\n",
    "\n",
    "print(copy_a)\n",
    "print(a)"
   ]
  },
  {
   "cell_type": "code",
   "execution_count": 105,
   "metadata": {},
   "outputs": [
    {
     "name": "stdout",
     "output_type": "stream",
     "text": [
      "140715800840600\n",
      "140715800841240\n",
      "[[20, 1], [2, 3], [4, 5]]\n",
      "[[0, 1], [2, 3], [4, 5]]\n"
     ]
    }
   ],
   "source": [
    "import copy\n",
    "\n",
    "a = [[0, 1],\n",
    "     [2, 3],\n",
    "     [4, 5]]\n",
    "\n",
    "copy_a = copy.deepcopy(a)\n",
    "\n",
    "v = copy_a[0]\n",
    "v[0] = 20\n",
    "\n",
    "print(id(a[0][0]))\n",
    "print(id(copy_a[0][0]))\n",
    "\n",
    "print(copy_a)\n",
    "print(a)"
   ]
  },
  {
   "cell_type": "code",
   "execution_count": 106,
   "metadata": {},
   "outputs": [
    {
     "name": "stdout",
     "output_type": "stream",
     "text": [
      "[42, 1, 2, 3, 4]\n",
      "[5, 6, 7, 8, 9]\n"
     ]
    }
   ],
   "source": [
    "a = [i for i in range(5)]\n",
    "b = [i for i in range (5, 10)]\n",
    "\n",
    "c = a\n",
    "c[0]=42\n",
    "\n",
    "print(a)\n",
    "\n",
    "d = copy.deepcopy(b)\n",
    "d[0] = 42\n",
    "\n",
    "print(b)"
   ]
  },
  {
   "cell_type": "code",
   "execution_count": 107,
   "metadata": {},
   "outputs": [
    {
     "name": "stdout",
     "output_type": "stream",
     "text": [
      "[0, 'Test', 1, 2, 3, 4]\n",
      "[0, 'Test', 1, 2, 3, 4, ['Ende', 'Hallo']]\n",
      "['Ende', 'Hallo'] [0, 'Test', 1, 2, 3, 4]\n",
      "Test [0, 1, 2, 3, 4]\n",
      "[0, 2, 3, 4, 1]\n",
      "[0, 2, 3, 4, 1, '3']\n"
     ]
    }
   ],
   "source": [
    "a = [i for i in range(0, 5)]\n",
    "a.insert(1, \"Test\")\n",
    "print(a)\n",
    "a.append([\"Ende\", \"Hallo\"]) # takes only one argument\n",
    "print(a)\n",
    "var1 = a.pop()\n",
    "print(var1, a)\n",
    "var2 = a.pop(1)\n",
    "print(var2, a)\n",
    "a.append(1)\n",
    "a.remove(1)\n",
    "print(a)\n",
    "a.extend(\"3\") # only iterable objects\n",
    "print(a)"
   ]
  },
  {
   "cell_type": "code",
   "execution_count": 108,
   "metadata": {},
   "outputs": [
    {
     "name": "stdout",
     "output_type": "stream",
     "text": [
      "2328580355520\n",
      "[0, 2, 3, 4, 1, '3', 'a', 'b', 'c', 'd']\n",
      "2328580355520\n",
      "[0, 2, 3, 4, 1, '3', 'a', 'b', 'c', 'd', 'a', 'b', 'c', 'd']\n",
      "2328578032512\n"
     ]
    }
   ],
   "source": [
    "print(id(a))\n",
    "b = [\"a\", \"b\", \"c\", \"d\"]\n",
    "a += b # ID stays the same\n",
    "print(a)\n",
    "print(id(a))\n",
    "a = a + b # new object is created --> ID changes\n",
    "print(a)\n",
    "print(id(a))\n"
   ]
  },
  {
   "cell_type": "code",
   "execution_count": 109,
   "metadata": {},
   "outputs": [
    {
     "name": "stdout",
     "output_type": "stream",
     "text": [
      "['a', 'b', 98, 23413]\n",
      "[23413]\n"
     ]
    }
   ],
   "source": [
    "b[2:4] = [98, 23413]\n",
    "print(b)\n",
    "del b[0:3]\n",
    "print(b)"
   ]
  },
  {
   "cell_type": "code",
   "execution_count": 110,
   "metadata": {},
   "outputs": [
    {
     "name": "stdout",
     "output_type": "stream",
     "text": [
      "['c', 'b', 'a', 3, 2, 1]\n",
      "[3, 2, 1]\n",
      "['c', 'b', 'a']\n"
     ]
    }
   ],
   "source": [
    "b = [1, 2, 3, \"a\", \"b\", \"c\"]\n",
    "b1 = b[:3]\n",
    "b2 = b[3:]\n",
    "b.reverse()\n",
    "print(b)\n",
    "b1.reverse()\n",
    "print(b1)\n",
    "b2.sort(reverse=True)\n",
    "print(b2)"
   ]
  },
  {
   "cell_type": "code",
   "execution_count": 112,
   "metadata": {},
   "outputs": [
    {
     "name": "stdout",
     "output_type": "stream",
     "text": [
      "[1, 3, 5, 7, 9, 11, 13, 15, 17, 19]\n"
     ]
    }
   ],
   "source": [
    "print(list(x for x in range(20) if x%2))"
   ]
  },
  {
   "cell_type": "markdown",
   "metadata": {},
   "source": [
    "### Eval()-Function\n",
    "\n",
    "Evaluates a string containing a Python expression or statement. It executes the code represented as a string and returns the result."
   ]
  },
  {
   "cell_type": "code",
   "execution_count": 113,
   "metadata": {},
   "outputs": [
    {
     "name": "stdout",
     "output_type": "stream",
     "text": [
      "hello world\n",
      "<class 'NoneType'>\n"
     ]
    }
   ],
   "source": [
    "result = eval(\"print('hello world')\")\n",
    "print(type(result))"
   ]
  },
  {
   "cell_type": "code",
   "execution_count": 114,
   "metadata": {},
   "outputs": [
    {
     "name": "stdout",
     "output_type": "stream",
     "text": [
      "21\n"
     ]
    }
   ],
   "source": [
    "x = 7\n",
    "y = 3\n",
    "eval(\"print(x*y)\")"
   ]
  },
  {
   "cell_type": "markdown",
   "metadata": {},
   "source": [
    "### Sets"
   ]
  },
  {
   "cell_type": "code",
   "execution_count": 115,
   "metadata": {},
   "outputs": [
    {
     "name": "stdout",
     "output_type": "stream",
     "text": [
      "{1, 2, 3, 4, 5, 6}\n",
      "6\n",
      "False\n",
      "False\n",
      "True\n",
      "s == t: False\n",
      "t eine Teilmenge von s: False\n",
      "s eine Teilmenge von t: True\n"
     ]
    }
   ],
   "source": [
    "s = {1, 2, 3, 4, 5}\n",
    "t = {1, 2, 3, 4, 5, 6}\n",
    "print(t)\n",
    "print(len(t))\n",
    "print(s == t)\n",
    "\n",
    "print(s.isdisjoint(t))\n",
    "u = {\"Hallo\", \"1\", \"Test\"}\n",
    "print(s.isdisjoint(u))\n",
    "\n",
    "s = list(s)\n",
    "t = list(t)\n",
    "print(\"s == t:\", s == t)\n",
    "\n",
    "print(\"t eine Teilmenge von s:\", s >= t)\n",
    "print(\"s eine Teilmenge von t:\", s <= t )\n"
   ]
  },
  {
   "cell_type": "code",
   "execution_count": 116,
   "metadata": {},
   "outputs": [
    {
     "name": "stdout",
     "output_type": "stream",
     "text": [
      "2328591347808\n",
      "{6, 7}\n",
      "2328591347808\n"
     ]
    }
   ],
   "source": [
    "s = {1, 2, 3, 4, 5}\n",
    "t = {1, 2, 3, 4, 5, 6, 7}\n",
    "print(id(s))\n",
    "s ^= t\n",
    "print(s)\n",
    "print(id(s))"
   ]
  },
  {
   "cell_type": "code",
   "execution_count": 117,
   "metadata": {},
   "outputs": [
    {
     "name": "stdout",
     "output_type": "stream",
     "text": [
      "{1, 2, 3, 4, 5, 6, 7}\n"
     ]
    }
   ],
   "source": [
    "s = {1, 2, 3, 4, 5}\n",
    "t = {1, 2, 3, 4, 5, 6, 7}\n",
    "s |= t\n",
    "print(s)"
   ]
  },
  {
   "cell_type": "code",
   "execution_count": 118,
   "metadata": {},
   "outputs": [
    {
     "name": "stdout",
     "output_type": "stream",
     "text": [
      "{1, 2, 3, 4, 5}\n"
     ]
    }
   ],
   "source": [
    "s = {1, 2, 3, 4, 5}\n",
    "t = {1, 2, 3, 4, 5, 6, 7}\n",
    "s &= t\n",
    "print(s)"
   ]
  },
  {
   "cell_type": "code",
   "execution_count": 119,
   "metadata": {},
   "outputs": [
    {
     "name": "stdout",
     "output_type": "stream",
     "text": [
      "set()\n"
     ]
    }
   ],
   "source": [
    "s = {1, 2, 3, 4, 5}\n",
    "t = {1, 2, 3, 4, 5, 6, 7}\n",
    "s -= t\n",
    "print(s)"
   ]
  },
  {
   "cell_type": "code",
   "execution_count": 120,
   "metadata": {},
   "outputs": [
    {
     "name": "stdout",
     "output_type": "stream",
     "text": [
      "{'0'}\n",
      "set()\n",
      "{0, 67}\n",
      "0 {67}\n"
     ]
    }
   ],
   "source": [
    "s.add(\"0\")\n",
    "print(s)\n",
    "s.discard(\"0\")\n",
    "print(s)\n",
    "s.add(0)\n",
    "s.add(67)\n",
    "print(s)\n",
    "u = s.pop()\n",
    "print(u, s)"
   ]
  },
  {
   "cell_type": "markdown",
   "metadata": {},
   "source": [
    "### Dictionaries"
   ]
  },
  {
   "cell_type": "code",
   "execution_count": 121,
   "metadata": {},
   "outputs": [
    {
     "name": "stdout",
     "output_type": "stream",
     "text": [
      "{'Art:': 'Auto', 'Marke': 'VW', 'Model': 'Golf', 'Baujahr': 2004, 'Leistung': 75.9}\n",
      "True\n",
      "True\n",
      "VW\n",
      "{'Art:': 'Auto', 'Marke': 'VW', 'Model': 'Golf'}\n",
      "{'Art:': 'Auto', 'Marke': 'VW', 'Model': 'Golf', 'Baujahr': 1998}\n",
      "dict_keys(['Art:', 'Marke', 'Model', 'Baujahr'])\n",
      "dict_values(['Auto', 'VW', 'Golf', 1998])\n",
      "dict_items([('Art:', 'Auto'), ('Marke', 'VW'), ('Model', 'Golf'), ('Baujahr', 1998)])\n"
     ]
    }
   ],
   "source": [
    "d = {\"Art:\": \"Auto\",\n",
    "     \"Marke\": \"VW\",\n",
    "     \"Model\": \"Golf\",\n",
    "     \"Baujahr\": 2004,\n",
    "     \"Leistung\": 75.9}\n",
    "\n",
    "print(d)\n",
    "print(\"Marke\" in d)\n",
    "print(\"VW\" in d.values())\n",
    "\n",
    "print(d[\"Marke\"])\n",
    "d.pop(\"Baujahr\", 2004)\n",
    "d.popitem()\n",
    "print(d)\n",
    "d[\"Baujahr\"] = 1998\n",
    "print(d)\n",
    "\n",
    "print(d.keys())\n",
    "print(d.values())\n",
    "print(d.items())"
   ]
  },
  {
   "cell_type": "code",
   "execution_count": 122,
   "metadata": {},
   "outputs": [
    {
     "name": "stdout",
     "output_type": "stream",
     "text": [
      "abc\n"
     ]
    }
   ],
   "source": [
    "print(\"a\" + \"bc\")"
   ]
  },
  {
   "cell_type": "code",
   "execution_count": 123,
   "metadata": {},
   "outputs": [
    {
     "name": "stdout",
     "output_type": "stream",
     "text": [
      "[1, 3]\n"
     ]
    }
   ],
   "source": [
    "list1 = [1, 3]\n",
    "list2 = list1[:]\n",
    "list1[0] = 4\n",
    "print(list2)"
   ]
  },
  {
   "cell_type": "code",
   "execution_count": 124,
   "metadata": {},
   "outputs": [
    {
     "name": "stdout",
     "output_type": "stream",
     "text": [
      "{'a', 'b', 'd', 'e', '$', 'c'}\n",
      "True\n"
     ]
    }
   ],
   "source": [
    "z = set('abc$de')\n",
    "print(z)\n",
    "print(\"a\" in z)"
   ]
  },
  {
   "cell_type": "code",
   "execution_count": 125,
   "metadata": {},
   "outputs": [
    {
     "name": "stdout",
     "output_type": "stream",
     "text": [
      "['[0]', '[1]']\n",
      "('[0] [1]',)\n"
     ]
    }
   ],
   "source": [
    "x = [[0], [1]]\n",
    "y = list(map(str, x))\n",
    "print(y)\n",
    "print((\" \".join(y),))"
   ]
  },
  {
   "cell_type": "code",
   "execution_count": 126,
   "metadata": {},
   "outputs": [
    {
     "name": "stdout",
     "output_type": "stream",
     "text": [
      "<function foo at 0x0000021E2ABDBCE0>\n"
     ]
    }
   ],
   "source": [
    "def foo():\n",
    "    return None\n",
    "\n",
    "print(str(foo))"
   ]
  },
  {
   "cell_type": "code",
   "execution_count": 131,
   "metadata": {},
   "outputs": [
    {
     "name": "stdout",
     "output_type": "stream",
     "text": [
      "224\n",
      "33\n"
     ]
    }
   ],
   "source": [
    "class tester:\n",
    "    id = 224\n",
    "    def __init__(self, id) -> None:\n",
    "        self.id = id\n",
    "        pass\n",
    "\n",
    "print(tester.id)\n",
    "temp = tester(33)\n",
    "print(temp.id)"
   ]
  },
  {
   "cell_type": "code",
   "execution_count": 132,
   "metadata": {},
   "outputs": [
    {
     "name": "stdout",
     "output_type": "stream",
     "text": [
      "True\n"
     ]
    }
   ],
   "source": [
    "def foo(x):\n",
    "    x[0] = ['def']\n",
    "    x[1] = ['abc']\n",
    "    return id(x)\n",
    "q = ['abc', 'def']\n",
    "print(id(q) == foo(q))"
   ]
  },
  {
   "cell_type": "code",
   "execution_count": 133,
   "metadata": {},
   "outputs": [
    {
     "name": "stdout",
     "output_type": "stream",
     "text": [
      "Abc.def\n"
     ]
    }
   ],
   "source": [
    "s = \"Abc.\" + \"def\"\n",
    "\n",
    "print(s.capitalize())"
   ]
  },
  {
   "cell_type": "code",
   "execution_count": 134,
   "metadata": {},
   "outputs": [
    {
     "name": "stdout",
     "output_type": "stream",
     "text": [
      "*abcde *\n",
      "aa\n"
     ]
    }
   ],
   "source": [
    "print('*', \"abcde\".center(6), '*', sep='')\n",
    "\n",
    "print(\"aa\".center(1))"
   ]
  },
  {
   "cell_type": "code",
   "execution_count": 135,
   "metadata": {},
   "outputs": [
    {
     "name": "stdout",
     "output_type": "stream",
     "text": [
      "['__abs__', '__add__', '__and__', '__bool__', '__ceil__', '__class__', '__delattr__', '__dir__', '__divmod__', '__doc__', '__eq__', '__float__', '__floor__', '__floordiv__', '__format__', '__ge__', '__getattribute__', '__getnewargs__', '__getstate__', '__gt__', '__hash__', '__index__', '__init__', '__init_subclass__', '__int__', '__invert__', '__le__', '__lshift__', '__lt__', '__mod__', '__mul__', '__ne__', '__neg__', '__new__', '__or__', '__pos__', '__pow__', '__radd__', '__rand__', '__rdivmod__', '__reduce__', '__reduce_ex__', '__repr__', '__rfloordiv__', '__rlshift__', '__rmod__', '__rmul__', '__ror__', '__round__', '__rpow__', '__rrshift__', '__rshift__', '__rsub__', '__rtruediv__', '__rxor__', '__setattr__', '__sizeof__', '__str__', '__sub__', '__subclasshook__', '__truediv__', '__trunc__', '__xor__', 'as_integer_ratio', 'bit_count', 'bit_length', 'conjugate', 'denominator', 'from_bytes', 'imag', 'is_integer', 'numerator', 'real', 'to_bytes']\n",
      "True\n",
      "b'\\x05'\n",
      "0b101\n",
      "0x5\n",
      "0o5\n"
     ]
    }
   ],
   "source": [
    "a = 5\n",
    "\n",
    "print(dir(a))\n",
    "print(a.is_integer())\n",
    "print(a.to_bytes())\n",
    "print(bin(a))\n",
    "print(hex(a))\n",
    "print(oct(a))"
   ]
  },
  {
   "cell_type": "code",
   "execution_count": 136,
   "metadata": {},
   "outputs": [
    {
     "name": "stdout",
     "output_type": "stream",
     "text": [
      "5\n",
      "4\n",
      "5\n",
      "False\n"
     ]
    }
   ],
   "source": [
    "import math\n",
    "a = 4.6763\n",
    "print(math.ceil(a))\n",
    "print(math.floor(a))\n",
    "print(round(a, ))\n",
    "print(math.isclose(a, 4.676, rel_tol=0.00001))"
   ]
  },
  {
   "cell_type": "code",
   "execution_count": 137,
   "metadata": {},
   "outputs": [
    {
     "name": "stdout",
     "output_type": "stream",
     "text": [
      "Hello foo and 4\n"
     ]
    }
   ],
   "source": [
    "print(\"Hello {0[0]} and {1[1]}\".format(('foo', 'bin'), [1, 4]))"
   ]
  },
  {
   "cell_type": "code",
   "execution_count": 138,
   "metadata": {},
   "outputs": [
    {
     "name": "stdout",
     "output_type": "stream",
     "text": [
      "8\n",
      "8.0\n"
     ]
    }
   ],
   "source": [
    "import math\n",
    "print(2**3)\n",
    "print(math.pow(2, 3))"
   ]
  },
  {
   "cell_type": "code",
   "execution_count": 139,
   "metadata": {},
   "outputs": [
    {
     "name": "stdout",
     "output_type": "stream",
     "text": [
      "Help on built-in function round in module builtins:\n",
      "\n",
      "round(number, ndigits=None)\n",
      "    Round a number to a given precision in decimal digits.\n",
      "\n",
      "    The return value is an integer if ndigits is omitted or None.  Otherwise\n",
      "    the return value has the same type as the number.  ndigits may be negative.\n",
      "\n"
     ]
    }
   ],
   "source": [
    "help(round)"
   ]
  },
  {
   "cell_type": "code",
   "execution_count": 140,
   "metadata": {},
   "outputs": [
    {
     "name": "stdout",
     "output_type": "stream",
     "text": [
      "Help on built-in function print in module builtins:\n",
      "\n",
      "print(*args, sep=' ', end='\\n', file=None, flush=False)\n",
      "    Prints the values to a stream, or to sys.stdout by default.\n",
      "\n",
      "    sep\n",
      "      string inserted between values, default a space.\n",
      "    end\n",
      "      string appended after the last value, default a newline.\n",
      "    file\n",
      "      a file-like object (stream); defaults to the current sys.stdout.\n",
      "    flush\n",
      "      whether to forcibly flush the stream.\n",
      "\n"
     ]
    }
   ],
   "source": [
    "help(print)"
   ]
  },
  {
   "cell_type": "code",
   "execution_count": 141,
   "metadata": {},
   "outputs": [
    {
     "data": {
      "text/plain": [
       "int"
      ]
     },
     "execution_count": 141,
     "metadata": {},
     "output_type": "execute_result"
    }
   ],
   "source": [
    "type(id(5))"
   ]
  },
  {
   "cell_type": "code",
   "execution_count": 142,
   "metadata": {},
   "outputs": [
    {
     "name": "stdout",
     "output_type": "stream",
     "text": [
      "6\n",
      "6\n",
      "1\n"
     ]
    }
   ],
   "source": [
    "print(int(13/2))\n",
    "print(13//2)\n",
    "print(13%2)\n"
   ]
  },
  {
   "cell_type": "code",
   "execution_count": 143,
   "metadata": {},
   "outputs": [
    {
     "name": "stdout",
     "output_type": "stream",
     "text": [
      "Help on built-in function trunc in module math:\n",
      "\n",
      "trunc(x, /)\n",
      "    Truncates the Real x to the nearest Integral toward 0.\n",
      "\n",
      "    Uses the __trunc__ magic method.\n",
      "\n"
     ]
    }
   ],
   "source": [
    "help(math.trunc)"
   ]
  },
  {
   "cell_type": "code",
   "execution_count": 144,
   "metadata": {},
   "outputs": [
    {
     "data": {
      "text/plain": [
       "1"
      ]
     },
     "execution_count": 144,
     "metadata": {},
     "output_type": "execute_result"
    }
   ],
   "source": [
    "math.trunc(1.8)"
   ]
  },
  {
   "cell_type": "code",
   "execution_count": 145,
   "metadata": {},
   "outputs": [
    {
     "name": "stdout",
     "output_type": "stream",
     "text": [
      "0.30000000000000004\n"
     ]
    }
   ],
   "source": [
    "print(0.1+0.2)"
   ]
  },
  {
   "cell_type": "code",
   "execution_count": 146,
   "metadata": {},
   "outputs": [
    {
     "name": "stdout",
     "output_type": "stream",
     "text": [
      "-5\n",
      "-5\n"
     ]
    }
   ],
   "source": [
    "print(~4)\n",
    "print(-(4+1))"
   ]
  },
  {
   "cell_type": "code",
   "execution_count": 147,
   "metadata": {},
   "outputs": [
    {
     "name": "stdout",
     "output_type": "stream",
     "text": [
      "5\n"
     ]
    }
   ],
   "source": [
    "print(~~~~~~5)"
   ]
  },
  {
   "cell_type": "code",
   "execution_count": 148,
   "metadata": {},
   "outputs": [
    {
     "name": "stdout",
     "output_type": "stream",
     "text": [
      "nan\n"
     ]
    }
   ],
   "source": [
    "print(float('nan'))"
   ]
  },
  {
   "cell_type": "code",
   "execution_count": 149,
   "metadata": {},
   "outputs": [
    {
     "name": "stdout",
     "output_type": "stream",
     "text": [
      "0\n"
     ]
    }
   ],
   "source": [
    "print(round(0.5))"
   ]
  },
  {
   "cell_type": "code",
   "execution_count": 150,
   "metadata": {},
   "outputs": [
    {
     "name": "stdout",
     "output_type": "stream",
     "text": [
      "0b11 0b100\n"
     ]
    }
   ],
   "source": [
    "print(bin(3), bin(4))"
   ]
  },
  {
   "cell_type": "code",
   "execution_count": 151,
   "metadata": {},
   "outputs": [
    {
     "name": "stdout",
     "output_type": "stream",
     "text": [
      "7\n",
      "7\n"
     ]
    }
   ],
   "source": [
    "print(0b111)\n",
    "print(3^4)"
   ]
  },
  {
   "cell_type": "code",
   "execution_count": 152,
   "metadata": {},
   "outputs": [
    {
     "data": {
      "text/plain": [
       "0"
      ]
     },
     "execution_count": 152,
     "metadata": {},
     "output_type": "execute_result"
    }
   ],
   "source": [
    "0 % 1\n"
   ]
  },
  {
   "cell_type": "code",
   "execution_count": 153,
   "metadata": {},
   "outputs": [
    {
     "data": {
      "text/plain": [
       "11"
      ]
     },
     "execution_count": 153,
     "metadata": {},
     "output_type": "execute_result"
    }
   ],
   "source": [
    "int(0b1011)"
   ]
  },
  {
   "cell_type": "code",
   "execution_count": 154,
   "metadata": {},
   "outputs": [
    {
     "data": {
      "text/plain": [
       "15"
      ]
     },
     "execution_count": 154,
     "metadata": {},
     "output_type": "execute_result"
    }
   ],
   "source": [
    "int(\"1111\", 2)"
   ]
  },
  {
   "cell_type": "code",
   "execution_count": 155,
   "metadata": {},
   "outputs": [
    {
     "data": {
      "text/plain": [
       "65535"
      ]
     },
     "execution_count": 155,
     "metadata": {},
     "output_type": "execute_result"
    }
   ],
   "source": [
    "int('FFFF', 16)"
   ]
  },
  {
   "cell_type": "code",
   "execution_count": 158,
   "metadata": {},
   "outputs": [
    {
     "data": {
      "text/plain": [
       "True"
      ]
     },
     "execution_count": 158,
     "metadata": {},
     "output_type": "execute_result"
    }
   ],
   "source": [
    "bool('False')"
   ]
  },
  {
   "cell_type": "code",
   "execution_count": 159,
   "metadata": {},
   "outputs": [
    {
     "data": {
      "text/plain": [
       "True"
      ]
     },
     "execution_count": 159,
     "metadata": {},
     "output_type": "execute_result"
    }
   ],
   "source": [
    "bool(int(~False))"
   ]
  },
  {
   "cell_type": "code",
   "execution_count": 160,
   "metadata": {},
   "outputs": [
    {
     "name": "stdout",
     "output_type": "stream",
     "text": [
      "Help on class bool in module builtins:\n",
      "\n",
      "class bool(int)\n",
      " |  bool(x) -> bool\n",
      " |\n",
      " |  Returns True when the argument x is true, False otherwise.\n",
      " |  The builtins True and False are the only two instances of the class bool.\n",
      " |  The class bool is a subclass of the class int, and cannot be subclassed.\n",
      " |\n",
      " |  Method resolution order:\n",
      " |      bool\n",
      " |      int\n",
      " |      object\n",
      " |\n",
      " |  Methods defined here:\n",
      " |\n",
      " |  __and__(self, value, /)\n",
      " |      Return self&value.\n",
      " |\n",
      " |  __invert__(self, /)\n",
      " |      ~self\n",
      " |\n",
      " |  __or__(self, value, /)\n",
      " |      Return self|value.\n",
      " |\n",
      " |  __rand__(self, value, /)\n",
      " |      Return value&self.\n",
      " |\n",
      " |  __repr__(self, /)\n",
      " |      Return repr(self).\n",
      " |\n",
      " |  __ror__(self, value, /)\n",
      " |      Return value|self.\n",
      " |\n",
      " |  __rxor__(self, value, /)\n",
      " |      Return value^self.\n",
      " |\n",
      " |  __xor__(self, value, /)\n",
      " |      Return self^value.\n",
      " |\n",
      " |  ----------------------------------------------------------------------\n",
      " |  Static methods defined here:\n",
      " |\n",
      " |  __new__(*args, **kwargs) from builtins.type\n",
      " |      Create and return a new object.  See help(type) for accurate signature.\n",
      " |\n",
      " |  ----------------------------------------------------------------------\n",
      " |  Methods inherited from int:\n",
      " |\n",
      " |  __abs__(self, /)\n",
      " |      abs(self)\n",
      " |\n",
      " |  __add__(self, value, /)\n",
      " |      Return self+value.\n",
      " |\n",
      " |  __bool__(self, /)\n",
      " |      True if self else False\n",
      " |\n",
      " |  __ceil__(...)\n",
      " |      Ceiling of an Integral returns itself.\n",
      " |\n",
      " |  __divmod__(self, value, /)\n",
      " |      Return divmod(self, value).\n",
      " |\n",
      " |  __eq__(self, value, /)\n",
      " |      Return self==value.\n",
      " |\n",
      " |  __float__(self, /)\n",
      " |      float(self)\n",
      " |\n",
      " |  __floor__(...)\n",
      " |      Flooring an Integral returns itself.\n",
      " |\n",
      " |  __floordiv__(self, value, /)\n",
      " |      Return self//value.\n",
      " |\n",
      " |  __format__(self, format_spec, /)\n",
      " |      Convert to a string according to format_spec.\n",
      " |\n",
      " |  __ge__(self, value, /)\n",
      " |      Return self>=value.\n",
      " |\n",
      " |  __getattribute__(self, name, /)\n",
      " |      Return getattr(self, name).\n",
      " |\n",
      " |  __getnewargs__(self, /)\n",
      " |\n",
      " |  __gt__(self, value, /)\n",
      " |      Return self>value.\n",
      " |\n",
      " |  __hash__(self, /)\n",
      " |      Return hash(self).\n",
      " |\n",
      " |  __index__(self, /)\n",
      " |      Return self converted to an integer, if self is suitable for use as an index into a list.\n",
      " |\n",
      " |  __int__(self, /)\n",
      " |      int(self)\n",
      " |\n",
      " |  __le__(self, value, /)\n",
      " |      Return self<=value.\n",
      " |\n",
      " |  __lshift__(self, value, /)\n",
      " |      Return self<<value.\n",
      " |\n",
      " |  __lt__(self, value, /)\n",
      " |      Return self<value.\n",
      " |\n",
      " |  __mod__(self, value, /)\n",
      " |      Return self%value.\n",
      " |\n",
      " |  __mul__(self, value, /)\n",
      " |      Return self*value.\n",
      " |\n",
      " |  __ne__(self, value, /)\n",
      " |      Return self!=value.\n",
      " |\n",
      " |  __neg__(self, /)\n",
      " |      -self\n",
      " |\n",
      " |  __pos__(self, /)\n",
      " |      +self\n",
      " |\n",
      " |  __pow__(self, value, mod=None, /)\n",
      " |      Return pow(self, value, mod).\n",
      " |\n",
      " |  __radd__(self, value, /)\n",
      " |      Return value+self.\n",
      " |\n",
      " |  __rdivmod__(self, value, /)\n",
      " |      Return divmod(value, self).\n",
      " |\n",
      " |  __rfloordiv__(self, value, /)\n",
      " |      Return value//self.\n",
      " |\n",
      " |  __rlshift__(self, value, /)\n",
      " |      Return value<<self.\n",
      " |\n",
      " |  __rmod__(self, value, /)\n",
      " |      Return value%self.\n",
      " |\n",
      " |  __rmul__(self, value, /)\n",
      " |      Return value*self.\n",
      " |\n",
      " |  __round__(...)\n",
      " |      Rounding an Integral returns itself.\n",
      " |\n",
      " |      Rounding with an ndigits argument also returns an integer.\n",
      " |\n",
      " |  __rpow__(self, value, mod=None, /)\n",
      " |      Return pow(value, self, mod).\n",
      " |\n",
      " |  __rrshift__(self, value, /)\n",
      " |      Return value>>self.\n",
      " |\n",
      " |  __rshift__(self, value, /)\n",
      " |      Return self>>value.\n",
      " |\n",
      " |  __rsub__(self, value, /)\n",
      " |      Return value-self.\n",
      " |\n",
      " |  __rtruediv__(self, value, /)\n",
      " |      Return value/self.\n",
      " |\n",
      " |  __sizeof__(self, /)\n",
      " |      Returns size in memory, in bytes.\n",
      " |\n",
      " |  __sub__(self, value, /)\n",
      " |      Return self-value.\n",
      " |\n",
      " |  __truediv__(self, value, /)\n",
      " |      Return self/value.\n",
      " |\n",
      " |  __trunc__(...)\n",
      " |      Truncating an Integral returns itself.\n",
      " |\n",
      " |  as_integer_ratio(self, /)\n",
      " |      Return a pair of integers, whose ratio is equal to the original int.\n",
      " |\n",
      " |      The ratio is in lowest terms and has a positive denominator.\n",
      " |\n",
      " |      >>> (10).as_integer_ratio()\n",
      " |      (10, 1)\n",
      " |      >>> (-10).as_integer_ratio()\n",
      " |      (-10, 1)\n",
      " |      >>> (0).as_integer_ratio()\n",
      " |      (0, 1)\n",
      " |\n",
      " |  bit_count(self, /)\n",
      " |      Number of ones in the binary representation of the absolute value of self.\n",
      " |\n",
      " |      Also known as the population count.\n",
      " |\n",
      " |      >>> bin(13)\n",
      " |      '0b1101'\n",
      " |      >>> (13).bit_count()\n",
      " |      3\n",
      " |\n",
      " |  bit_length(self, /)\n",
      " |      Number of bits necessary to represent self in binary.\n",
      " |\n",
      " |      >>> bin(37)\n",
      " |      '0b100101'\n",
      " |      >>> (37).bit_length()\n",
      " |      6\n",
      " |\n",
      " |  conjugate(...)\n",
      " |      Returns self, the complex conjugate of any int.\n",
      " |\n",
      " |  is_integer(self, /)\n",
      " |      Returns True. Exists for duck type compatibility with float.is_integer.\n",
      " |\n",
      " |  to_bytes(self, /, length=1, byteorder='big', *, signed=False)\n",
      " |      Return an array of bytes representing an integer.\n",
      " |\n",
      " |      length\n",
      " |        Length of bytes object to use.  An OverflowError is raised if the\n",
      " |        integer is not representable with the given number of bytes.  Default\n",
      " |        is length 1.\n",
      " |      byteorder\n",
      " |        The byte order used to represent the integer.  If byteorder is 'big',\n",
      " |        the most significant byte is at the beginning of the byte array.  If\n",
      " |        byteorder is 'little', the most significant byte is at the end of the\n",
      " |        byte array.  To request the native byte order of the host system, use\n",
      " |        `sys.byteorder' as the byte order value.  Default is to use 'big'.\n",
      " |      signed\n",
      " |        Determines whether two's complement is used to represent the integer.\n",
      " |        If signed is False and a negative integer is given, an OverflowError\n",
      " |        is raised.\n",
      " |\n",
      " |  ----------------------------------------------------------------------\n",
      " |  Class methods inherited from int:\n",
      " |\n",
      " |  from_bytes(bytes, byteorder='big', *, signed=False) from builtins.type\n",
      " |      Return the integer represented by the given array of bytes.\n",
      " |\n",
      " |      bytes\n",
      " |        Holds the array of bytes to convert.  The argument must either\n",
      " |        support the buffer protocol or be an iterable object producing bytes.\n",
      " |        Bytes and bytearray are examples of built-in objects that support the\n",
      " |        buffer protocol.\n",
      " |      byteorder\n",
      " |        The byte order used to represent the integer.  If byteorder is 'big',\n",
      " |        the most significant byte is at the beginning of the byte array.  If\n",
      " |        byteorder is 'little', the most significant byte is at the end of the\n",
      " |        byte array.  To request the native byte order of the host system, use\n",
      " |        `sys.byteorder' as the byte order value.  Default is to use 'big'.\n",
      " |      signed\n",
      " |        Indicates whether two's complement is used to represent the integer.\n",
      " |\n",
      " |  ----------------------------------------------------------------------\n",
      " |  Data descriptors inherited from int:\n",
      " |\n",
      " |  denominator\n",
      " |      the denominator of a rational number in lowest terms\n",
      " |\n",
      " |  imag\n",
      " |      the imaginary part of a complex number\n",
      " |\n",
      " |  numerator\n",
      " |      the numerator of a rational number in lowest terms\n",
      " |\n",
      " |  real\n",
      " |      the real part of a complex number\n",
      "\n"
     ]
    }
   ],
   "source": [
    "help(bool)"
   ]
  },
  {
   "cell_type": "code",
   "execution_count": 161,
   "metadata": {},
   "outputs": [
    {
     "data": {
      "text/plain": [
       "2"
      ]
     },
     "execution_count": 161,
     "metadata": {},
     "output_type": "execute_result"
    }
   ],
   "source": [
    "int(True) *2"
   ]
  },
  {
   "cell_type": "code",
   "execution_count": 162,
   "metadata": {},
   "outputs": [
    {
     "name": "stdout",
     "output_type": "stream",
     "text": [
      "<class 'str'>\n"
     ]
    }
   ],
   "source": [
    "x = 13\n",
    "print(type(f\"{x:05d}\"))"
   ]
  },
  {
   "cell_type": "code",
   "execution_count": 163,
   "metadata": {},
   "outputs": [
    {
     "data": {
      "text/plain": [
       "'1 hello 4 you'"
      ]
     },
     "execution_count": 163,
     "metadata": {},
     "output_type": "execute_result"
    }
   ],
   "source": [
    "'%d %s %g you' %(1, 'hello', 4.0)"
   ]
  },
  {
   "cell_type": "code",
   "execution_count": 164,
   "metadata": {},
   "outputs": [
    {
     "data": {
      "text/plain": [
       "{'__name__': '__main__',\n",
       " '__doc__': 'Automatically created module for IPython interactive environment',\n",
       " '__package__': None,\n",
       " '__loader__': None,\n",
       " '__spec__': None,\n",
       " '__builtin__': <module 'builtins' (built-in)>,\n",
       " '__builtins__': <module 'builtins' (built-in)>,\n",
       " '_ih': ['',\n",
       "  'class A:\\n    def __init__(self):\\n        self.__x = 1\\nclass B(A):\\n    def display(self):\\n        print(self.__x)\\ndef main():\\n    obj1 = B()\\n    obj2 = B()\\n    obj3 = A()\\n\\n    s = {obj1, obj2, obj3}\\n\\n    print(s)\\nmain()',\n",
       "  'class MyClass:\\n    def __init__(self, value):\\n        self.value = value\\n\\n    def __hash__(self):\\n        return hash(self.value)\\n\\n    def __eq__(self, other):\\n        return isinstance(other, MyClass) and self.value == other.value\\n\\n# Create instances of MyClass\\nobj1 = MyClass(1)\\nobj2 = MyClass(2)\\nobj3 = MyClass(1)\\n\\n# Create a set and add instances to it\\nmy_set = {obj1, obj2, obj3}\\n\\nprint(my_set)  # Output: {MyClass(1), MyClass(2)}',\n",
       "  'class MyClass:\\n    def __init__(self, value):\\n        self.value = value\\n\\n    # def __hash__(self):\\n    #     return hash(self.value)\\n\\n    # def __eq__(self, other):\\n    #     return isinstance(other, MyClass) and self.value == other.value\\n\\n# Create instances of MyClass\\nobj1 = MyClass(1)\\nobj2 = MyClass(2)\\nobj3 = MyClass(1)\\n\\n# Create a set and add instances to it\\nmy_set = {obj1, obj2, obj3}\\n\\nprint(my_set)  # Output: {MyClass(1), MyClass(2)}',\n",
       "  'class Demo:\\n    def __check(self):\\n        return \" Demo\\'s check \"\\n    def display(self):\\n        print(self.__check())\\nclass Demo_Derived(Demo):\\n    def __check(self):\\n        return \" Derived\\'s check \"\\nDemo().display()\\nDemo_Derived().display()',\n",
       "  'class Demo:\\n    def __check(self):\\n        return \" Demo\\'s check \"\\n    def display(self):\\n        print(self.__check())\\nclass Demo_Derived(Demo):\\n    def display(self):\\n        print(self.__check())\\n    def __check(self):\\n        return \" Derived\\'s check \"\\nDemo().display()\\nDemo_Derived().display()',\n",
       "  'a=list((45,)*4)\\nprint((45)*4)\\nprint(a)',\n",
       "  'a=list((45, )*4)\\nprint((45)*4)\\nprint(a)',\n",
       "  'a=list((45, 0)*4)\\nprint((45)*4)\\nprint(a)',\n",
       "  'a=list((45, 0), (45, 0), (45, 0), (45, 0), (45, 0)  )\\nprint((45)*4)\\nprint(a)',\n",
       "  'a=list(((45, 0), (45, 0), (45, 0), (45, 0), (45, 0) ))\\nprint((45)*4)\\nprint(a)',\n",
       "  'a=list((45,)*4)\\nprint((45)*4)\\nprint(a)',\n",
       "  'lst=[[1,2],[3,4]]\\nprint(sum(lst,[]))',\n",
       "  'lst=[[1,2],[3,4]]\\nprint(sum(lst))',\n",
       "  'lst=[[1,2],[3,4]]\\nprint(sum(lst, []))',\n",
       "  'my_set = {1, 2, 3, 4, 5}\\nremoved_element = my_set.pop()\\nprint(removed_element)  # Output: This could be any element from the set\\nprint(my_set)   ',\n",
       "  'my_set = {1, 2, 3, 4, 5}\\nremoved_element = my_set.pop()\\nprint(removed_element)  # Output: This could be any element from the set\\nprint(my_set)   ',\n",
       "  'my_set = {1, 2, 3, 4, 5}\\nremoved_element = my_set.pop()\\nprint(removed_element)  # Output: This could be any element from the set\\nprint(my_set)   ',\n",
       "  'my_set = {2, 3, 4, 5, 1}\\nremoved_element = my_set.pop()\\nprint(removed_element)  # Output: This could be any element from the set\\nprint(my_set)   ',\n",
       "  'x = 56.236\\nprint(\"%.2f%\"%x)',\n",
       "  'x = 56.236\\nprint(f\"{x: .2f}\")',\n",
       "  'x = 56.236\\nprint(f\"{x: .2f%}\")',\n",
       "  'x = 56.236\\nprint(f\"{x: .2f} %\")',\n",
       "  'x = 1\\nx << 2',\n",
       "  'x = 1\\nx >> 2',\n",
       "  'x = 1.0\\nx >> 2',\n",
       "  'x = 1.0\\nx >> 2.0',\n",
       "  'x = 1\\nx >> 2',\n",
       "  'x = 1\\nprint(bin(x >> 2))',\n",
       "  'a = 6\\nb = 2\\nprint(a - b,\\n      a * b,\\n      a / b,\\n      a % b, \\n      sep=\"\\\\n\")',\n",
       "  'a = 2\\nb = 3\\nresult_exp = a ** b  # 8\\n\\na = 7\\nb = 2\\nresult_floor_div = a // b  # 3',\n",
       "  'x = 0b1100  # 12 in binary\\ny = 0b1010  # 10 in binary\\n\\nresult_and = x & y  # 8 (0b1000)\\nresult_or = x | y   # 14 (0b1110)\\nresult_xor = x ^ y  # 6 (0b0110)\\nresult_not = ~~~1\\nprint(result_and)\\nprint(0b1111)\\nprint(bin(result_not))\\nprint((result_not))',\n",
       "  'x = 0b1100  # 12 in binary\\ny = 0b1010  # 10 in binary\\n\\nresult_and = x & y  # 8 (0b1000)\\nresult_or = x | y   # 14 (0b1110)\\nresult_xor = x ^ y  # 6 (0b0110)\\nresult_not = ~~~1\\nprint(result_and)\\nprint(result_or)\\nprint(0b1111)\\nprint(bin(result_not))\\nprint((result_not))',\n",
       "  'x = 0b1100  # 12 in binary\\ny = 0b1010  # 10 in binary\\n\\nresult_and = x & y  # 8 (0b1000)\\nresult_or = x | y   # 14 (0b1110)\\nresult_xor = x ^ y  # 6 (0b0110)\\nresult_not = ~~~1\\nprint(result_and)\\nprint(result_or)\\nprint(result_xor)\\nprint(0b1111)\\nprint(bin(result_not))\\nprint((result_not))',\n",
       "  'num = 8  # 0b1000\\n\\nresult_left_shift = num << 2  # 32 (0b100000)\\nresult_right_shift = num >> 2  # 2 (0b10)\\n\\nprint(bin(num))\\nprint(bin(result_left_shift))\\nprint(result_left_shift)\\nprint(result_right_shift)',\n",
       "  'def print_args(*args, **kwargs):\\n    print(\"Positional arguments:\", args)\\n    print(\"Keyword arguments:\", kwargs)\\n\\nprint_args(1, 2, True,  3, name=\"Alice\", age=30, test=\\'vier\\', hund = \"katze\", z=\"b\")',\n",
       "  'square = lambda x: x ** 2',\n",
       "  'def add(x, y):\\n    return x + y\\n\\nresult = add(3, 5)\\n\\ndef apply_operation(operation, x, y):\\n    return operation(x, y)\\n\\nresult = apply_operation(add, 3, 5)\\n\\nprint(result)',\n",
       "  'def my_decorator(func):\\n    def wrapper():\\n        print(\"Something is happening before the function is called.\")\\n        func()\\n        print(\"Something is happening after the function is called.\")\\n\\n    return wrapper\\n\\n@my_decorator\\ndef say_hello():\\n    print(\"Hello!\")\\n\\nsay_hello()',\n",
       "  'class Dog:\\n    def __init__(self, name, age):\\n        self.name = name\\n        self.age = age\\n\\n    def bark(self):\\n        print(\"Woof!\")',\n",
       "  'dog1 = Dog(\"Paul\", 4)\\n\\ndog1.bark()',\n",
       "  'class Labrador(Dog):\\n    def swim(self):\\n        print(f\"{self.name} is swimming!\")',\n",
       "  'dog1 = Labrador(dog1.name, dog1.age)\\n\\ndog1.swim()',\n",
       "  'add = lambda x, y: x + y\\nprint(add(2, 3))  # Output: 5\\n\\nresult = (3 + 4) * 2 + (3 ** 2) - (4 / 2)\\nprint(result)',\n",
       "  'numbers = [1, 2, 3, 4, 5]\\nresult = list(map(lambda x: x * 2, numbers))\\nprint(result)',\n",
       "  'numbers = [1, 2, 3, 4, 5]\\nresult = list(map(lambda x: x ** 2, numbers))\\nprint(result)',\n",
       "  \"names = ['Alice', 'Bob', 'Charlie']\\nresult = list(map(lambda name: len(name), names))\\nprint(result)\",\n",
       "  \"grades = [90, 85, 78, 92, 88]\\nresult = list(map(lambda grade: 'Pass' if grade >= 80 else 'Fail', grades))\\nprint(result)\",\n",
       "  \"words = ['hello', 'world', 'python']\\nresult = list(map(lambda word: word.upper(), words))\\nprint(result)\",\n",
       "  'temperatures = [22, 18, 25, 30]\\nresult = list(map(lambda temp: (temp * 9/5) + 32, temperatures))\\nprint(result)',\n",
       "  'numbers1 = [1, 2, 3, 4]\\nnumbers2 = [5, 6, 7, 8]\\nresult = list(map(lambda x, y: x + y, numbers1, numbers2))\\nprint(result)',\n",
       "  'numbers1 = [1, 2, 3, 4]\\nnumbers2 = [5, 6, 7, 8]\\nresult = list(map(lambda x, y: x + y, numbers1, numbers2))\\nprint(result)',\n",
       "  'numbers1 = [1, 2, 3, 4]\\nnumbers2 = [5, 6, 7, 8]\\nresult = list(map(lambda x, y: x + y, numbers1, numbers2))\\nresult = list(lambda x, y: x + y for x, y in zip(numbers1, numbers2))\\nprint(result)',\n",
       "  \"numbers = [2, 4, 6, 8, 10]\\nresult = list(map(lambda x: 'Even' if x % 2 == 0 else 'Odd', numbers))\\nprint(result)\",\n",
       "  'def foo(a, b):\\n    b = a/2\\n    c = {}\\n    c[b] = a\\n    return list (c. keys ())[0] + a%2',\n",
       "  'def foo(a, b):\\n    b = a/2\\n    c = {}\\n    c[b] = a\\n    return list (c. keys ())[0] + a%2',\n",
       "  'print (foo (4, 2))',\n",
       "  'print (foo (b=1, a =2))',\n",
       "  'print (foo (a=3, b =1))',\n",
       "  'print (foo (0, -1))',\n",
       "  'def foo(l, bar ):\\n    return list ( map (bar , l))',\n",
       "  'print (foo ([0 ,1 ,2] , lambda x: x +2))',\n",
       "  'print (foo ([2.0 ,1 ,2] , lambda x: x +2))',\n",
       "  'print(foo ([1 ,2] , lambda x: x >>2))',\n",
       "  'print (foo ([1 ,3] , lambda x: x+x))',\n",
       "  'my_list = [(1, 2)]\\nif my_list:\\n    print(\"List is not empty\")\\nelse:\\n    print(\"List is empty\")\\n\\nprint(my_list[0].count(2))',\n",
       "  'x = 5\\ny = 3\\nresult = x > y\\nprint(result)',\n",
       "  'a = 10\\nb = -5\\nresult = a != b\\nprint(result)',\n",
       "  'name1 = \"Alice\"\\nname2 = \"Bob\"\\nresult = name1 < name2\\nprint(result)\\n# The correct answer is True, as \"Alice\" comes before \"Bob\" lexicographically.',\n",
       "  'list1 = [1, 2, 3]\\nlist2 = [1, 2, 3, 4]\\nresult = len(list1) == len(list2)\\nprint(result)',\n",
       "  'temperature = 25\\nresult = temperature >= 20 and temperature <= 30\\nprint(result)',\n",
       "  'word = \"Python\"\\nresult = \"thon\" in word\\nprint(result)',\n",
       "  'value1 = 3.1415\\nvalue2 = 3.1416\\nprint(abs(value1-value2))\\nresult = abs(value1 - value2) < 0.001\\nprint(result)',\n",
       "  'string1 = \"hello\"\\nstring2 = \"world\"\\nresult = string1 == string2\\nprint(result)',\n",
       "  'string1 = \"hello\"\\nstring2 = \"world\"\\nresult = string1 == string2\\nprint(result)\\n\\nstring1 = \"hello\"\\nstring2 = \"hello\"\\nresult = string1 == string2\\nprint(result)',\n",
       "  'string1 = \"hello\"\\nstring2 = \"world\"\\nresult = string1 == string2\\nprint(result)\\n\\nstring1 = \"hello\"\\nstring2 = \"hello\"\\nresult = string1 is string2\\nprint(result)',\n",
       "  'string1 = \"hello\"\\nstring2 = \"world\"\\nresult = string1 == string2\\nprint(result)\\n\\nstring1 = \"hello\"\\nstring2 = \"hello\"\\nresult = id(string1) is id(string2)\\nprint(result)',\n",
       "  'string1 = \"hello\"\\nstring2 = \"world\"\\nresult = string1 == string2\\nprint(result)\\n\\nstring1 = \"hello\"\\nstring2 = \"hello\"\\nresult = id(string1) == id(string2)\\nprint(result)',\n",
       "  'number = 42\\ntext = \"42\"\\nresult = number == text\\nprint(result)',\n",
       "  'list1 = [1, 2, 3]\\nlist2 = [int(i) for i in \"123\"]\\nresult = list1 == list2\\nprint(result)',\n",
       "  'tuple1 = (1, 2, 3)\\ntuple2 = [1, 2, 3]\\nresult = tuple1 == tuple2\\nprint(result)',\n",
       "  'word = \"Python\"\\nnumber = 123\\nresult = word == number\\nprint(result)',\n",
       "  'set1 = {1, 2, 3}\\nset2 = {3, 2, 1}\\nresult = set1 == set2\\nprint(result)\\n# The correct answer is True. \\n# Sets are unordered, and their elements are the same, so the sets are considered equal.',\n",
       "  \"dictionary = {'a': 1, 'b': 2}\\nresult = dictionary == 42\\nprint(result)\",\n",
       "  'complex_number = 3 + 4j\\ninteger = 5\\nresult = complex_number == integer\\nprint(result)',\n",
       "  'boolean = True\\nnone_value = None\\nresult = boolean == none_value\\nprint(result)',\n",
       "  'string1 = \"abc\"\\nstring2 = \"def\"\\nresult = string1 <= string2\\nprint(result)\\n# The correct answer is False.\\n# String comparison is based on lexicographic order, and \\'abc\\' is not greater than or equal to \\'def\\'',\n",
       "  'float_number = 3.14\\nboolean = True\\nresult = float_number > boolean\\nprint(result)\\n# The correct answer is True.\\n#In Python, True is considered equal to 1, so 3.14 is greater than 1.',\n",
       "  'def example1(lst, func):\\n    return list(map(func, lst))\\n\\n\\nprint(example1([0, 1, 2], lambda x: x**2))',\n",
       "  'def example2(lst, func):\\n    return list(map(func, lst))\\n\\n\\nprint(example2([0, 2, 4], lambda x: x + 1))',\n",
       "  'def example3(lst, func):\\n    return list(map(func, lst))\\n\\n\\nprint(example3([0, 1, 2], lambda x: x if x > 0 else \"\"))',\n",
       "  'def example4(lst, func):\\n    return list(map(func, lst))\\n\\nprint(example4([65, 66, 67], lambda x: chr(x)))',\n",
       "  \"def example5(lst, func):\\n    return list(map(func, lst))\\n\\n# Proposal: ['apple', 'banana', 'cherry']\\nprint(example5(['a', 'b', 'c'], lambda x: x + 'pple'))\",\n",
       "  'def example6(lst, func):\\n    return list(map(func, lst))\\n\\n\\nprint(example6([1, 2, 3], lambda x: x * 2))',\n",
       "  'def example7(lst, func):\\n    return list(map(func, lst))\\n\\n\\nprint(example7([0, 1, 2], lambda x: x % 2))',\n",
       "  \"def example8(lst, func):\\n    return list(map(func, lst))\\n\\n# Proposal: ['apple', 'banana', 'orange']\\nprint(example8(['a', 'b', 'o'], lambda x: x + 'range' if x == 'o' else x + 'pple'))\",\n",
       "  'def example9(lst, func):\\n    return list(map(func, lst))\\n\\nprint(example9([0, 1, 2], lambda x: x > 0))',\n",
       "  'message = input(\"Write something:\")\\n\\nprint(message*2)',\n",
       "  'print(len(str(45)))',\n",
       "  'print(int(2.7))',\n",
       "  'for i in range(3, 16, 3):\\n    print(i)\\n\\nif 1:\\n    print(\"True\")',\n",
       "  'a = [x for x in range (21)]\\n\\nprint(a[3:17:2])',\n",
       "  'vec_list = [[0,1],\\n            [2,3],\\n            [5,1]]\\n\\ncopy_vec_list = vec_list [0:3]\\n\\nprint(\"IDs of the lists:\")\\nprint(id(vec_list))\\nprint(id(copy_vec_list))\\n\\nprint(\"\\\\nIDs of the elements of the list:\")\\nprint(\"Original:\\\\t\", id(vec_list[0]))\\nprint(\"Copy:\\\\t\\\\t\", id(copy_vec_list[0]))\\n\\nv0 = copy_vec_list[0]\\nv0[0] = 9\\nprint(\"modified v[0]= \", v0)\\n\\nprint(\"Original List:\", vec_list)\\nprint(\"Copied List:\", copy_vec_list)\\n\\nvec_list[0] = [8, 8]\\nprint(\"Original List:\", vec_list)\\nprint(\"Copied List:\", copy_vec_list)\\n\\nprint(\"\\\\nIDs of the elements of the list:\")\\nprint(\"Original:\\\\t\", id(vec_list[0]))\\nprint(\"Copy:\\\\t\\\\t\", id(copy_vec_list[0]))',\n",
       "  'vec_list = [[0,1],\\n            [2,3],\\n            [5,1]]\\n\\ncopy_vec_list = vec_list [0:3]\\n\\nprint(\"IDs of the lists:\")\\nprint(id(vec_list))\\nprint(id(copy_vec_list))\\n\\nprint(\"\\\\nIDs of the elements of the list:\")\\nprint(\"Original:\\\\t\", id(vec_list[0]))\\nprint(\"Copy:\\\\t\\\\t\", id(copy_vec_list[0]))\\n\\nv0 = copy_vec_list[0]\\nv0[0] = 9\\nprint(\"modified v[0]= \", v0)\\n\\nprint(\"Original List:\", vec_list)\\nprint(\"Copied List:\", copy_vec_list)\\n\\nvec_list[0] = [8, 8]\\nprint(\"Original List:\", vec_list)\\nprint(\"Copied List:\", copy_vec_list)\\n\\nprint(\"\\\\nIDs of the elements of the list:\")\\nprint(\"Original:\\\\t\", id(vec_list[0]))\\nprint(\"Copy:\\\\t\\\\t\", id(copy_vec_list[0]))',\n",
       "  'import copy\\n\\na = [[0, 1],\\n     [2, 3],\\n     [4, 5]]\\n\\ncopy_a = copy.copy(a)\\n\\nv = copy_a[0]\\nv[0] = 20\\n\\nprint(id(a[0][0]))\\nprint(id(copy_a[0][0]))\\n\\nprint(copy_a)\\nprint(a)',\n",
       "  'import copy\\n\\na = [[0, 1],\\n     [2, 3],\\n     [4, 5]]\\n\\ncopy_a = copy.deepcopy(a)\\n\\nv = copy_a[0]\\nv[0] = 20\\n\\nprint(id(a[0][0]))\\nprint(id(copy_a[0][0]))\\n\\nprint(copy_a)\\nprint(a)',\n",
       "  'a = [i for i in range(5)]\\nb = [i for i in range (5, 10)]\\n\\nc = a\\nc[0]=42\\n\\nprint(a)\\n\\nd = copy.deepcopy(b)\\nd[0] = 42\\n\\nprint(b)',\n",
       "  'a = [i for i in range(0, 5)]\\na.insert(1, \"Test\")\\nprint(a)\\na.append([\"Ende\", \"Hallo\"]) # takes only one argument\\nprint(a)\\nvar1 = a.pop()\\nprint(var1, a)\\nvar2 = a.pop(1)\\nprint(var2, a)\\na.append(1)\\na.remove(1)\\nprint(a)\\na.extend(\"3\") # only iterable objects\\nprint(a)',\n",
       "  'print(id(a))\\nb = [\"a\", \"b\", \"c\", \"d\"]\\na += b # ID stays the same\\nprint(a)\\nprint(id(a))\\na = a + b # new object is created --> ID changes\\nprint(a)\\nprint(id(a))',\n",
       "  'b[2:4] = [98, 23413]\\nprint(b)\\ndel b[0:3]\\nprint(b)',\n",
       "  'b = [1, 2, 3, \"a\", \"b\", \"c\"]\\nb1 = b[:3]\\nb2 = b[3:]\\nb.reverse()\\nprint(b)\\nb1.reverse()\\nprint(b1)\\nb2.sort(reverse=True)\\nprint(b2)',\n",
       "  'print(list(x for x in range(20) if x%2 == 0))',\n",
       "  'print(list(x for x in range(20) if x%2))',\n",
       "  'result = eval(\"print(\\'hello world\\')\")\\nprint(type(result))',\n",
       "  'x = 7\\ny = 3\\neval(\"print(x*y)\")',\n",
       "  's = {1, 2, 3, 4, 5}\\nt = {1, 2, 3, 4, 5, 6}\\nprint(t)\\nprint(len(t))\\nprint(s == t)\\n\\nprint(s.isdisjoint(t))\\nu = {\"Hallo\", \"1\", \"Test\"}\\nprint(s.isdisjoint(u))\\n\\ns = list(s)\\nt = list(t)\\nprint(\"s == t:\", s == t)\\n\\nprint(\"t eine Teilmenge von s:\", s >= t)\\nprint(\"s eine Teilmenge von t:\", s <= t )',\n",
       "  's = {1, 2, 3, 4, 5}\\nt = {1, 2, 3, 4, 5, 6, 7}\\nprint(id(s))\\ns ^= t\\nprint(s)\\nprint(id(s))',\n",
       "  's = {1, 2, 3, 4, 5}\\nt = {1, 2, 3, 4, 5, 6, 7}\\ns |= t\\nprint(s)',\n",
       "  's = {1, 2, 3, 4, 5}\\nt = {1, 2, 3, 4, 5, 6, 7}\\ns &= t\\nprint(s)',\n",
       "  's = {1, 2, 3, 4, 5}\\nt = {1, 2, 3, 4, 5, 6, 7}\\ns -= t\\nprint(s)',\n",
       "  's.add(\"0\")\\nprint(s)\\ns.discard(\"0\")\\nprint(s)\\ns.add(0)\\ns.add(67)\\nprint(s)\\nu = s.pop()\\nprint(u, s)',\n",
       "  'd = {\"Art:\": \"Auto\",\\n     \"Marke\": \"VW\",\\n     \"Model\": \"Golf\",\\n     \"Baujahr\": 2004,\\n     \"Leistung\": 75.9}\\n\\nprint(d)\\nprint(\"Marke\" in d)\\nprint(\"VW\" in d.values())\\n\\nprint(d[\"Marke\"])\\nd.pop(\"Baujahr\", 2004)\\nd.popitem()\\nprint(d)\\nd[\"Baujahr\"] = 1998\\nprint(d)\\n\\nprint(d.keys())\\nprint(d.values())\\nprint(d.items())',\n",
       "  'print(\"a\" + \"bc\")',\n",
       "  'list1 = [1, 3]\\nlist2 = list1[:]\\nlist1[0] = 4\\nprint(list2)',\n",
       "  'z = set(\\'abc$de\\')\\nprint(z)\\nprint(\"a\" in z)',\n",
       "  'x = [[0], [1]]\\ny = list(map(str, x))\\nprint(y)\\nprint((\" \".join(y),))',\n",
       "  'def foo():\\n    return None\\n\\nprint(str(foo))',\n",
       "  'class tester:\\n    id = 224\\n    def __init__(self, id) -> None:\\n        self.id = id\\n        pass\\n\\nprint(tester.id)\\ntemp = tester(33)\\nprint(temp.id)',\n",
       "  'class tester:\\n    \\n    def __init__(self, id) -> None:\\n        self.id = id\\n        id = 224\\n        pass\\n\\nprint(tester.id)\\ntemp = tester(33)\\nprint(temp.id)',\n",
       "  'class tester:\\n    id = 224\\n    def __init__(self, id) -> None:\\n        self.id = id\\n        id = 224\\n        pass\\n\\nprint(tester.id)\\ntemp = tester(33)\\nprint(temp.id)',\n",
       "  'class tester:\\n    id = 224\\n    def __init__(self, id) -> None:\\n        self.id = id\\n        pass\\n\\nprint(tester.id)\\ntemp = tester(33)\\nprint(temp.id)',\n",
       "  'class tester:\\n    id = 224\\n    def __init__(self, id) -> None:\\n        self.id = id\\n        pass\\n\\nprint(tester.id)\\ntemp = tester(33)\\nprint(temp.id)',\n",
       "  \"def foo(x):\\n    x[0] = ['def']\\n    x[1] = ['abc']\\n    return id(x)\\nq = ['abc', 'def']\\nprint(id(q) == foo(q))\",\n",
       "  's = \"Abc.\" + \"def\"\\n\\nprint(s.capitalize())',\n",
       "  'print(\\'*\\', \"abcde\".center(6), \\'*\\', sep=\\'\\')\\n\\nprint(\"aa\".center(1))',\n",
       "  'a = 5\\n\\nprint(dir(a))\\nprint(a.is_integer())\\nprint(a.to_bytes())\\nprint(bin(a))\\nprint(hex(a))\\nprint(oct(a))',\n",
       "  'import math\\na = 4.6763\\nprint(math.ceil(a))\\nprint(math.floor(a))\\nprint(round(a, ))\\nprint(math.isclose(a, 4.676, rel_tol=0.00001))',\n",
       "  'print(\"Hello {0[0]} and {1[1]}\".format((\\'foo\\', \\'bin\\'), [1, 4]))',\n",
       "  'import math\\nprint(2**3)\\nprint(math.pow(2, 3))',\n",
       "  'help(round)',\n",
       "  'help(print)',\n",
       "  'type(id(5))',\n",
       "  'print(int(13/2))\\nprint(13//2)\\nprint(13%2)',\n",
       "  'help(math.trunc)',\n",
       "  'math.trunc(1.8)',\n",
       "  'print(0.1+0.2)',\n",
       "  'print(~4)\\nprint(-(4+1))',\n",
       "  'print(~~~~~~5)',\n",
       "  \"print(float('nan'))\",\n",
       "  'print(round(0.5))',\n",
       "  'print(bin(3), bin(4))',\n",
       "  'print(0b111)\\nprint(3^4)',\n",
       "  '0 % 1',\n",
       "  'int(0b1011)',\n",
       "  'int(\"1111\", 2)',\n",
       "  \"int('FFFF', 16)\",\n",
       "  \"bool('False')\",\n",
       "  'bool(int(~False))',\n",
       "  \"bool('False')\",\n",
       "  'bool(int(~False))',\n",
       "  'help(bool)',\n",
       "  'int(True) *2',\n",
       "  'x = 13\\nprint(type(f\"{x:05d}\"))',\n",
       "  \"'%d %s %g you' %(1, 'hello', 4.0)\",\n",
       "  \"a = 'hello'\\nb = 10\\nvars()\"],\n",
       " '_oh': {23: 4,\n",
       "  24: 0,\n",
       "  27: 0,\n",
       "  141: int,\n",
       "  144: 1,\n",
       "  152: 0,\n",
       "  153: 11,\n",
       "  154: 15,\n",
       "  155: 65535,\n",
       "  156: True,\n",
       "  157: True,\n",
       "  158: True,\n",
       "  159: True,\n",
       "  161: 2,\n",
       "  163: '1 hello 4 you'},\n",
       " '_dh': [WindowsPath('c:/Users/flori/OneDrive/Dokumente/5 - Master/01 - General Subjects/05 - Scientific Programming Python'),\n",
       "  WindowsPath('c:/Users/flori/OneDrive/Dokumente/5 - Master/01 - General Subjects/05 - Scientific Programming Python')],\n",
       " 'In': ['',\n",
       "  'class A:\\n    def __init__(self):\\n        self.__x = 1\\nclass B(A):\\n    def display(self):\\n        print(self.__x)\\ndef main():\\n    obj1 = B()\\n    obj2 = B()\\n    obj3 = A()\\n\\n    s = {obj1, obj2, obj3}\\n\\n    print(s)\\nmain()',\n",
       "  'class MyClass:\\n    def __init__(self, value):\\n        self.value = value\\n\\n    def __hash__(self):\\n        return hash(self.value)\\n\\n    def __eq__(self, other):\\n        return isinstance(other, MyClass) and self.value == other.value\\n\\n# Create instances of MyClass\\nobj1 = MyClass(1)\\nobj2 = MyClass(2)\\nobj3 = MyClass(1)\\n\\n# Create a set and add instances to it\\nmy_set = {obj1, obj2, obj3}\\n\\nprint(my_set)  # Output: {MyClass(1), MyClass(2)}',\n",
       "  'class MyClass:\\n    def __init__(self, value):\\n        self.value = value\\n\\n    # def __hash__(self):\\n    #     return hash(self.value)\\n\\n    # def __eq__(self, other):\\n    #     return isinstance(other, MyClass) and self.value == other.value\\n\\n# Create instances of MyClass\\nobj1 = MyClass(1)\\nobj2 = MyClass(2)\\nobj3 = MyClass(1)\\n\\n# Create a set and add instances to it\\nmy_set = {obj1, obj2, obj3}\\n\\nprint(my_set)  # Output: {MyClass(1), MyClass(2)}',\n",
       "  'class Demo:\\n    def __check(self):\\n        return \" Demo\\'s check \"\\n    def display(self):\\n        print(self.__check())\\nclass Demo_Derived(Demo):\\n    def __check(self):\\n        return \" Derived\\'s check \"\\nDemo().display()\\nDemo_Derived().display()',\n",
       "  'class Demo:\\n    def __check(self):\\n        return \" Demo\\'s check \"\\n    def display(self):\\n        print(self.__check())\\nclass Demo_Derived(Demo):\\n    def display(self):\\n        print(self.__check())\\n    def __check(self):\\n        return \" Derived\\'s check \"\\nDemo().display()\\nDemo_Derived().display()',\n",
       "  'a=list((45,)*4)\\nprint((45)*4)\\nprint(a)',\n",
       "  'a=list((45, )*4)\\nprint((45)*4)\\nprint(a)',\n",
       "  'a=list((45, 0)*4)\\nprint((45)*4)\\nprint(a)',\n",
       "  'a=list((45, 0), (45, 0), (45, 0), (45, 0), (45, 0)  )\\nprint((45)*4)\\nprint(a)',\n",
       "  'a=list(((45, 0), (45, 0), (45, 0), (45, 0), (45, 0) ))\\nprint((45)*4)\\nprint(a)',\n",
       "  'a=list((45,)*4)\\nprint((45)*4)\\nprint(a)',\n",
       "  'lst=[[1,2],[3,4]]\\nprint(sum(lst,[]))',\n",
       "  'lst=[[1,2],[3,4]]\\nprint(sum(lst))',\n",
       "  'lst=[[1,2],[3,4]]\\nprint(sum(lst, []))',\n",
       "  'my_set = {1, 2, 3, 4, 5}\\nremoved_element = my_set.pop()\\nprint(removed_element)  # Output: This could be any element from the set\\nprint(my_set)   ',\n",
       "  'my_set = {1, 2, 3, 4, 5}\\nremoved_element = my_set.pop()\\nprint(removed_element)  # Output: This could be any element from the set\\nprint(my_set)   ',\n",
       "  'my_set = {1, 2, 3, 4, 5}\\nremoved_element = my_set.pop()\\nprint(removed_element)  # Output: This could be any element from the set\\nprint(my_set)   ',\n",
       "  'my_set = {2, 3, 4, 5, 1}\\nremoved_element = my_set.pop()\\nprint(removed_element)  # Output: This could be any element from the set\\nprint(my_set)   ',\n",
       "  'x = 56.236\\nprint(\"%.2f%\"%x)',\n",
       "  'x = 56.236\\nprint(f\"{x: .2f}\")',\n",
       "  'x = 56.236\\nprint(f\"{x: .2f%}\")',\n",
       "  'x = 56.236\\nprint(f\"{x: .2f} %\")',\n",
       "  'x = 1\\nx << 2',\n",
       "  'x = 1\\nx >> 2',\n",
       "  'x = 1.0\\nx >> 2',\n",
       "  'x = 1.0\\nx >> 2.0',\n",
       "  'x = 1\\nx >> 2',\n",
       "  'x = 1\\nprint(bin(x >> 2))',\n",
       "  'a = 6\\nb = 2\\nprint(a - b,\\n      a * b,\\n      a / b,\\n      a % b, \\n      sep=\"\\\\n\")',\n",
       "  'a = 2\\nb = 3\\nresult_exp = a ** b  # 8\\n\\na = 7\\nb = 2\\nresult_floor_div = a // b  # 3',\n",
       "  'x = 0b1100  # 12 in binary\\ny = 0b1010  # 10 in binary\\n\\nresult_and = x & y  # 8 (0b1000)\\nresult_or = x | y   # 14 (0b1110)\\nresult_xor = x ^ y  # 6 (0b0110)\\nresult_not = ~~~1\\nprint(result_and)\\nprint(0b1111)\\nprint(bin(result_not))\\nprint((result_not))',\n",
       "  'x = 0b1100  # 12 in binary\\ny = 0b1010  # 10 in binary\\n\\nresult_and = x & y  # 8 (0b1000)\\nresult_or = x | y   # 14 (0b1110)\\nresult_xor = x ^ y  # 6 (0b0110)\\nresult_not = ~~~1\\nprint(result_and)\\nprint(result_or)\\nprint(0b1111)\\nprint(bin(result_not))\\nprint((result_not))',\n",
       "  'x = 0b1100  # 12 in binary\\ny = 0b1010  # 10 in binary\\n\\nresult_and = x & y  # 8 (0b1000)\\nresult_or = x | y   # 14 (0b1110)\\nresult_xor = x ^ y  # 6 (0b0110)\\nresult_not = ~~~1\\nprint(result_and)\\nprint(result_or)\\nprint(result_xor)\\nprint(0b1111)\\nprint(bin(result_not))\\nprint((result_not))',\n",
       "  'num = 8  # 0b1000\\n\\nresult_left_shift = num << 2  # 32 (0b100000)\\nresult_right_shift = num >> 2  # 2 (0b10)\\n\\nprint(bin(num))\\nprint(bin(result_left_shift))\\nprint(result_left_shift)\\nprint(result_right_shift)',\n",
       "  'def print_args(*args, **kwargs):\\n    print(\"Positional arguments:\", args)\\n    print(\"Keyword arguments:\", kwargs)\\n\\nprint_args(1, 2, True,  3, name=\"Alice\", age=30, test=\\'vier\\', hund = \"katze\", z=\"b\")',\n",
       "  'square = lambda x: x ** 2',\n",
       "  'def add(x, y):\\n    return x + y\\n\\nresult = add(3, 5)\\n\\ndef apply_operation(operation, x, y):\\n    return operation(x, y)\\n\\nresult = apply_operation(add, 3, 5)\\n\\nprint(result)',\n",
       "  'def my_decorator(func):\\n    def wrapper():\\n        print(\"Something is happening before the function is called.\")\\n        func()\\n        print(\"Something is happening after the function is called.\")\\n\\n    return wrapper\\n\\n@my_decorator\\ndef say_hello():\\n    print(\"Hello!\")\\n\\nsay_hello()',\n",
       "  'class Dog:\\n    def __init__(self, name, age):\\n        self.name = name\\n        self.age = age\\n\\n    def bark(self):\\n        print(\"Woof!\")',\n",
       "  'dog1 = Dog(\"Paul\", 4)\\n\\ndog1.bark()',\n",
       "  'class Labrador(Dog):\\n    def swim(self):\\n        print(f\"{self.name} is swimming!\")',\n",
       "  'dog1 = Labrador(dog1.name, dog1.age)\\n\\ndog1.swim()',\n",
       "  'add = lambda x, y: x + y\\nprint(add(2, 3))  # Output: 5\\n\\nresult = (3 + 4) * 2 + (3 ** 2) - (4 / 2)\\nprint(result)',\n",
       "  'numbers = [1, 2, 3, 4, 5]\\nresult = list(map(lambda x: x * 2, numbers))\\nprint(result)',\n",
       "  'numbers = [1, 2, 3, 4, 5]\\nresult = list(map(lambda x: x ** 2, numbers))\\nprint(result)',\n",
       "  \"names = ['Alice', 'Bob', 'Charlie']\\nresult = list(map(lambda name: len(name), names))\\nprint(result)\",\n",
       "  \"grades = [90, 85, 78, 92, 88]\\nresult = list(map(lambda grade: 'Pass' if grade >= 80 else 'Fail', grades))\\nprint(result)\",\n",
       "  \"words = ['hello', 'world', 'python']\\nresult = list(map(lambda word: word.upper(), words))\\nprint(result)\",\n",
       "  'temperatures = [22, 18, 25, 30]\\nresult = list(map(lambda temp: (temp * 9/5) + 32, temperatures))\\nprint(result)',\n",
       "  'numbers1 = [1, 2, 3, 4]\\nnumbers2 = [5, 6, 7, 8]\\nresult = list(map(lambda x, y: x + y, numbers1, numbers2))\\nprint(result)',\n",
       "  'numbers1 = [1, 2, 3, 4]\\nnumbers2 = [5, 6, 7, 8]\\nresult = list(map(lambda x, y: x + y, numbers1, numbers2))\\nprint(result)',\n",
       "  'numbers1 = [1, 2, 3, 4]\\nnumbers2 = [5, 6, 7, 8]\\nresult = list(map(lambda x, y: x + y, numbers1, numbers2))\\nresult = list(lambda x, y: x + y for x, y in zip(numbers1, numbers2))\\nprint(result)',\n",
       "  \"numbers = [2, 4, 6, 8, 10]\\nresult = list(map(lambda x: 'Even' if x % 2 == 0 else 'Odd', numbers))\\nprint(result)\",\n",
       "  'def foo(a, b):\\n    b = a/2\\n    c = {}\\n    c[b] = a\\n    return list (c. keys ())[0] + a%2',\n",
       "  'def foo(a, b):\\n    b = a/2\\n    c = {}\\n    c[b] = a\\n    return list (c. keys ())[0] + a%2',\n",
       "  'print (foo (4, 2))',\n",
       "  'print (foo (b=1, a =2))',\n",
       "  'print (foo (a=3, b =1))',\n",
       "  'print (foo (0, -1))',\n",
       "  'def foo(l, bar ):\\n    return list ( map (bar , l))',\n",
       "  'print (foo ([0 ,1 ,2] , lambda x: x +2))',\n",
       "  'print (foo ([2.0 ,1 ,2] , lambda x: x +2))',\n",
       "  'print(foo ([1 ,2] , lambda x: x >>2))',\n",
       "  'print (foo ([1 ,3] , lambda x: x+x))',\n",
       "  'my_list = [(1, 2)]\\nif my_list:\\n    print(\"List is not empty\")\\nelse:\\n    print(\"List is empty\")\\n\\nprint(my_list[0].count(2))',\n",
       "  'x = 5\\ny = 3\\nresult = x > y\\nprint(result)',\n",
       "  'a = 10\\nb = -5\\nresult = a != b\\nprint(result)',\n",
       "  'name1 = \"Alice\"\\nname2 = \"Bob\"\\nresult = name1 < name2\\nprint(result)\\n# The correct answer is True, as \"Alice\" comes before \"Bob\" lexicographically.',\n",
       "  'list1 = [1, 2, 3]\\nlist2 = [1, 2, 3, 4]\\nresult = len(list1) == len(list2)\\nprint(result)',\n",
       "  'temperature = 25\\nresult = temperature >= 20 and temperature <= 30\\nprint(result)',\n",
       "  'word = \"Python\"\\nresult = \"thon\" in word\\nprint(result)',\n",
       "  'value1 = 3.1415\\nvalue2 = 3.1416\\nprint(abs(value1-value2))\\nresult = abs(value1 - value2) < 0.001\\nprint(result)',\n",
       "  'string1 = \"hello\"\\nstring2 = \"world\"\\nresult = string1 == string2\\nprint(result)',\n",
       "  'string1 = \"hello\"\\nstring2 = \"world\"\\nresult = string1 == string2\\nprint(result)\\n\\nstring1 = \"hello\"\\nstring2 = \"hello\"\\nresult = string1 == string2\\nprint(result)',\n",
       "  'string1 = \"hello\"\\nstring2 = \"world\"\\nresult = string1 == string2\\nprint(result)\\n\\nstring1 = \"hello\"\\nstring2 = \"hello\"\\nresult = string1 is string2\\nprint(result)',\n",
       "  'string1 = \"hello\"\\nstring2 = \"world\"\\nresult = string1 == string2\\nprint(result)\\n\\nstring1 = \"hello\"\\nstring2 = \"hello\"\\nresult = id(string1) is id(string2)\\nprint(result)',\n",
       "  'string1 = \"hello\"\\nstring2 = \"world\"\\nresult = string1 == string2\\nprint(result)\\n\\nstring1 = \"hello\"\\nstring2 = \"hello\"\\nresult = id(string1) == id(string2)\\nprint(result)',\n",
       "  'number = 42\\ntext = \"42\"\\nresult = number == text\\nprint(result)',\n",
       "  'list1 = [1, 2, 3]\\nlist2 = [int(i) for i in \"123\"]\\nresult = list1 == list2\\nprint(result)',\n",
       "  'tuple1 = (1, 2, 3)\\ntuple2 = [1, 2, 3]\\nresult = tuple1 == tuple2\\nprint(result)',\n",
       "  'word = \"Python\"\\nnumber = 123\\nresult = word == number\\nprint(result)',\n",
       "  'set1 = {1, 2, 3}\\nset2 = {3, 2, 1}\\nresult = set1 == set2\\nprint(result)\\n# The correct answer is True. \\n# Sets are unordered, and their elements are the same, so the sets are considered equal.',\n",
       "  \"dictionary = {'a': 1, 'b': 2}\\nresult = dictionary == 42\\nprint(result)\",\n",
       "  'complex_number = 3 + 4j\\ninteger = 5\\nresult = complex_number == integer\\nprint(result)',\n",
       "  'boolean = True\\nnone_value = None\\nresult = boolean == none_value\\nprint(result)',\n",
       "  'string1 = \"abc\"\\nstring2 = \"def\"\\nresult = string1 <= string2\\nprint(result)\\n# The correct answer is False.\\n# String comparison is based on lexicographic order, and \\'abc\\' is not greater than or equal to \\'def\\'',\n",
       "  'float_number = 3.14\\nboolean = True\\nresult = float_number > boolean\\nprint(result)\\n# The correct answer is True.\\n#In Python, True is considered equal to 1, so 3.14 is greater than 1.',\n",
       "  'def example1(lst, func):\\n    return list(map(func, lst))\\n\\n\\nprint(example1([0, 1, 2], lambda x: x**2))',\n",
       "  'def example2(lst, func):\\n    return list(map(func, lst))\\n\\n\\nprint(example2([0, 2, 4], lambda x: x + 1))',\n",
       "  'def example3(lst, func):\\n    return list(map(func, lst))\\n\\n\\nprint(example3([0, 1, 2], lambda x: x if x > 0 else \"\"))',\n",
       "  'def example4(lst, func):\\n    return list(map(func, lst))\\n\\nprint(example4([65, 66, 67], lambda x: chr(x)))',\n",
       "  \"def example5(lst, func):\\n    return list(map(func, lst))\\n\\n# Proposal: ['apple', 'banana', 'cherry']\\nprint(example5(['a', 'b', 'c'], lambda x: x + 'pple'))\",\n",
       "  'def example6(lst, func):\\n    return list(map(func, lst))\\n\\n\\nprint(example6([1, 2, 3], lambda x: x * 2))',\n",
       "  'def example7(lst, func):\\n    return list(map(func, lst))\\n\\n\\nprint(example7([0, 1, 2], lambda x: x % 2))',\n",
       "  \"def example8(lst, func):\\n    return list(map(func, lst))\\n\\n# Proposal: ['apple', 'banana', 'orange']\\nprint(example8(['a', 'b', 'o'], lambda x: x + 'range' if x == 'o' else x + 'pple'))\",\n",
       "  'def example9(lst, func):\\n    return list(map(func, lst))\\n\\nprint(example9([0, 1, 2], lambda x: x > 0))',\n",
       "  'message = input(\"Write something:\")\\n\\nprint(message*2)',\n",
       "  'print(len(str(45)))',\n",
       "  'print(int(2.7))',\n",
       "  'for i in range(3, 16, 3):\\n    print(i)\\n\\nif 1:\\n    print(\"True\")',\n",
       "  'a = [x for x in range (21)]\\n\\nprint(a[3:17:2])',\n",
       "  'vec_list = [[0,1],\\n            [2,3],\\n            [5,1]]\\n\\ncopy_vec_list = vec_list [0:3]\\n\\nprint(\"IDs of the lists:\")\\nprint(id(vec_list))\\nprint(id(copy_vec_list))\\n\\nprint(\"\\\\nIDs of the elements of the list:\")\\nprint(\"Original:\\\\t\", id(vec_list[0]))\\nprint(\"Copy:\\\\t\\\\t\", id(copy_vec_list[0]))\\n\\nv0 = copy_vec_list[0]\\nv0[0] = 9\\nprint(\"modified v[0]= \", v0)\\n\\nprint(\"Original List:\", vec_list)\\nprint(\"Copied List:\", copy_vec_list)\\n\\nvec_list[0] = [8, 8]\\nprint(\"Original List:\", vec_list)\\nprint(\"Copied List:\", copy_vec_list)\\n\\nprint(\"\\\\nIDs of the elements of the list:\")\\nprint(\"Original:\\\\t\", id(vec_list[0]))\\nprint(\"Copy:\\\\t\\\\t\", id(copy_vec_list[0]))',\n",
       "  'vec_list = [[0,1],\\n            [2,3],\\n            [5,1]]\\n\\ncopy_vec_list = vec_list [0:3]\\n\\nprint(\"IDs of the lists:\")\\nprint(id(vec_list))\\nprint(id(copy_vec_list))\\n\\nprint(\"\\\\nIDs of the elements of the list:\")\\nprint(\"Original:\\\\t\", id(vec_list[0]))\\nprint(\"Copy:\\\\t\\\\t\", id(copy_vec_list[0]))\\n\\nv0 = copy_vec_list[0]\\nv0[0] = 9\\nprint(\"modified v[0]= \", v0)\\n\\nprint(\"Original List:\", vec_list)\\nprint(\"Copied List:\", copy_vec_list)\\n\\nvec_list[0] = [8, 8]\\nprint(\"Original List:\", vec_list)\\nprint(\"Copied List:\", copy_vec_list)\\n\\nprint(\"\\\\nIDs of the elements of the list:\")\\nprint(\"Original:\\\\t\", id(vec_list[0]))\\nprint(\"Copy:\\\\t\\\\t\", id(copy_vec_list[0]))',\n",
       "  'import copy\\n\\na = [[0, 1],\\n     [2, 3],\\n     [4, 5]]\\n\\ncopy_a = copy.copy(a)\\n\\nv = copy_a[0]\\nv[0] = 20\\n\\nprint(id(a[0][0]))\\nprint(id(copy_a[0][0]))\\n\\nprint(copy_a)\\nprint(a)',\n",
       "  'import copy\\n\\na = [[0, 1],\\n     [2, 3],\\n     [4, 5]]\\n\\ncopy_a = copy.deepcopy(a)\\n\\nv = copy_a[0]\\nv[0] = 20\\n\\nprint(id(a[0][0]))\\nprint(id(copy_a[0][0]))\\n\\nprint(copy_a)\\nprint(a)',\n",
       "  'a = [i for i in range(5)]\\nb = [i for i in range (5, 10)]\\n\\nc = a\\nc[0]=42\\n\\nprint(a)\\n\\nd = copy.deepcopy(b)\\nd[0] = 42\\n\\nprint(b)',\n",
       "  'a = [i for i in range(0, 5)]\\na.insert(1, \"Test\")\\nprint(a)\\na.append([\"Ende\", \"Hallo\"]) # takes only one argument\\nprint(a)\\nvar1 = a.pop()\\nprint(var1, a)\\nvar2 = a.pop(1)\\nprint(var2, a)\\na.append(1)\\na.remove(1)\\nprint(a)\\na.extend(\"3\") # only iterable objects\\nprint(a)',\n",
       "  'print(id(a))\\nb = [\"a\", \"b\", \"c\", \"d\"]\\na += b # ID stays the same\\nprint(a)\\nprint(id(a))\\na = a + b # new object is created --> ID changes\\nprint(a)\\nprint(id(a))',\n",
       "  'b[2:4] = [98, 23413]\\nprint(b)\\ndel b[0:3]\\nprint(b)',\n",
       "  'b = [1, 2, 3, \"a\", \"b\", \"c\"]\\nb1 = b[:3]\\nb2 = b[3:]\\nb.reverse()\\nprint(b)\\nb1.reverse()\\nprint(b1)\\nb2.sort(reverse=True)\\nprint(b2)',\n",
       "  'print(list(x for x in range(20) if x%2 == 0))',\n",
       "  'print(list(x for x in range(20) if x%2))',\n",
       "  'result = eval(\"print(\\'hello world\\')\")\\nprint(type(result))',\n",
       "  'x = 7\\ny = 3\\neval(\"print(x*y)\")',\n",
       "  's = {1, 2, 3, 4, 5}\\nt = {1, 2, 3, 4, 5, 6}\\nprint(t)\\nprint(len(t))\\nprint(s == t)\\n\\nprint(s.isdisjoint(t))\\nu = {\"Hallo\", \"1\", \"Test\"}\\nprint(s.isdisjoint(u))\\n\\ns = list(s)\\nt = list(t)\\nprint(\"s == t:\", s == t)\\n\\nprint(\"t eine Teilmenge von s:\", s >= t)\\nprint(\"s eine Teilmenge von t:\", s <= t )',\n",
       "  's = {1, 2, 3, 4, 5}\\nt = {1, 2, 3, 4, 5, 6, 7}\\nprint(id(s))\\ns ^= t\\nprint(s)\\nprint(id(s))',\n",
       "  's = {1, 2, 3, 4, 5}\\nt = {1, 2, 3, 4, 5, 6, 7}\\ns |= t\\nprint(s)',\n",
       "  's = {1, 2, 3, 4, 5}\\nt = {1, 2, 3, 4, 5, 6, 7}\\ns &= t\\nprint(s)',\n",
       "  's = {1, 2, 3, 4, 5}\\nt = {1, 2, 3, 4, 5, 6, 7}\\ns -= t\\nprint(s)',\n",
       "  's.add(\"0\")\\nprint(s)\\ns.discard(\"0\")\\nprint(s)\\ns.add(0)\\ns.add(67)\\nprint(s)\\nu = s.pop()\\nprint(u, s)',\n",
       "  'd = {\"Art:\": \"Auto\",\\n     \"Marke\": \"VW\",\\n     \"Model\": \"Golf\",\\n     \"Baujahr\": 2004,\\n     \"Leistung\": 75.9}\\n\\nprint(d)\\nprint(\"Marke\" in d)\\nprint(\"VW\" in d.values())\\n\\nprint(d[\"Marke\"])\\nd.pop(\"Baujahr\", 2004)\\nd.popitem()\\nprint(d)\\nd[\"Baujahr\"] = 1998\\nprint(d)\\n\\nprint(d.keys())\\nprint(d.values())\\nprint(d.items())',\n",
       "  'print(\"a\" + \"bc\")',\n",
       "  'list1 = [1, 3]\\nlist2 = list1[:]\\nlist1[0] = 4\\nprint(list2)',\n",
       "  'z = set(\\'abc$de\\')\\nprint(z)\\nprint(\"a\" in z)',\n",
       "  'x = [[0], [1]]\\ny = list(map(str, x))\\nprint(y)\\nprint((\" \".join(y),))',\n",
       "  'def foo():\\n    return None\\n\\nprint(str(foo))',\n",
       "  'class tester:\\n    id = 224\\n    def __init__(self, id) -> None:\\n        self.id = id\\n        pass\\n\\nprint(tester.id)\\ntemp = tester(33)\\nprint(temp.id)',\n",
       "  'class tester:\\n    \\n    def __init__(self, id) -> None:\\n        self.id = id\\n        id = 224\\n        pass\\n\\nprint(tester.id)\\ntemp = tester(33)\\nprint(temp.id)',\n",
       "  'class tester:\\n    id = 224\\n    def __init__(self, id) -> None:\\n        self.id = id\\n        id = 224\\n        pass\\n\\nprint(tester.id)\\ntemp = tester(33)\\nprint(temp.id)',\n",
       "  'class tester:\\n    id = 224\\n    def __init__(self, id) -> None:\\n        self.id = id\\n        pass\\n\\nprint(tester.id)\\ntemp = tester(33)\\nprint(temp.id)',\n",
       "  'class tester:\\n    id = 224\\n    def __init__(self, id) -> None:\\n        self.id = id\\n        pass\\n\\nprint(tester.id)\\ntemp = tester(33)\\nprint(temp.id)',\n",
       "  \"def foo(x):\\n    x[0] = ['def']\\n    x[1] = ['abc']\\n    return id(x)\\nq = ['abc', 'def']\\nprint(id(q) == foo(q))\",\n",
       "  's = \"Abc.\" + \"def\"\\n\\nprint(s.capitalize())',\n",
       "  'print(\\'*\\', \"abcde\".center(6), \\'*\\', sep=\\'\\')\\n\\nprint(\"aa\".center(1))',\n",
       "  'a = 5\\n\\nprint(dir(a))\\nprint(a.is_integer())\\nprint(a.to_bytes())\\nprint(bin(a))\\nprint(hex(a))\\nprint(oct(a))',\n",
       "  'import math\\na = 4.6763\\nprint(math.ceil(a))\\nprint(math.floor(a))\\nprint(round(a, ))\\nprint(math.isclose(a, 4.676, rel_tol=0.00001))',\n",
       "  'print(\"Hello {0[0]} and {1[1]}\".format((\\'foo\\', \\'bin\\'), [1, 4]))',\n",
       "  'import math\\nprint(2**3)\\nprint(math.pow(2, 3))',\n",
       "  'help(round)',\n",
       "  'help(print)',\n",
       "  'type(id(5))',\n",
       "  'print(int(13/2))\\nprint(13//2)\\nprint(13%2)',\n",
       "  'help(math.trunc)',\n",
       "  'math.trunc(1.8)',\n",
       "  'print(0.1+0.2)',\n",
       "  'print(~4)\\nprint(-(4+1))',\n",
       "  'print(~~~~~~5)',\n",
       "  \"print(float('nan'))\",\n",
       "  'print(round(0.5))',\n",
       "  'print(bin(3), bin(4))',\n",
       "  'print(0b111)\\nprint(3^4)',\n",
       "  '0 % 1',\n",
       "  'int(0b1011)',\n",
       "  'int(\"1111\", 2)',\n",
       "  \"int('FFFF', 16)\",\n",
       "  \"bool('False')\",\n",
       "  'bool(int(~False))',\n",
       "  \"bool('False')\",\n",
       "  'bool(int(~False))',\n",
       "  'help(bool)',\n",
       "  'int(True) *2',\n",
       "  'x = 13\\nprint(type(f\"{x:05d}\"))',\n",
       "  \"'%d %s %g you' %(1, 'hello', 4.0)\",\n",
       "  \"a = 'hello'\\nb = 10\\nvars()\"],\n",
       " 'Out': {23: 4,\n",
       "  24: 0,\n",
       "  27: 0,\n",
       "  141: int,\n",
       "  144: 1,\n",
       "  152: 0,\n",
       "  153: 11,\n",
       "  154: 15,\n",
       "  155: 65535,\n",
       "  156: True,\n",
       "  157: True,\n",
       "  158: True,\n",
       "  159: True,\n",
       "  161: 2,\n",
       "  163: '1 hello 4 you'},\n",
       " 'get_ipython': <bound method InteractiveShell.get_ipython of <ipykernel.zmqshell.ZMQInteractiveShell object at 0x0000021E291D9610>>,\n",
       " 'exit': <IPython.core.autocall.ZMQExitAutocall at 0x21e291d8800>,\n",
       " 'quit': <IPython.core.autocall.ZMQExitAutocall at 0x21e291d8800>,\n",
       " 'open': <function _io.open(file, mode='r', buffering=-1, encoding=None, errors=None, newline=None, closefd=True, opener=None)>,\n",
       " '_': '1 hello 4 you',\n",
       " '__': 2,\n",
       " '___': True,\n",
       " '_VSCODE_os': <module 'os' (frozen)>,\n",
       " '_VSCODE_sys': <module 'sys' (built-in)>,\n",
       " '_i': \"'%d %s %g you' %(1, 'hello', 4.0)\",\n",
       " '_ii': 'x = 13\\nprint(type(f\"{x:05d}\"))',\n",
       " '_iii': 'int(True) *2',\n",
       " '_i1': 'class A:\\n    def __init__(self):\\n        self.__x = 1\\nclass B(A):\\n    def display(self):\\n        print(self.__x)\\ndef main():\\n    obj1 = B()\\n    obj2 = B()\\n    obj3 = A()\\n\\n    s = {obj1, obj2, obj3}\\n\\n    print(s)\\nmain()',\n",
       " 'A': __main__.A,\n",
       " 'B': __main__.B,\n",
       " 'main': <function __main__.main()>,\n",
       " '_i2': 'class MyClass:\\n    def __init__(self, value):\\n        self.value = value\\n\\n    def __hash__(self):\\n        return hash(self.value)\\n\\n    def __eq__(self, other):\\n        return isinstance(other, MyClass) and self.value == other.value\\n\\n# Create instances of MyClass\\nobj1 = MyClass(1)\\nobj2 = MyClass(2)\\nobj3 = MyClass(1)\\n\\n# Create a set and add instances to it\\nmy_set = {obj1, obj2, obj3}\\n\\nprint(my_set)  # Output: {MyClass(1), MyClass(2)}',\n",
       " 'MyClass': __main__.MyClass,\n",
       " 'obj1': <__main__.MyClass at 0x21e293d5700>,\n",
       " 'obj2': <__main__.MyClass at 0x21e29623650>,\n",
       " 'obj3': <__main__.MyClass at 0x21e2a2a20c0>,\n",
       " 'my_set': {2, 3, 4, 5},\n",
       " '_i3': 'class MyClass:\\n    def __init__(self, value):\\n        self.value = value\\n\\n    # def __hash__(self):\\n    #     return hash(self.value)\\n\\n    # def __eq__(self, other):\\n    #     return isinstance(other, MyClass) and self.value == other.value\\n\\n# Create instances of MyClass\\nobj1 = MyClass(1)\\nobj2 = MyClass(2)\\nobj3 = MyClass(1)\\n\\n# Create a set and add instances to it\\nmy_set = {obj1, obj2, obj3}\\n\\nprint(my_set)  # Output: {MyClass(1), MyClass(2)}',\n",
       " '_i4': 'class Demo:\\n    def __check(self):\\n        return \" Demo\\'s check \"\\n    def display(self):\\n        print(self.__check())\\nclass Demo_Derived(Demo):\\n    def __check(self):\\n        return \" Derived\\'s check \"\\nDemo().display()\\nDemo_Derived().display()',\n",
       " 'Demo': __main__.Demo,\n",
       " 'Demo_Derived': __main__.Demo_Derived,\n",
       " '_i5': 'class Demo:\\n    def __check(self):\\n        return \" Demo\\'s check \"\\n    def display(self):\\n        print(self.__check())\\nclass Demo_Derived(Demo):\\n    def display(self):\\n        print(self.__check())\\n    def __check(self):\\n        return \" Derived\\'s check \"\\nDemo().display()\\nDemo_Derived().display()',\n",
       " '_i6': 'a=list((45,)*4)\\nprint((45)*4)\\nprint(a)',\n",
       " 'a': 'hello',\n",
       " '_i7': 'a=list((45, )*4)\\nprint((45)*4)\\nprint(a)',\n",
       " '_i8': 'a=list((45, 0)*4)\\nprint((45)*4)\\nprint(a)',\n",
       " '_i9': 'a=list((45, 0), (45, 0), (45, 0), (45, 0), (45, 0)  )\\nprint((45)*4)\\nprint(a)',\n",
       " '_i10': 'a=list(((45, 0), (45, 0), (45, 0), (45, 0), (45, 0) ))\\nprint((45)*4)\\nprint(a)',\n",
       " '_i11': 'a=list((45,)*4)\\nprint((45)*4)\\nprint(a)',\n",
       " '_i12': 'lst=[[1,2],[3,4]]\\nprint(sum(lst,[]))',\n",
       " 'lst': [[1, 2], [3, 4]],\n",
       " '_i13': 'lst=[[1,2],[3,4]]\\nprint(sum(lst))',\n",
       " '_i14': 'lst=[[1,2],[3,4]]\\nprint(sum(lst, []))',\n",
       " '_i15': 'my_set = {1, 2, 3, 4, 5}\\nremoved_element = my_set.pop()\\nprint(removed_element)  # Output: This could be any element from the set\\nprint(my_set)   ',\n",
       " 'removed_element': 1,\n",
       " '_i16': 'my_set = {1, 2, 3, 4, 5}\\nremoved_element = my_set.pop()\\nprint(removed_element)  # Output: This could be any element from the set\\nprint(my_set)   ',\n",
       " '_i17': 'my_set = {1, 2, 3, 4, 5}\\nremoved_element = my_set.pop()\\nprint(removed_element)  # Output: This could be any element from the set\\nprint(my_set)   ',\n",
       " '_i18': 'my_set = {2, 3, 4, 5, 1}\\nremoved_element = my_set.pop()\\nprint(removed_element)  # Output: This could be any element from the set\\nprint(my_set)   ',\n",
       " '_i19': 'x = 56.236\\nprint(\"%.2f%\"%x)',\n",
       " 'x': 13,\n",
       " '_i20': 'x = 56.236\\nprint(f\"{x: .2f}\")',\n",
       " '_i21': 'x = 56.236\\nprint(f\"{x: .2f%}\")',\n",
       " '_i22': 'x = 56.236\\nprint(f\"{x: .2f} %\")',\n",
       " '_i23': 'x = 1\\nx << 2',\n",
       " '_23': 4,\n",
       " '_i24': 'x = 1\\nx >> 2',\n",
       " '_24': 0,\n",
       " '_i25': 'x = 1.0\\nx >> 2',\n",
       " '_i26': 'x = 1.0\\nx >> 2.0',\n",
       " '_i27': 'x = 1\\nx >> 2',\n",
       " '_27': 0,\n",
       " '_i28': 'x = 1\\nprint(bin(x >> 2))',\n",
       " '_i29': 'a = 6\\nb = 2\\nprint(a - b,\\n      a * b,\\n      a / b,\\n      a % b, \\n      sep=\"\\\\n\")',\n",
       " 'b': 10,\n",
       " '_i30': 'a = 2\\nb = 3\\nresult_exp = a ** b  # 8\\n\\na = 7\\nb = 2\\nresult_floor_div = a // b  # 3',\n",
       " 'result_exp': 8,\n",
       " 'result_floor_div': 3,\n",
       " '_i31': 'x = 0b1100  # 12 in binary\\ny = 0b1010  # 10 in binary\\n\\nresult_and = x & y  # 8 (0b1000)\\nresult_or = x | y   # 14 (0b1110)\\nresult_xor = x ^ y  # 6 (0b0110)\\nresult_not = ~~~1\\nprint(result_and)\\nprint(0b1111)\\nprint(bin(result_not))\\nprint((result_not))',\n",
       " 'y': ['[0]', '[1]'],\n",
       " 'result_and': 8,\n",
       " 'result_or': 14,\n",
       " 'result_xor': 6,\n",
       " 'result_not': -2,\n",
       " '_i32': 'x = 0b1100  # 12 in binary\\ny = 0b1010  # 10 in binary\\n\\nresult_and = x & y  # 8 (0b1000)\\nresult_or = x | y   # 14 (0b1110)\\nresult_xor = x ^ y  # 6 (0b0110)\\nresult_not = ~~~1\\nprint(result_and)\\nprint(result_or)\\nprint(0b1111)\\nprint(bin(result_not))\\nprint((result_not))',\n",
       " '_i33': 'x = 0b1100  # 12 in binary\\ny = 0b1010  # 10 in binary\\n\\nresult_and = x & y  # 8 (0b1000)\\nresult_or = x | y   # 14 (0b1110)\\nresult_xor = x ^ y  # 6 (0b0110)\\nresult_not = ~~~1\\nprint(result_and)\\nprint(result_or)\\nprint(result_xor)\\nprint(0b1111)\\nprint(bin(result_not))\\nprint((result_not))',\n",
       " '_i34': 'num = 8  # 0b1000\\n\\nresult_left_shift = num << 2  # 32 (0b100000)\\nresult_right_shift = num >> 2  # 2 (0b10)\\n\\nprint(bin(num))\\nprint(bin(result_left_shift))\\nprint(result_left_shift)\\nprint(result_right_shift)',\n",
       " 'num': 8,\n",
       " 'result_left_shift': 32,\n",
       " 'result_right_shift': 2,\n",
       " '_i35': 'def print_args(*args, **kwargs):\\n    print(\"Positional arguments:\", args)\\n    print(\"Keyword arguments:\", kwargs)\\n\\nprint_args(1, 2, True,  3, name=\"Alice\", age=30, test=\\'vier\\', hund = \"katze\", z=\"b\")',\n",
       " 'print_args': <function __main__.print_args(*args, **kwargs)>,\n",
       " '_i36': 'square = lambda x: x ** 2',\n",
       " 'square': <function __main__.<lambda>(x)>,\n",
       " '_i37': 'def add(x, y):\\n    return x + y\\n\\nresult = add(3, 5)\\n\\ndef apply_operation(operation, x, y):\\n    return operation(x, y)\\n\\nresult = apply_operation(add, 3, 5)\\n\\nprint(result)',\n",
       " 'add': <function __main__.<lambda>(x, y)>,\n",
       " 'result': None,\n",
       " 'apply_operation': <function __main__.apply_operation(operation, x, y)>,\n",
       " '_i38': 'def my_decorator(func):\\n    def wrapper():\\n        print(\"Something is happening before the function is called.\")\\n        func()\\n        print(\"Something is happening after the function is called.\")\\n\\n    return wrapper\\n\\n@my_decorator\\ndef say_hello():\\n    print(\"Hello!\")\\n\\nsay_hello()',\n",
       " 'my_decorator': <function __main__.my_decorator(func)>,\n",
       " 'say_hello': <function __main__.my_decorator.<locals>.wrapper()>,\n",
       " '_i39': 'class Dog:\\n    def __init__(self, name, age):\\n        self.name = name\\n        self.age = age\\n\\n    def bark(self):\\n        print(\"Woof!\")',\n",
       " 'Dog': __main__.Dog,\n",
       " '_i40': 'dog1 = Dog(\"Paul\", 4)\\n\\ndog1.bark()',\n",
       " 'dog1': <__main__.Labrador at 0x21e29628770>,\n",
       " '_i41': 'class Labrador(Dog):\\n    def swim(self):\\n        print(f\"{self.name} is swimming!\")',\n",
       " 'Labrador': __main__.Labrador,\n",
       " '_i42': 'dog1 = Labrador(dog1.name, dog1.age)\\n\\ndog1.swim()',\n",
       " '_i43': 'add = lambda x, y: x + y\\nprint(add(2, 3))  # Output: 5\\n\\nresult = (3 + 4) * 2 + (3 ** 2) - (4 / 2)\\nprint(result)',\n",
       " '_i44': 'numbers = [1, 2, 3, 4, 5]\\nresult = list(map(lambda x: x * 2, numbers))\\nprint(result)',\n",
       " 'numbers': [2, 4, 6, 8, 10],\n",
       " '_i45': 'numbers = [1, 2, 3, 4, 5]\\nresult = list(map(lambda x: x ** 2, numbers))\\nprint(result)',\n",
       " '_i46': \"names = ['Alice', 'Bob', 'Charlie']\\nresult = list(map(lambda name: len(name), names))\\nprint(result)\",\n",
       " 'names': ['Alice', 'Bob', 'Charlie'],\n",
       " '_i47': \"grades = [90, 85, 78, 92, 88]\\nresult = list(map(lambda grade: 'Pass' if grade >= 80 else 'Fail', grades))\\nprint(result)\",\n",
       " 'grades': [90, 85, 78, 92, 88],\n",
       " '_i48': \"words = ['hello', 'world', 'python']\\nresult = list(map(lambda word: word.upper(), words))\\nprint(result)\",\n",
       " 'words': ['hello', 'world', 'python'],\n",
       " '_i49': 'temperatures = [22, 18, 25, 30]\\nresult = list(map(lambda temp: (temp * 9/5) + 32, temperatures))\\nprint(result)',\n",
       " 'temperatures': [22, 18, 25, 30],\n",
       " '_i50': 'numbers1 = [1, 2, 3, 4]\\nnumbers2 = [5, 6, 7, 8]\\nresult = list(map(lambda x, y: x + y, numbers1, numbers2))\\nprint(result)',\n",
       " 'numbers1': [1, 2, 3, 4],\n",
       " 'numbers2': [5, 6, 7, 8],\n",
       " '_i51': 'numbers1 = [1, 2, 3, 4]\\nnumbers2 = [5, 6, 7, 8]\\nresult = list(map(lambda x, y: x + y, numbers1, numbers2))\\nprint(result)',\n",
       " '_i52': 'numbers1 = [1, 2, 3, 4]\\nnumbers2 = [5, 6, 7, 8]\\nresult = list(map(lambda x, y: x + y, numbers1, numbers2))\\nresult = list(lambda x, y: x + y for x, y in zip(numbers1, numbers2))\\nprint(result)',\n",
       " '_i53': \"numbers = [2, 4, 6, 8, 10]\\nresult = list(map(lambda x: 'Even' if x % 2 == 0 else 'Odd', numbers))\\nprint(result)\",\n",
       " '_i54': 'def foo(a, b):\\n    b = a/2\\n    c = {}\\n    c[b] = a\\n    return list (c. keys ())[0] + a%2',\n",
       " 'foo': <function __main__.foo(x)>,\n",
       " '_i55': 'def foo(a, b):\\n    b = a/2\\n    c = {}\\n    c[b] = a\\n    return list (c. keys ())[0] + a%2',\n",
       " '_i56': 'print (foo (4, 2))',\n",
       " '_i57': 'print (foo (b=1, a =2))',\n",
       " '_i58': 'print (foo (a=3, b =1))',\n",
       " '_i59': 'print (foo (0, -1))',\n",
       " '_i60': 'def foo(l, bar ):\\n    return list ( map (bar , l))',\n",
       " '_i61': 'print (foo ([0 ,1 ,2] , lambda x: x +2))',\n",
       " '_i62': 'print (foo ([2.0 ,1 ,2] , lambda x: x +2))',\n",
       " '_i63': 'print(foo ([1 ,2] , lambda x: x >>2))',\n",
       " '_i64': 'print (foo ([1 ,3] , lambda x: x+x))',\n",
       " '_i65': 'my_list = [(1, 2)]\\nif my_list:\\n    print(\"List is not empty\")\\nelse:\\n    print(\"List is empty\")\\n\\nprint(my_list[0].count(2))',\n",
       " 'my_list': [(1, 2)],\n",
       " '_i66': 'x = 5\\ny = 3\\nresult = x > y\\nprint(result)',\n",
       " '_i67': 'a = 10\\nb = -5\\nresult = a != b\\nprint(result)',\n",
       " '_i68': 'name1 = \"Alice\"\\nname2 = \"Bob\"\\nresult = name1 < name2\\nprint(result)\\n# The correct answer is True, as \"Alice\" comes before \"Bob\" lexicographically.',\n",
       " 'name1': 'Alice',\n",
       " 'name2': 'Bob',\n",
       " '_i69': 'list1 = [1, 2, 3]\\nlist2 = [1, 2, 3, 4]\\nresult = len(list1) == len(list2)\\nprint(result)',\n",
       " 'list1': [4, 3],\n",
       " 'list2': [1, 3],\n",
       " '_i70': 'temperature = 25\\nresult = temperature >= 20 and temperature <= 30\\nprint(result)',\n",
       " 'temperature': 25,\n",
       " '_i71': 'word = \"Python\"\\nresult = \"thon\" in word\\nprint(result)',\n",
       " 'word': 'Python',\n",
       " '_i72': 'value1 = 3.1415\\nvalue2 = 3.1416\\nprint(abs(value1-value2))\\nresult = abs(value1 - value2) < 0.001\\nprint(result)',\n",
       " 'value1': 3.1415,\n",
       " 'value2': 3.1416,\n",
       " '_i73': 'string1 = \"hello\"\\nstring2 = \"world\"\\nresult = string1 == string2\\nprint(result)',\n",
       " 'string1': 'abc',\n",
       " 'string2': 'def',\n",
       " '_i74': 'string1 = \"hello\"\\nstring2 = \"world\"\\nresult = string1 == string2\\nprint(result)\\n\\nstring1 = \"hello\"\\nstring2 = \"hello\"\\nresult = string1 == string2\\nprint(result)',\n",
       " '_i75': 'string1 = \"hello\"\\nstring2 = \"world\"\\nresult = string1 == string2\\nprint(result)\\n\\nstring1 = \"hello\"\\nstring2 = \"hello\"\\nresult = string1 is string2\\nprint(result)',\n",
       " '_i76': 'string1 = \"hello\"\\nstring2 = \"world\"\\nresult = string1 == string2\\nprint(result)\\n\\nstring1 = \"hello\"\\nstring2 = \"hello\"\\nresult = id(string1) is id(string2)\\nprint(result)',\n",
       " '_i77': 'string1 = \"hello\"\\nstring2 = \"world\"\\nresult = string1 == string2\\nprint(result)\\n\\nstring1 = \"hello\"\\nstring2 = \"hello\"\\nresult = id(string1) == id(string2)\\nprint(result)',\n",
       " '_i78': 'number = 42\\ntext = \"42\"\\nresult = number == text\\nprint(result)',\n",
       " 'number': 123,\n",
       " 'text': '42',\n",
       " '_i79': 'list1 = [1, 2, 3]\\nlist2 = [int(i) for i in \"123\"]\\nresult = list1 == list2\\nprint(result)',\n",
       " '_i80': 'tuple1 = (1, 2, 3)\\ntuple2 = [1, 2, 3]\\nresult = tuple1 == tuple2\\nprint(result)',\n",
       " 'tuple1': (1, 2, 3),\n",
       " 'tuple2': [1, 2, 3],\n",
       " '_i81': 'word = \"Python\"\\nnumber = 123\\nresult = word == number\\nprint(result)',\n",
       " '_i82': 'set1 = {1, 2, 3}\\nset2 = {3, 2, 1}\\nresult = set1 == set2\\nprint(result)\\n# The correct answer is True. \\n# Sets are unordered, and their elements are the same, so the sets are considered equal.',\n",
       " 'set1': {1, 2, 3},\n",
       " 'set2': {1, 2, 3},\n",
       " '_i83': \"dictionary = {'a': 1, 'b': 2}\\nresult = dictionary == 42\\nprint(result)\",\n",
       " 'dictionary': {'a': 1, 'b': 2},\n",
       " '_i84': 'complex_number = 3 + 4j\\ninteger = 5\\nresult = complex_number == integer\\nprint(result)',\n",
       " 'complex_number': (3+4j),\n",
       " 'integer': 5,\n",
       " '_i85': 'boolean = True\\nnone_value = None\\nresult = boolean == none_value\\nprint(result)',\n",
       " 'boolean': True,\n",
       " 'none_value': None,\n",
       " '_i86': 'string1 = \"abc\"\\nstring2 = \"def\"\\nresult = string1 <= string2\\nprint(result)\\n# The correct answer is False.\\n# String comparison is based on lexicographic order, and \\'abc\\' is not greater than or equal to \\'def\\'',\n",
       " '_i87': 'float_number = 3.14\\nboolean = True\\nresult = float_number > boolean\\nprint(result)\\n# The correct answer is True.\\n#In Python, True is considered equal to 1, so 3.14 is greater than 1.',\n",
       " 'float_number': 3.14,\n",
       " '_i88': 'def example1(lst, func):\\n    return list(map(func, lst))\\n\\n\\nprint(example1([0, 1, 2], lambda x: x**2))',\n",
       " 'example1': <function __main__.example1(lst, func)>,\n",
       " '_i89': 'def example2(lst, func):\\n    return list(map(func, lst))\\n\\n\\nprint(example2([0, 2, 4], lambda x: x + 1))',\n",
       " 'example2': <function __main__.example2(lst, func)>,\n",
       " '_i90': 'def example3(lst, func):\\n    return list(map(func, lst))\\n\\n\\nprint(example3([0, 1, 2], lambda x: x if x > 0 else \"\"))',\n",
       " 'example3': <function __main__.example3(lst, func)>,\n",
       " '_i91': 'def example4(lst, func):\\n    return list(map(func, lst))\\n\\nprint(example4([65, 66, 67], lambda x: chr(x)))',\n",
       " 'example4': <function __main__.example4(lst, func)>,\n",
       " '_i92': \"def example5(lst, func):\\n    return list(map(func, lst))\\n\\n# Proposal: ['apple', 'banana', 'cherry']\\nprint(example5(['a', 'b', 'c'], lambda x: x + 'pple'))\",\n",
       " 'example5': <function __main__.example5(lst, func)>,\n",
       " '_i93': 'def example6(lst, func):\\n    return list(map(func, lst))\\n\\n\\nprint(example6([1, 2, 3], lambda x: x * 2))',\n",
       " 'example6': <function __main__.example6(lst, func)>,\n",
       " '_i94': 'def example7(lst, func):\\n    return list(map(func, lst))\\n\\n\\nprint(example7([0, 1, 2], lambda x: x % 2))',\n",
       " 'example7': <function __main__.example7(lst, func)>,\n",
       " '_i95': \"def example8(lst, func):\\n    return list(map(func, lst))\\n\\n# Proposal: ['apple', 'banana', 'orange']\\nprint(example8(['a', 'b', 'o'], lambda x: x + 'range' if x == 'o' else x + 'pple'))\",\n",
       " 'example8': <function __main__.example8(lst, func)>,\n",
       " '_i96': 'def example9(lst, func):\\n    return list(map(func, lst))\\n\\nprint(example9([0, 1, 2], lambda x: x > 0))',\n",
       " 'example9': <function __main__.example9(lst, func)>,\n",
       " '_i97': 'message = input(\"Write something:\")\\n\\nprint(message*2)',\n",
       " 'message': 'asdas',\n",
       " '_i98': 'print(len(str(45)))',\n",
       " '_i99': 'print(int(2.7))',\n",
       " '_i100': 'for i in range(3, 16, 3):\\n    print(i)\\n\\nif 1:\\n    print(\"True\")',\n",
       " 'i': 15,\n",
       " '_i101': 'a = [x for x in range (21)]\\n\\nprint(a[3:17:2])',\n",
       " '_i102': 'vec_list = [[0,1],\\n            [2,3],\\n            [5,1]]\\n\\ncopy_vec_list = vec_list [0:3]\\n\\nprint(\"IDs of the lists:\")\\nprint(id(vec_list))\\nprint(id(copy_vec_list))\\n\\nprint(\"\\\\nIDs of the elements of the list:\")\\nprint(\"Original:\\\\t\", id(vec_list[0]))\\nprint(\"Copy:\\\\t\\\\t\", id(copy_vec_list[0]))\\n\\nv0 = copy_vec_list[0]\\nv0[0] = 9\\nprint(\"modified v[0]= \", v0)\\n\\nprint(\"Original List:\", vec_list)\\nprint(\"Copied List:\", copy_vec_list)\\n\\nvec_list[0] = [8, 8]\\nprint(\"Original List:\", vec_list)\\nprint(\"Copied List:\", copy_vec_list)\\n\\nprint(\"\\\\nIDs of the elements of the list:\")\\nprint(\"Original:\\\\t\", id(vec_list[0]))\\nprint(\"Copy:\\\\t\\\\t\", id(copy_vec_list[0]))',\n",
       " 'vec_list': [[8, 8], [2, 3], [5, 1]],\n",
       " 'copy_vec_list': [[9, 1], [2, 3], [5, 1]],\n",
       " 'v0': [9, 1],\n",
       " '_i103': 'vec_list = [[0,1],\\n            [2,3],\\n            [5,1]]\\n\\ncopy_vec_list = vec_list [0:3]\\n\\nprint(\"IDs of the lists:\")\\nprint(id(vec_list))\\nprint(id(copy_vec_list))\\n\\nprint(\"\\\\nIDs of the elements of the list:\")\\nprint(\"Original:\\\\t\", id(vec_list[0]))\\nprint(\"Copy:\\\\t\\\\t\", id(copy_vec_list[0]))\\n\\nv0 = copy_vec_list[0]\\nv0[0] = 9\\nprint(\"modified v[0]= \", v0)\\n\\nprint(\"Original List:\", vec_list)\\nprint(\"Copied List:\", copy_vec_list)\\n\\nvec_list[0] = [8, 8]\\nprint(\"Original List:\", vec_list)\\nprint(\"Copied List:\", copy_vec_list)\\n\\nprint(\"\\\\nIDs of the elements of the list:\")\\nprint(\"Original:\\\\t\", id(vec_list[0]))\\nprint(\"Copy:\\\\t\\\\t\", id(copy_vec_list[0]))',\n",
       " '_i104': 'import copy\\n\\na = [[0, 1],\\n     [2, 3],\\n     [4, 5]]\\n\\ncopy_a = copy.copy(a)\\n\\nv = copy_a[0]\\nv[0] = 20\\n\\nprint(id(a[0][0]))\\nprint(id(copy_a[0][0]))\\n\\nprint(copy_a)\\nprint(a)',\n",
       " 'copy': <module 'copy' from 'c:\\\\Users\\\\flori\\\\AppData\\\\Local\\\\Programs\\\\Python\\\\Python312\\\\Lib\\\\copy.py'>,\n",
       " 'copy_a': [[20, 1], [2, 3], [4, 5]],\n",
       " 'v': [20, 1],\n",
       " '_i105': 'import copy\\n\\na = [[0, 1],\\n     [2, 3],\\n     [4, 5]]\\n\\ncopy_a = copy.deepcopy(a)\\n\\nv = copy_a[0]\\nv[0] = 20\\n\\nprint(id(a[0][0]))\\nprint(id(copy_a[0][0]))\\n\\nprint(copy_a)\\nprint(a)',\n",
       " '_i106': 'a = [i for i in range(5)]\\nb = [i for i in range (5, 10)]\\n\\nc = a\\nc[0]=42\\n\\nprint(a)\\n\\nd = copy.deepcopy(b)\\nd[0] = 42\\n\\nprint(b)',\n",
       " 'c': [42, 1, 2, 3, 4],\n",
       " 'd': {'Art:': 'Auto', 'Marke': 'VW', 'Model': 'Golf', 'Baujahr': 1998},\n",
       " '_i107': 'a = [i for i in range(0, 5)]\\na.insert(1, \"Test\")\\nprint(a)\\na.append([\"Ende\", \"Hallo\"]) # takes only one argument\\nprint(a)\\nvar1 = a.pop()\\nprint(var1, a)\\nvar2 = a.pop(1)\\nprint(var2, a)\\na.append(1)\\na.remove(1)\\nprint(a)\\na.extend(\"3\") # only iterable objects\\nprint(a)',\n",
       " 'var1': ['Ende', 'Hallo'],\n",
       " 'var2': 'Test',\n",
       " '_i108': 'print(id(a))\\nb = [\"a\", \"b\", \"c\", \"d\"]\\na += b # ID stays the same\\nprint(a)\\nprint(id(a))\\na = a + b # new object is created --> ID changes\\nprint(a)\\nprint(id(a))',\n",
       " '_i109': 'b[2:4] = [98, 23413]\\nprint(b)\\ndel b[0:3]\\nprint(b)',\n",
       " '_i110': 'b = [1, 2, 3, \"a\", \"b\", \"c\"]\\nb1 = b[:3]\\nb2 = b[3:]\\nb.reverse()\\nprint(b)\\nb1.reverse()\\nprint(b1)\\nb2.sort(reverse=True)\\nprint(b2)',\n",
       " 'b1': [3, 2, 1],\n",
       " 'b2': ['c', 'b', 'a'],\n",
       " '_i111': 'print(list(x for x in range(20) if x%2 == 0))',\n",
       " '_i112': 'print(list(x for x in range(20) if x%2))',\n",
       " '_i113': 'result = eval(\"print(\\'hello world\\')\")\\nprint(type(result))',\n",
       " '_i114': 'x = 7\\ny = 3\\neval(\"print(x*y)\")',\n",
       " '_i115': 's = {1, 2, 3, 4, 5}\\nt = {1, 2, 3, 4, 5, 6}\\nprint(t)\\nprint(len(t))\\nprint(s == t)\\n\\nprint(s.isdisjoint(t))\\nu = {\"Hallo\", \"1\", \"Test\"}\\nprint(s.isdisjoint(u))\\n\\ns = list(s)\\nt = list(t)\\nprint(\"s == t:\", s == t)\\n\\nprint(\"t eine Teilmenge von s:\", s >= t)\\nprint(\"s eine Teilmenge von t:\", s <= t )',\n",
       " 's': 'Abc.def',\n",
       " 't': {1, 2, 3, 4, 5, 6, 7},\n",
       " 'u': 0,\n",
       " '_i116': 's = {1, 2, 3, 4, 5}\\nt = {1, 2, 3, 4, 5, 6, 7}\\nprint(id(s))\\ns ^= t\\nprint(s)\\nprint(id(s))',\n",
       " '_i117': 's = {1, 2, 3, 4, 5}\\nt = {1, 2, 3, 4, 5, 6, 7}\\ns |= t\\nprint(s)',\n",
       " '_i118': 's = {1, 2, 3, 4, 5}\\nt = {1, 2, 3, 4, 5, 6, 7}\\ns &= t\\nprint(s)',\n",
       " '_i119': 's = {1, 2, 3, 4, 5}\\nt = {1, 2, 3, 4, 5, 6, 7}\\ns -= t\\nprint(s)',\n",
       " '_i120': 's.add(\"0\")\\nprint(s)\\ns.discard(\"0\")\\nprint(s)\\ns.add(0)\\ns.add(67)\\nprint(s)\\nu = s.pop()\\nprint(u, s)',\n",
       " '_i121': 'd = {\"Art:\": \"Auto\",\\n     \"Marke\": \"VW\",\\n     \"Model\": \"Golf\",\\n     \"Baujahr\": 2004,\\n     \"Leistung\": 75.9}\\n\\nprint(d)\\nprint(\"Marke\" in d)\\nprint(\"VW\" in d.values())\\n\\nprint(d[\"Marke\"])\\nd.pop(\"Baujahr\", 2004)\\nd.popitem()\\nprint(d)\\nd[\"Baujahr\"] = 1998\\nprint(d)\\n\\nprint(d.keys())\\nprint(d.values())\\nprint(d.items())',\n",
       " '_i122': 'print(\"a\" + \"bc\")',\n",
       " '_i123': 'list1 = [1, 3]\\nlist2 = list1[:]\\nlist1[0] = 4\\nprint(list2)',\n",
       " '_i124': 'z = set(\\'abc$de\\')\\nprint(z)\\nprint(\"a\" in z)',\n",
       " 'z': {'$', 'a', 'b', 'c', 'd', 'e'},\n",
       " '_i125': 'x = [[0], [1]]\\ny = list(map(str, x))\\nprint(y)\\nprint((\" \".join(y),))',\n",
       " '_i126': 'def foo():\\n    return None\\n\\nprint(str(foo))',\n",
       " '_i127': 'class tester:\\n    id = 224\\n    def __init__(self, id) -> None:\\n        self.id = id\\n        pass\\n\\nprint(tester.id)\\ntemp = tester(33)\\nprint(temp.id)',\n",
       " 'tester': __main__.tester,\n",
       " 'temp': <__main__.tester at 0x21e2ac36ed0>,\n",
       " '_i128': 'class tester:\\n    \\n    def __init__(self, id) -> None:\\n        self.id = id\\n        id = 224\\n        pass\\n\\nprint(tester.id)\\ntemp = tester(33)\\nprint(temp.id)',\n",
       " '_i129': 'class tester:\\n    id = 224\\n    def __init__(self, id) -> None:\\n        self.id = id\\n        id = 224\\n        pass\\n\\nprint(tester.id)\\ntemp = tester(33)\\nprint(temp.id)',\n",
       " '_i130': 'class tester:\\n    id = 224\\n    def __init__(self, id) -> None:\\n        self.id = id\\n        pass\\n\\nprint(tester.id)\\ntemp = tester(33)\\nprint(temp.id)',\n",
       " '_i131': 'class tester:\\n    id = 224\\n    def __init__(self, id) -> None:\\n        self.id = id\\n        pass\\n\\nprint(tester.id)\\ntemp = tester(33)\\nprint(temp.id)',\n",
       " '_i132': \"def foo(x):\\n    x[0] = ['def']\\n    x[1] = ['abc']\\n    return id(x)\\nq = ['abc', 'def']\\nprint(id(q) == foo(q))\",\n",
       " 'q': [['def'], ['abc']],\n",
       " '_i133': 's = \"Abc.\" + \"def\"\\n\\nprint(s.capitalize())',\n",
       " '_i134': 'print(\\'*\\', \"abcde\".center(6), \\'*\\', sep=\\'\\')\\n\\nprint(\"aa\".center(1))',\n",
       " '_i135': 'a = 5\\n\\nprint(dir(a))\\nprint(a.is_integer())\\nprint(a.to_bytes())\\nprint(bin(a))\\nprint(hex(a))\\nprint(oct(a))',\n",
       " '_i136': 'import math\\na = 4.6763\\nprint(math.ceil(a))\\nprint(math.floor(a))\\nprint(round(a, ))\\nprint(math.isclose(a, 4.676, rel_tol=0.00001))',\n",
       " 'math': <module 'math' (built-in)>,\n",
       " '_i137': 'print(\"Hello {0[0]} and {1[1]}\".format((\\'foo\\', \\'bin\\'), [1, 4]))',\n",
       " '_i138': 'import math\\nprint(2**3)\\nprint(math.pow(2, 3))',\n",
       " '_i139': 'help(round)',\n",
       " '_i140': 'help(print)',\n",
       " '_i141': 'type(id(5))',\n",
       " '_141': int,\n",
       " '_i142': 'print(int(13/2))\\nprint(13//2)\\nprint(13%2)',\n",
       " '_i143': 'help(math.trunc)',\n",
       " '_i144': 'math.trunc(1.8)',\n",
       " '_144': 1,\n",
       " '_i145': 'print(0.1+0.2)',\n",
       " '_i146': 'print(~4)\\nprint(-(4+1))',\n",
       " '_i147': 'print(~~~~~~5)',\n",
       " '_i148': \"print(float('nan'))\",\n",
       " '_i149': 'print(round(0.5))',\n",
       " '_i150': 'print(bin(3), bin(4))',\n",
       " '_i151': 'print(0b111)\\nprint(3^4)',\n",
       " '_i152': '0 % 1',\n",
       " '_152': 0,\n",
       " '_i153': 'int(0b1011)',\n",
       " '_153': 11,\n",
       " '_i154': 'int(\"1111\", 2)',\n",
       " '_154': 15,\n",
       " '_i155': \"int('FFFF', 16)\",\n",
       " '_155': 65535,\n",
       " '_i156': \"bool('False')\",\n",
       " '_156': True,\n",
       " '_i157': 'bool(int(~False))',\n",
       " '_157': True,\n",
       " '_i158': \"bool('False')\",\n",
       " '_158': True,\n",
       " '_i159': 'bool(int(~False))',\n",
       " '_159': True,\n",
       " '_i160': 'help(bool)',\n",
       " '_i161': 'int(True) *2',\n",
       " '_161': 2,\n",
       " '_i162': 'x = 13\\nprint(type(f\"{x:05d}\"))',\n",
       " '_i163': \"'%d %s %g you' %(1, 'hello', 4.0)\",\n",
       " '_163': '1 hello 4 you',\n",
       " '_i164': \"a = 'hello'\\nb = 10\\nvars()\"}"
      ]
     },
     "execution_count": 164,
     "metadata": {},
     "output_type": "execute_result"
    }
   ],
   "source": [
    "a = 'hello'\n",
    "b = 10\n",
    "vars()"
   ]
  },
  {
   "cell_type": "code",
   "execution_count": 165,
   "metadata": {},
   "outputs": [
    {
     "name": "stdout",
     "output_type": "stream",
     "text": [
      "1\n",
      "2\n",
      "3\n",
      "4\n",
      "5\n",
      "6\n"
     ]
    }
   ],
   "source": [
    "i = 1\n",
    "while True:\n",
    "    if i%0O7 == 0:\n",
    "        break\n",
    "    print(i)\n",
    "    i += 1"
   ]
  },
  {
   "cell_type": "code",
   "execution_count": 166,
   "metadata": {},
   "outputs": [
    {
     "name": "stdout",
     "output_type": "stream",
     "text": [
      "a\n",
      "b\n",
      "c\n",
      "d\n",
      "e\n",
      "f\n"
     ]
    }
   ],
   "source": [
    "x = \"abcdef\"\n",
    "for i in x:\n",
    "    #print(i, end=\" \")\n",
    "    print(i )"
   ]
  },
  {
   "cell_type": "code",
   "execution_count": 167,
   "metadata": {},
   "outputs": [
    {
     "name": "stdout",
     "output_type": "stream",
     "text": [
      "0\n",
      "1\n",
      "2\n",
      "3\n"
     ]
    }
   ],
   "source": [
    "d = {0, 1, 2, 3}\n",
    "\n",
    "for x in d:\n",
    "    print(x)"
   ]
  },
  {
   "cell_type": "code",
   "execution_count": 168,
   "metadata": {},
   "outputs": [
    {
     "name": "stdout",
     "output_type": "stream",
     "text": [
      "{1}\n",
      "{1, 2}\n",
      "{1, 2, 3}\n",
      "{'Test', 1, 2, 3}\n",
      "{1, 2, 3, 5, 'Test'}\n",
      "{1, 2, 3, 5, 45, 'Test'}\n"
     ]
    }
   ],
   "source": [
    "d = set()\n",
    "\n",
    "e = {1, 2, 3, 45, 5, \"Test\"}\n",
    "\n",
    "for x in e:\n",
    "    d.add(x)\n",
    "    print(d)"
   ]
  },
  {
   "cell_type": "code",
   "execution_count": 169,
   "metadata": {},
   "outputs": [
    {
     "name": "stdout",
     "output_type": "stream",
     "text": [
      "0\n",
      "1\n",
      "2\n",
      "3\n",
      "4\n"
     ]
    },
    {
     "data": {
      "text/plain": [
       "inf"
      ]
     },
     "execution_count": 169,
     "metadata": {},
     "output_type": "execute_result"
    }
   ],
   "source": [
    "for i in range(5):\n",
    "    print(i)\n",
    "\n",
    "float('inf')"
   ]
  },
  {
   "cell_type": "code",
   "execution_count": 170,
   "metadata": {},
   "outputs": [
    {
     "name": "stdout",
     "output_type": "stream",
     "text": [
      "[0, 1]\n",
      "<generator object <genexpr> at 0x0000021E29E0AF80>\n"
     ]
    }
   ],
   "source": [
    "print([i for i in range(2)])\n",
    "print((i for i in range(2)))"
   ]
  },
  {
   "cell_type": "code",
   "execution_count": 171,
   "metadata": {},
   "outputs": [
    {
     "name": "stdout",
     "output_type": "stream",
     "text": [
      "0\n",
      "1\n",
      "2\n",
      "2\n"
     ]
    }
   ],
   "source": [
    "a = [0, 1, 2, 3]\n",
    "\n",
    "for a[-1] in a:\n",
    "    print(a[-1])"
   ]
  },
  {
   "cell_type": "code",
   "execution_count": 172,
   "metadata": {},
   "outputs": [
    {
     "name": "stdout",
     "output_type": "stream",
     "text": [
      "0\n",
      "1\n",
      "2\n",
      "3\n"
     ]
    }
   ],
   "source": [
    "a = [0, 1, 2, 3]\n",
    "\n",
    "for a[0] in a:\n",
    "    print(a[0])"
   ]
  },
  {
   "cell_type": "code",
   "execution_count": 173,
   "metadata": {},
   "outputs": [
    {
     "name": "stdout",
     "output_type": "stream",
     "text": [
      "newline 5\n",
      "x\\97\n"
     ]
    },
    {
     "name": "stderr",
     "output_type": "stream",
     "text": [
      "<>:2: SyntaxWarning: invalid escape sequence '\\9'\n",
      "<>:2: SyntaxWarning: invalid escape sequence '\\9'\n",
      "C:\\Users\\flori\\AppData\\Local\\Temp\\ipykernel_12716\\3337063214.py:2: SyntaxWarning: invalid escape sequence '\\9'\n",
      "  print('x\\97\\x98')\n"
     ]
    }
   ],
   "source": [
    "print(\"new\" \"line\", 5)\n",
    "print('x\\97\\x98')"
   ]
  },
  {
   "cell_type": "code",
   "execution_count": 174,
   "metadata": {},
   "outputs": [
    {
     "data": {
      "text/plain": [
       "True"
      ]
     },
     "execution_count": 174,
     "metadata": {},
     "output_type": "execute_result"
    }
   ],
   "source": [
    "'ab120'.isalnum()"
   ]
  },
  {
   "cell_type": "code",
   "execution_count": 175,
   "metadata": {},
   "outputs": [
    {
     "data": {
      "text/plain": [
       "True"
      ]
     },
     "execution_count": 175,
     "metadata": {},
     "output_type": "execute_result"
    }
   ],
   "source": [
    "'01234'.isdigit()\n"
   ]
  },
  {
   "cell_type": "code",
   "execution_count": 176,
   "metadata": {},
   "outputs": [
    {
     "data": {
      "text/plain": [
       "True"
      ]
     },
     "execution_count": 176,
     "metadata": {},
     "output_type": "execute_result"
    }
   ],
   "source": [
    "'asdfsdggwäejghwälrtjghoqi4gjä1qi45tgj41ipjthäl223'.isidentifier()"
   ]
  },
  {
   "cell_type": "code",
   "execution_count": 177,
   "metadata": {},
   "outputs": [
    {
     "name": "stdout",
     "output_type": "stream",
     "text": [
      " \"halo\" \n",
      "True\n"
     ]
    }
   ],
   "source": [
    "print(''' \\\"halo\\\" ''')\n",
    "\n",
    "print(\"This Is A Title\".istitle())"
   ]
  },
  {
   "cell_type": "code",
   "execution_count": 178,
   "metadata": {},
   "outputs": [
    {
     "name": "stdout",
     "output_type": "stream",
     "text": [
      "zxxyxyy\n"
     ]
    }
   ],
   "source": [
    "print('xyyzxxyxyy'.lstrip('xyy'))"
   ]
  },
  {
   "cell_type": "code",
   "execution_count": 179,
   "metadata": {},
   "outputs": [
    {
     "name": "stdout",
     "output_type": "stream",
     "text": [
      "zxxy\n"
     ]
    }
   ],
   "source": [
    "print('xyxxyyzxxy'.lstrip('xyy'))"
   ]
  },
  {
   "cell_type": "code",
   "execution_count": 180,
   "metadata": {},
   "outputs": [
    {
     "name": "stdout",
     "output_type": "stream",
     "text": [
      "[4, 2, 1, 3]\n"
     ]
    }
   ],
   "source": [
    "import random\n",
    "list1 = [1, 2, 3, 4]\n",
    "random.shuffle(list1)\n",
    "print(list1)"
   ]
  },
  {
   "cell_type": "code",
   "execution_count": 181,
   "metadata": {},
   "outputs": [
    {
     "data": {
      "text/plain": [
       "0"
      ]
     },
     "execution_count": 181,
     "metadata": {},
     "output_type": "execute_result"
    }
   ],
   "source": [
    "list3 = [i for i in range(5)]\n",
    "list3.pop(0)"
   ]
  },
  {
   "cell_type": "code",
   "execution_count": 182,
   "metadata": {},
   "outputs": [
    {
     "name": "stdout",
     "output_type": "stream",
     "text": [
      "[[0, 0], [0, 1], [0, 2], [0, 3], [1, 0], [1, 1], [1, 2], [1, 3], [2, 0], [2, 1], [2, 2], [2, 3], [3, 0], [3, 1], [3, 2], [3, 3]]\n",
      "[[0, 0], [0, 1], [0, 2], [0, 3], [1, 0], [1, 1], [1, 2], [1, 3], [2, 0], [2, 1], [2, 2], [2, 3], [3, 0], [3, 1], [3, 2], [3, 3]]\n"
     ]
    }
   ],
   "source": [
    "m = [[x, y] for x in range(0, 4) for y in range(0, 4)]\n",
    "print(m)\n",
    "\n",
    "m = []\n",
    "for x in range(4):\n",
    "    for y in range(4):\n",
    "        m.append([x, y])\n",
    "\n",
    "print(m)\n"
   ]
  },
  {
   "cell_type": "code",
   "execution_count": 183,
   "metadata": {},
   "outputs": [
    {
     "name": "stdout",
     "output_type": "stream",
     "text": [
      "1\n",
      "\n",
      "3\n"
     ]
    }
   ],
   "source": [
    "print(1)\n",
    "print()\n",
    "print(3)"
   ]
  },
  {
   "cell_type": "code",
   "execution_count": 184,
   "metadata": {},
   "outputs": [
    {
     "name": "stdout",
     "output_type": "stream",
     "text": [
      "[10, 34, 56, [95]]\n"
     ]
    }
   ],
   "source": [
    "a=[10,23,56,[78]]\n",
    "# b=list(a)\n",
    "b=a\n",
    "a[3][0]=95\n",
    "a[1]=34\n",
    "print(b)"
   ]
  },
  {
   "cell_type": "code",
   "execution_count": 185,
   "metadata": {},
   "outputs": [
    {
     "name": "stdout",
     "output_type": "stream",
     "text": [
      "[(1, 'a', 'xxx')]\n",
      "[(2, 'b', 'yy'), (4, 'c', 'xx')]\n"
     ]
    }
   ],
   "source": [
    "print(list(zip((1,2,3),('a'),('xxx','yyy'))))\n",
    "print(list(zip((2,4),('b','c'),('yy','xx'))))"
   ]
  },
  {
   "cell_type": "code",
   "execution_count": 186,
   "metadata": {},
   "outputs": [
    {
     "name": "stdout",
     "output_type": "stream",
     "text": [
      "[[7], [7], [7]]\n"
     ]
    }
   ],
   "source": [
    "a = [[]] * 3\n",
    "a[1].append(7)\n",
    "print(a)"
   ]
  },
  {
   "cell_type": "code",
   "execution_count": 187,
   "metadata": {},
   "outputs": [
    {
     "name": "stdout",
     "output_type": "stream",
     "text": [
      "[3, 7, 8, 6, 1, 2]\n"
     ]
    }
   ],
   "source": [
    "lst=[3,4,6,1,2]\n",
    "lst[1:2]=[7,8]\n",
    "print(lst)"
   ]
  },
  {
   "cell_type": "code",
   "execution_count": 188,
   "metadata": {},
   "outputs": [
    {
     "name": "stdout",
     "output_type": "stream",
     "text": [
      "[3, [7, 8], 6, 1, 2]\n"
     ]
    }
   ],
   "source": [
    "lst=[3,4,6,1,2]\n",
    "lst[1]=[7,8]\n",
    "print(lst)"
   ]
  },
  {
   "cell_type": "code",
   "execution_count": 189,
   "metadata": {},
   "outputs": [
    {
     "name": "stdout",
     "output_type": "stream",
     "text": [
      "[1, 2, 3, 4]\n"
     ]
    }
   ],
   "source": [
    "lst=[[1,2],[3,4]]\n",
    "print(sum(lst, []))"
   ]
  },
  {
   "cell_type": "code",
   "execution_count": 190,
   "metadata": {},
   "outputs": [
    {
     "name": "stdout",
     "output_type": "stream",
     "text": [
      "2328587170752 2328587170752\n",
      "True\n",
      "2328577653056 2328562859520 2328562859520 2328578159744\n",
      "False\n",
      "True\n"
     ]
    }
   ],
   "source": [
    "word1 = \"apple\"\n",
    "word2 = \"apple\"\n",
    "print(id(word1), id(word2))\n",
    "print(word1 is word2)\n",
    "\n",
    "list1 = [1, 2, 3]\n",
    "list2 = [1, 2, 3]\n",
    "list3 = list2\n",
    "list4 = list3[:]\n",
    "print(id(list1), id(list2), id(list3), id(list4))\n",
    "print(list1 is list2)\n",
    "print(list2 is list3)"
   ]
  },
  {
   "cell_type": "code",
   "execution_count": null,
   "metadata": {},
   "outputs": [],
   "source": [
    "a = 5\n",
    "b = 5\n",
    "print(a is b)\n",
    "a = (1, 4)\n",
    "b = (1, 4)\n",
    "print(a is b)"
   ]
  },
  {
   "cell_type": "code",
   "execution_count": null,
   "metadata": {},
   "outputs": [],
   "source": [
    "places = [\"Bangalore\", \"Mumbai\", \"Dehli\", [\"Böttingen\", \"Mahlstetten\"]]\n",
    "places1 = places\n",
    "places2 = places[:]\n",
    "\n",
    "places1[1] = \"Pune\"\n",
    "places2[2] = \"Hyderabad\"\n",
    "places2[3][1] = \"Königsheim\"\n",
    "\n",
    "print(places)"
   ]
  },
  {
   "cell_type": "code",
   "execution_count": null,
   "metadata": {},
   "outputs": [],
   "source": [
    "print(\"\".join(list(map(str, [[0], [1]]))))"
   ]
  },
  {
   "cell_type": "code",
   "execution_count": null,
   "metadata": {},
   "outputs": [],
   "source": [
    "a = [1, 5, 7, 9, 9, 1]\n",
    "b=a[0]\n",
    "x= 0\n",
    "for x in range(1, len(a)):\n",
    "    if a[x] > b:\n",
    "        b = a[x]\n",
    "print(b)"
   ]
  },
  {
   "cell_type": "code",
   "execution_count": null,
   "metadata": {},
   "outputs": [],
   "source": [
    "print([i if i % 2 == 0 else i+1 for i in range(4)])"
   ]
  },
  {
   "cell_type": "code",
   "execution_count": null,
   "metadata": {},
   "outputs": [],
   "source": [
    "l = []\n",
    "for x in [1, 2, 3]:\n",
    "    for y in [4, 5, 6]:\n",
    "        l.append(x*y)\n",
    "print(l)"
   ]
  },
  {
   "cell_type": "code",
   "execution_count": null,
   "metadata": {},
   "outputs": [],
   "source": [
    "[2**x for x in range(13)]"
   ]
  },
  {
   "cell_type": "code",
   "execution_count": null,
   "metadata": {},
   "outputs": [],
   "source": [
    "A = [[1, 2, 3],\n",
    "     [4, 5, 6],\n",
    "     [7, 8, 9]]\n",
    "B = [[3, 3, 3],\n",
    "     [4, 4, 4],\n",
    "     [5, 5, 5]]\n",
    "list(zip(A, B))"
   ]
  },
  {
   "cell_type": "code",
   "execution_count": null,
   "metadata": {},
   "outputs": [],
   "source": [
    "t = (1, 2)\n",
    "t + t"
   ]
  },
  {
   "cell_type": "code",
   "execution_count": null,
   "metadata": {},
   "outputs": [],
   "source": [
    "t1 = (1, 2, 4, 3)\n",
    "t2 = (1, 2, 3, 4)\n",
    "t1 < t2"
   ]
  },
  {
   "cell_type": "code",
   "execution_count": null,
   "metadata": {},
   "outputs": [],
   "source": [
    "a = (0, 1, 2, 3, 4)\n",
    "b = slice(0, 2)\n",
    "print(a[b])"
   ]
  },
  {
   "cell_type": "code",
   "execution_count": null,
   "metadata": {},
   "outputs": [],
   "source": [
    "a = {1, 2,7, \"Hallo\",3, 4, \"a\", \"b\", \"c\", 5, \"Hall\", \"6\", 6}\n",
    "\n",
    "print(a)"
   ]
  },
  {
   "cell_type": "code",
   "execution_count": null,
   "metadata": {},
   "outputs": [],
   "source": [
    "A = {1, 2, 3}\n",
    "B = {1, 2, 3, 4}\n",
    "B.update((6, 8))\n",
    "print(B)\n",
    "print(set([i*2 for i in A]))"
   ]
  },
  {
   "cell_type": "code",
   "execution_count": null,
   "metadata": {},
   "outputs": [],
   "source": [
    "d1 = {\"john\": 40, \"peter\": 45}\n",
    "d2 = {\"john\": 40, \"peter\": 45, 1: 2, 2: 3, abs: 7, None: True}\n",
    "\n",
    "print(d2.popitem())\n",
    "print(d2)\n",
    "\n",
    "d1==d2\n",
    "\n",
    "del d1[\"john\"]\n",
    "\n",
    "#print(d1)\n",
    "\n",
    "#print(d2.get('Hans', \"Hans ist nicht vorhanden\"))"
   ]
  },
  {
   "cell_type": "code",
   "execution_count": null,
   "metadata": {},
   "outputs": [],
   "source": [
    "d1.setdefault(3, \"H\")\n",
    "d1.update({4: 'Karl'})\n",
    "d1"
   ]
  },
  {
   "cell_type": "code",
   "execution_count": null,
   "metadata": {},
   "outputs": [],
   "source": [
    "d = {1: \"first entry\", 1.0: \"second entry\"}\n",
    "print(d)"
   ]
  },
  {
   "cell_type": "markdown",
   "metadata": {},
   "source": [
    "Python sees 1 and 1.0 as the same key, and since dictionaries in Python only store unique keys, the key 1.0 overwrites the key 1. Essentially, it's like updating the value associated with the key 1 to \"second entry\"."
   ]
  },
  {
   "cell_type": "code",
   "execution_count": null,
   "metadata": {},
   "outputs": [],
   "source": [
    "a = {}\n",
    "a.fromkeys([1, 2, 4], [\"value1\", \"value2\", \"value3\"])\n"
   ]
  },
  {
   "cell_type": "code",
   "execution_count": null,
   "metadata": {},
   "outputs": [],
   "source": [
    "b = {tuple([0, 1]): 0}\n",
    "print(any(b))\n",
    "print(b)"
   ]
  },
  {
   "cell_type": "code",
   "execution_count": null,
   "metadata": {},
   "outputs": [],
   "source": [
    "complex(0)"
   ]
  },
  {
   "cell_type": "code",
   "execution_count": null,
   "metadata": {},
   "outputs": [],
   "source": [
    "x=3\n",
    "eval('x^2')"
   ]
  },
  {
   "cell_type": "code",
   "execution_count": null,
   "metadata": {},
   "outputs": [],
   "source": [
    "ord(\"1\")"
   ]
  },
  {
   "cell_type": "code",
   "execution_count": null,
   "metadata": {},
   "outputs": [],
   "source": [
    "list(reversed([1, 2, 3]))"
   ]
  },
  {
   "cell_type": "code",
   "execution_count": null,
   "metadata": {},
   "outputs": [],
   "source": [
    "kosten = 1100 + 2300\n",
    "\n",
    "besucher = 300\n",
    "\n",
    "ticketpreis = kosten / besucher\n",
    "\n",
    "print(ticketpreis)"
   ]
  },
  {
   "cell_type": "code",
   "execution_count": null,
   "metadata": {},
   "outputs": [],
   "source": [
    "print(101 * 99)\n",
    "print(102 * 98)"
   ]
  },
  {
   "cell_type": "code",
   "execution_count": null,
   "metadata": {},
   "outputs": [],
   "source": [
    "\n",
    "x=12\n",
    "x=15\n",
    "\n",
    "def f1(a,b=x):\n",
    "    print(a,b)\n",
    "f1(4)"
   ]
  },
  {
   "cell_type": "code",
   "execution_count": null,
   "metadata": {},
   "outputs": [],
   "source": [
    "print(\"butter\")+\"butter\""
   ]
  },
  {
   "cell_type": "code",
   "execution_count": null,
   "metadata": {},
   "outputs": [],
   "source": [
    "def fact(num):\n",
    "    if num == 0:\n",
    "        return 1\n",
    "    else:\n",
    "        return num*fact(num-1)\n",
    "    \n",
    "fact(8)"
   ]
  },
  {
   "cell_type": "code",
   "execution_count": null,
   "metadata": {},
   "outputs": [],
   "source": [
    "l=[]\n",
    "def convert(b):\n",
    "    if(b==0):\n",
    "        return l\n",
    "    dig=b%2\n",
    "    l.append(dig)\n",
    "    convert(b//2)\n",
    "convert(6)\n",
    "# l.reverse()\n",
    "for i in l:\n",
    "    print(i,end=\"\")"
   ]
  },
  {
   "cell_type": "code",
   "execution_count": null,
   "metadata": {},
   "outputs": [],
   "source": [
    "def a(n):\n",
    "    if n == 0:\n",
    "        return 0\n",
    "    elif n == 1:\n",
    "        return 1\n",
    "    else:\n",
    "        return a(n-1)+a(n-2)\n",
    "for i in range(0,9):\n",
    "    print(a(i),end=\" \")"
   ]
  },
  {
   "cell_type": "code",
   "execution_count": null,
   "metadata": {},
   "outputs": [],
   "source": [
    "l1 = [1, 2, 3, [4]]\n",
    "l2 = list(l1)\n",
    "print(l2)\n",
    "\n",
    "id(l1) == id(l2)"
   ]
  },
  {
   "cell_type": "code",
   "execution_count": null,
   "metadata": {},
   "outputs": [],
   "source": [
    "l=[1, -2, -3, 4, 5]\n",
    "def f1(x):\n",
    "    return x<2\n",
    "m1=filter(f1, l)\n",
    "print(m1)\n",
    "print(list(m1))"
   ]
  },
  {
   "cell_type": "code",
   "execution_count": null,
   "metadata": {},
   "outputs": [],
   "source": [
    "l=[-2, 4]\n",
    "m=map(lambda x:x*2, l)\n",
    "print(list(m))"
   ]
  },
  {
   "cell_type": "code",
   "execution_count": null,
   "metadata": {},
   "outputs": [],
   "source": [
    "x = [12.1, 34.0]\n",
    "print(len(' '.join(list(map(str, x)))))"
   ]
  },
  {
   "cell_type": "code",
   "execution_count": null,
   "metadata": {},
   "outputs": [],
   "source": [
    "class Demo:\n",
    "    def __check(self):\n",
    "        return \" Demo's check \"\n",
    "    def display(self):\n",
    "        print(self.__check())\n",
    "class Demo_Derived(Demo):\n",
    "    def __check(self):\n",
    "        return \" Derived's check \"\n",
    "\n",
    "Demo().display()\n",
    "Demo_Derived().display()"
   ]
  },
  {
   "cell_type": "markdown",
   "metadata": {},
   "source": [
    "## Numpy"
   ]
  },
  {
   "cell_type": "code",
   "execution_count": null,
   "metadata": {},
   "outputs": [],
   "source": [
    "sum = 0\n",
    "for i in range(10):\n",
    "    sum += 0.1\n",
    "\n",
    "print(sum, sum == 1)"
   ]
  },
  {
   "cell_type": "code",
   "execution_count": null,
   "metadata": {},
   "outputs": [],
   "source": [
    "import math\n",
    "\n",
    "print(math.isclose(sum, 1))\n",
    "\n",
    "help(math.isclose)"
   ]
  },
  {
   "cell_type": "code",
   "execution_count": null,
   "metadata": {},
   "outputs": [],
   "source": [
    "import numpy as np\n",
    "\n",
    "a = np.array([i**3 for i in np.arange(0, 21)])\n",
    "\n",
    "print(a)\n",
    "\n",
    "print(type(a[0]))"
   ]
  },
  {
   "cell_type": "code",
   "execution_count": null,
   "metadata": {},
   "outputs": [],
   "source": [
    "# matrices\n",
    "a3 = np.array([[1,2], [3,4], [5,6]])\n",
    "print(a3)\n",
    "# query dimensions\n",
    "print(a3.shape)\n",
    "print(a3.ndim)\n",
    "print(\"rows:\", len(a3))\n",
    "print(\"columns:\", len(a3[0]))\n",
    "print(a3.dtype)\n",
    "print(a3.size)"
   ]
  },
  {
   "cell_type": "code",
   "execution_count": null,
   "metadata": {},
   "outputs": [],
   "source": [
    "a3[0, 0] == a3[0][0]"
   ]
  },
  {
   "cell_type": "code",
   "execution_count": null,
   "metadata": {},
   "outputs": [],
   "source": [
    "l1 = np.arange(0, 5)\n",
    "print(type(l1), l1)\n",
    "l2 = [i for i in range(0, 5)]\n",
    "print(type(l2), l2)"
   ]
  },
  {
   "cell_type": "code",
   "execution_count": null,
   "metadata": {},
   "outputs": [],
   "source": [
    "from functools import reduce\n",
    "\n",
    "la = [i for i in range(11)]\n",
    "\n",
    "print(list(filter(lambda x: x%2==0, la)))\n",
    "\n",
    "reduce(lambda x, y: x+y, map(lambda x: x**2, filter(lambda x: x%2==0, la)))"
   ]
  },
  {
   "cell_type": "code",
   "execution_count": null,
   "metadata": {},
   "outputs": [],
   "source": [
    "l = np.arange(1, 10).tolist()\n",
    "odd_values = list(filter(lambda x: x%2, l))\n",
    "print(odd_values)"
   ]
  },
  {
   "cell_type": "code",
   "execution_count": null,
   "metadata": {},
   "outputs": [],
   "source": [
    "import random\n",
    "new_list = list(map(lambda x: (random.choice([0, 1]), x), l))\n",
    "print(new_list)"
   ]
  },
  {
   "cell_type": "code",
   "execution_count": null,
   "metadata": {},
   "outputs": [],
   "source": [
    "data = list(map(lambda x: (random.choice([\"a\", \"b\", \"c\"]), round(x,2)), [i * random.random() for i in range(1, 11)]))\n",
    "print(data)"
   ]
  },
  {
   "cell_type": "code",
   "execution_count": null,
   "metadata": {},
   "outputs": [],
   "source": [
    "results = [[0], [0], [0]]\n",
    "\n",
    "for pair in data:\n",
    "    if pair[0] == \"a\":\n",
    "        results[0][0] += pair[1]\n",
    "    elif pair[0] == \"b\":\n",
    "        results[1][0] += pair[1]\n",
    "    else:\n",
    "        results[2][0] += pair[1]\n",
    "\n",
    "print(results)"
   ]
  },
  {
   "cell_type": "code",
   "execution_count": null,
   "metadata": {},
   "outputs": [],
   "source": [
    "a = 4.67834\n",
    "\n",
    "print(np.round(a, 0))\n",
    "print(round(a, 0))\n",
    "print(round(a))"
   ]
  },
  {
   "cell_type": "code",
   "execution_count": null,
   "metadata": {},
   "outputs": [],
   "source": [
    "print(type(type(4)))"
   ]
  },
  {
   "cell_type": "code",
   "execution_count": null,
   "metadata": {},
   "outputs": [],
   "source": [
    "tuple([i for i in range(10)])"
   ]
  },
  {
   "cell_type": "markdown",
   "metadata": {},
   "source": []
  },
  {
   "cell_type": "code",
   "execution_count": null,
   "metadata": {},
   "outputs": [],
   "source": [
    "import time\n",
    "current_time = time.localtime(time.time())\n",
    "print(current_time)"
   ]
  },
  {
   "cell_type": "code",
   "execution_count": null,
   "metadata": {},
   "outputs": [],
   "source": [
    "print('{:,}'.format(1112223334))\n"
   ]
  },
  {
   "cell_type": "code",
   "execution_count": null,
   "metadata": {},
   "outputs": [],
   "source": [
    "print(\"The mangy, scrawny stray dog %s gobbled down\" %'hurriedly' +\n",
    "      \"the grain-free, organic dog food.\")"
   ]
  },
  {
   "cell_type": "code",
   "execution_count": null,
   "metadata": {},
   "outputs": [],
   "source": [
    "X=\"san-foundry\"\n",
    "print(\"%56s\" %X)"
   ]
  },
  {
   "cell_type": "code",
   "execution_count": null,
   "metadata": {},
   "outputs": [],
   "source": [
    "x = 356\n",
    "\n",
    "print(\"%06d\"%x)"
   ]
  },
  {
   "cell_type": "code",
   "execution_count": null,
   "metadata": {},
   "outputs": [],
   "source": [
    "x=1234\n",
    "res='integers:...%d...%6d...%06d' %(x, x, x)\n",
    "res"
   ]
  },
  {
   "cell_type": "code",
   "execution_count": null,
   "metadata": {},
   "outputs": [],
   "source": [
    "x=1234\n",
    "res='integers:...%d...%-6d...%06d' %(x, x, x)\n",
    "res"
   ]
  },
  {
   "cell_type": "code",
   "execution_count": null,
   "metadata": {},
   "outputs": [],
   "source": [
    "x = 3.141\n",
    "\n",
    "print(\"{0:20.2f}\".format(x))"
   ]
  },
  {
   "cell_type": "code",
   "execution_count": null,
   "metadata": {},
   "outputs": [],
   "source": [
    "0.1 + 0.2"
   ]
  },
  {
   "cell_type": "code",
   "execution_count": null,
   "metadata": {},
   "outputs": [],
   "source": [
    "1.0 + 2.0"
   ]
  },
  {
   "cell_type": "code",
   "execution_count": null,
   "metadata": {},
   "outputs": [],
   "source": [
    "0 == (0.3 - 0.1 - 0.1 -0.1)"
   ]
  },
  {
   "cell_type": "code",
   "execution_count": null,
   "metadata": {},
   "outputs": [],
   "source": [
    "import numpy as np\n",
    "a3 = np.array([[1,2], [3,4], [5,6]])\n",
    "print(a3)\n",
    "# query dimensions\n",
    "print(a3.shape)\n",
    "print(a3.ndim)\n",
    "print(a3.dtype)\n",
    "print(a3.size)\n",
    "\n",
    "a3.ndim"
   ]
  },
  {
   "cell_type": "code",
   "execution_count": null,
   "metadata": {},
   "outputs": [],
   "source": [
    "a = np.array([0, 1, 2, 3, 4, 5, 6, 7])\n",
    "a = a.reshape(4,2)\n",
    "\n",
    "print(np.max(a, axis=0))\n",
    "print(np.max(a, axis=1))"
   ]
  },
  {
   "cell_type": "code",
   "execution_count": null,
   "metadata": {},
   "outputs": [],
   "source": [
    "np.arange(0, 2, 0.1)"
   ]
  },
  {
   "cell_type": "code",
   "execution_count": null,
   "metadata": {},
   "outputs": [],
   "source": [
    "(type(np.arange(0, 2, 0.2)))"
   ]
  },
  {
   "cell_type": "code",
   "execution_count": null,
   "metadata": {},
   "outputs": [],
   "source": [
    "print([[i+j for i in \"abc\"] for j in \"def\"])"
   ]
  },
  {
   "cell_type": "code",
   "execution_count": null,
   "metadata": {},
   "outputs": [],
   "source": [
    "result = []\n",
    "\n",
    "for j in \"def\":\n",
    "    temp = []\n",
    "    for i in \"abc\":\n",
    "        temp.append(i + j)\n",
    "    result.append(temp)\n",
    "\n",
    "print(result)"
   ]
  },
  {
   "cell_type": "code",
   "execution_count": null,
   "metadata": {},
   "outputs": [],
   "source": [
    "la = [i for i in range(0, 11)]\n",
    "\n",
    "lb = sum(map(lambda x: x**2, list(filter(lambda x: x%2 == 0, la))))\n",
    "\n",
    "print(lb)"
   ]
  },
  {
   "cell_type": "code",
   "execution_count": null,
   "metadata": {},
   "outputs": [],
   "source": [
    "class A:\n",
    "    def __init__(self):\n",
    "        self.__x = 1\n",
    "class B(A):\n",
    "    def display(self):\n",
    "        print(self.__x)\n",
    "def main():\n",
    "    obj1 = B()\n",
    "    obj2 = B()\n",
    "    obj3 = A()\n",
    "\n",
    "    s = {obj1, obj2, obj3}\n",
    "\n",
    "    print(s)\n",
    "main()\n",
    "\n"
   ]
  },
  {
   "cell_type": "code",
   "execution_count": null,
   "metadata": {},
   "outputs": [],
   "source": [
    "class MyClass:\n",
    "    def __init__(self, value):\n",
    "        self.value = value\n",
    "\n",
    "    # def __hash__(self):\n",
    "    #     return hash(self.value)\n",
    "\n",
    "    # def __eq__(self, other):\n",
    "    #     return isinstance(other, MyClass) and self.value == other.value\n",
    "\n",
    "# Create instances of MyClass\n",
    "obj1 = MyClass(1)\n",
    "obj2 = MyClass(2)\n",
    "obj3 = MyClass(1)\n",
    "\n",
    "# Create a set and add instances to it\n",
    "my_set = {obj1, obj2, obj3}\n",
    "\n",
    "print(my_set)  # Output: {MyClass(1), MyClass(2)}\n"
   ]
  },
  {
   "cell_type": "code",
   "execution_count": null,
   "metadata": {},
   "outputs": [],
   "source": [
    "class Demo:\n",
    "    def __check(self):\n",
    "        return \" Demo's check \"\n",
    "    def display(self):\n",
    "        print(self.__check())\n",
    "class Demo_Derived(Demo):\n",
    "    def __check(self):\n",
    "        return \" Derived's check \"\n",
    "Demo().display()\n",
    "Demo_Derived().display()"
   ]
  },
  {
   "cell_type": "code",
   "execution_count": null,
   "metadata": {},
   "outputs": [],
   "source": [
    "class Demo:\n",
    "    def __check(self):\n",
    "        return \" Demo's check \"\n",
    "    def display(self):\n",
    "        print(self.__check())\n",
    "class Demo_Derived(Demo):\n",
    "    def display(self):\n",
    "        print(self.__check())\n",
    "    def __check(self):\n",
    "        return \" Derived's check \"\n",
    "Demo().display()\n",
    "Demo_Derived().display()"
   ]
  },
  {
   "cell_type": "code",
   "execution_count": null,
   "metadata": {},
   "outputs": [],
   "source": [
    "a=list(((45, 0), (45, 0), (45, 0), (45, 0), (45, 0) ))\n",
    "print((45)*4)\n",
    "print(a)"
   ]
  },
  {
   "cell_type": "code",
   "execution_count": null,
   "metadata": {},
   "outputs": [],
   "source": [
    "a=list((45,)*4)\n",
    "print((45)*4)\n",
    "print(a)\n"
   ]
  },
  {
   "cell_type": "code",
   "execution_count": null,
   "metadata": {},
   "outputs": [],
   "source": [
    "lst=[[1,2],[3,4]]\n",
    "print(sum(lst, []))"
   ]
  },
  {
   "cell_type": "code",
   "execution_count": null,
   "metadata": {},
   "outputs": [],
   "source": [
    "my_set = {2, 3, 4, 5, 1}\n",
    "removed_element = my_set.pop()\n",
    "print(removed_element)  # Output: This could be any element from the set\n",
    "print(my_set)   "
   ]
  },
  {
   "cell_type": "code",
   "execution_count": null,
   "metadata": {},
   "outputs": [],
   "source": [
    "x = 56.236\n",
    "print(f\"{x: .2f} %\")"
   ]
  },
  {
   "cell_type": "code",
   "execution_count": null,
   "metadata": {},
   "outputs": [],
   "source": [
    "x = 1\n",
    "print(bin(x >> 2))"
   ]
  },
  {
   "cell_type": "code",
   "execution_count": 191,
   "metadata": {},
   "outputs": [
    {
     "ename": "NameError",
     "evalue": "name 'hallo' is not defined",
     "output_type": "error",
     "traceback": [
      "\u001b[1;31m---------------------------------------------------------------------------\u001b[0m",
      "\u001b[1;31mNameError\u001b[0m                                 Traceback (most recent call last)",
      "Cell \u001b[1;32mIn[191], line 1\u001b[0m\n\u001b[1;32m----> 1\u001b[0m str1 \u001b[38;5;241m=\u001b[39m \u001b[38;5;28mstr\u001b[39m(\u001b[43mhallo\u001b[49m)\n",
      "\u001b[1;31mNameError\u001b[0m: name 'hallo' is not defined"
     ]
    }
   ],
   "source": [
    "str1 = str(hallo)"
   ]
  },
  {
   "cell_type": "code",
   "execution_count": 193,
   "metadata": {},
   "outputs": [
    {
     "name": "stdout",
     "output_type": "stream",
     "text": [
      "None\n"
     ]
    }
   ],
   "source": [
    "def func():\n",
    "    pass\n",
    "\n",
    "print(func())"
   ]
  },
  {
   "cell_type": "code",
   "execution_count": 195,
   "metadata": {},
   "outputs": [
    {
     "name": "stdout",
     "output_type": "stream",
     "text": [
      "[10, 20]\n",
      "[10, 20, 30, 40]\n"
     ]
    }
   ],
   "source": [
    "a = [10, 20]\n",
    "b = a\n",
    "b = b + [30, 40]\n",
    "print(a)\n",
    "print(b)"
   ]
  },
  {
   "cell_type": "code",
   "execution_count": 197,
   "metadata": {},
   "outputs": [
    {
     "name": "stdout",
     "output_type": "stream",
     "text": [
      "50\n"
     ]
    }
   ],
   "source": [
    "x = 100\n",
    "y = 50\n",
    "print(x and y)"
   ]
  },
  {
   "cell_type": "code",
   "execution_count": 198,
   "metadata": {},
   "outputs": [
    {
     "name": "stdout",
     "output_type": "stream",
     "text": [
      "<class 'str'>\n"
     ]
    }
   ],
   "source": [
    "c = 'c'\n",
    "\n",
    "print(type(c))"
   ]
  },
  {
   "cell_type": "code",
   "execution_count": 202,
   "metadata": {},
   "outputs": [
    {
     "name": "stdout",
     "output_type": "stream",
     "text": [
      "Hello-Python\n"
     ]
    }
   ],
   "source": [
    "my_list = [\"Hello\", \"Python\"]\n",
    "print(\"-\".join(my_list))"
   ]
  },
  {
   "cell_type": "code",
   "execution_count": null,
   "metadata": {},
   "outputs": [],
   "source": []
  }
 ],
 "metadata": {
  "kernelspec": {
   "display_name": "Python 3",
   "language": "python",
   "name": "python3"
  },
  "language_info": {
   "codemirror_mode": {
    "name": "ipython",
    "version": 3
   },
   "file_extension": ".py",
   "mimetype": "text/x-python",
   "name": "python",
   "nbconvert_exporter": "python",
   "pygments_lexer": "ipython3",
   "version": "3.11.6"
  }
 },
 "nbformat": 4,
 "nbformat_minor": 2
}
