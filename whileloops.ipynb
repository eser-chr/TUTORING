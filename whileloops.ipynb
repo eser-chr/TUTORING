{
 "cells": [
  {
   "cell_type": "code",
   "execution_count": 1,
   "metadata": {},
   "outputs": [],
   "source": [
    "# Here the trick is based on datatypes. \n",
    "# 1)Ensure that actually the loop terminates "
   ]
  },
  {
   "cell_type": "code",
   "execution_count": 3,
   "metadata": {},
   "outputs": [],
   "source": [
    "def do_stuff():\n",
    "    pass"
   ]
  },
  {
   "cell_type": "code",
   "execution_count": 1,
   "metadata": {},
   "outputs": [
    {
     "ename": "NameError",
     "evalue": "name 'do_stuff' is not defined",
     "output_type": "error",
     "traceback": [
      "\u001b[0;31m---------------------------------------------------------------------------\u001b[0m",
      "\u001b[0;31mNameError\u001b[0m                                 Traceback (most recent call last)",
      "Cell \u001b[0;32mIn[1], line 5\u001b[0m\n\u001b[1;32m      2\u001b[0m \u001b[38;5;66;03m# This loop does not terminate!!!\u001b[39;00m\n\u001b[1;32m      3\u001b[0m \u001b[38;5;66;03m# Because after first iteration i becomes a float and then we have floating precision\u001b[39;00m\n\u001b[1;32m      4\u001b[0m \u001b[38;5;28;01mwhile\u001b[39;00m i\u001b[38;5;241m>\u001b[39m\u001b[38;5;241m=\u001b[39m\u001b[38;5;241m0\u001b[39m:\n\u001b[0;32m----> 5\u001b[0m     \u001b[43mdo_stuff\u001b[49m()\n\u001b[1;32m      6\u001b[0m     \u001b[38;5;28mprint\u001b[39m(i)\n\u001b[1;32m      7\u001b[0m     i\u001b[38;5;241m-\u001b[39m\u001b[38;5;241m=\u001b[39m\u001b[38;5;241m0.2\u001b[39m\n",
      "\u001b[0;31mNameError\u001b[0m: name 'do_stuff' is not defined"
     ]
    }
   ],
   "source": [
    "i = 1\n",
    "# This loop does not terminate!!!\n",
    "# Because after first iteration i becomes a float and then we have floating precision\n",
    "while i>=0:\n",
    "    do_stuff()\n",
    "    print(i)\n",
    "    i-=0.2"
   ]
  },
  {
   "cell_type": "code",
   "execution_count": 5,
   "metadata": {},
   "outputs": [
    {
     "name": "stdout",
     "output_type": "stream",
     "text": [
      "1\n",
      "0.8\n",
      "0.6000000000000001\n",
      "0.4000000000000001\n",
      "0.20000000000000007\n",
      "5.551115123125783e-17\n"
     ]
    }
   ],
   "source": [
    "i = 1\n",
    "# But now it terminates\n",
    "while i!=0:\n",
    "    do_stuff()\n",
    "    print(i)\n",
    "    i-=0.2"
   ]
  },
  {
   "cell_type": "code",
   "execution_count": null,
   "metadata": {},
   "outputs": [],
   "source": [
    "# or be sure that he actually mentions the increament \n",
    "# e.g\n",
    "i = 1\n",
    "while i>=0:\n",
    "    do_stuff()\n",
    "    print(i)\n",
    "\n",
    "# It will print 1 forever\n",
    "\n"
   ]
  },
  {
   "cell_type": "code",
   "execution_count": 6,
   "metadata": {},
   "outputs": [
    {
     "name": "stdout",
     "output_type": "stream",
     "text": [
      "1716814228.3864782\n",
      "1716814229.3915148\n",
      "1716814230.396669\n",
      "1716814231.401806\n",
      "1716814232.403438\n"
     ]
    }
   ],
   "source": [
    "# Another wuestion might be to exit a loop based on an inner statement\n",
    "# Usually thats how games operate\n",
    "from time import time, sleep\n",
    "start = time()\n",
    "\n",
    "while True: # Basically loop forever\n",
    "    do_stuff()\n",
    "    if(time()-start>=5):\n",
    "        break\n",
    "    else:\n",
    "        print(time())\n",
    "        sleep(1)\n"
   ]
  },
  {
   "cell_type": "code",
   "execution_count": null,
   "metadata": {},
   "outputs": [],
   "source": []
  }
 ],
 "metadata": {
  "kernelspec": {
   "display_name": "Python 3",
   "language": "python",
   "name": "python3"
  },
  "language_info": {
   "codemirror_mode": {
    "name": "ipython",
    "version": 3
   },
   "file_extension": ".py",
   "mimetype": "text/x-python",
   "name": "python",
   "nbconvert_exporter": "python",
   "pygments_lexer": "ipython3",
   "version": "3.11.6"
  }
 },
 "nbformat": 4,
 "nbformat_minor": 2
}
